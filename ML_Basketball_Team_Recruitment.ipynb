{
 "cells": [
  {
   "cell_type": "code",
   "execution_count": 141,
   "metadata": {},
   "outputs": [],
   "source": [
    "import numpy as np\n",
    "import pandas as pd\n",
    "import seaborn as sns\n",
    "import matplotlib.pyplot as plt\n",
    "\n",
    "from sklearn.preprocessing import StandardScaler\n",
    "from sklearn.model_selection import RandomizedSearchCV, GridSearchCV\n",
    "from sklearn.model_selection import train_test_split\n",
    "from sklearn.tree import DecisionTreeClassifier\n",
    "from sklearn import tree\n",
    "from sklearn.ensemble import RandomForestClassifier\n",
    "from sklearn.ensemble import GradientBoostingClassifier\n",
    "\n",
    "from sklearn.metrics import roc_curve, auc, confusion_matrix, classification_report, plot_confusion_matrix\n",
    "from sklearn.metrics import f1_score, accuracy_score, precision_score, recall_score, roc_auc_score\n",
    "\n",
    "from imblearn.over_sampling import RandomOverSampler, SMOTE\n",
    "from imblearn.under_sampling import RandomUnderSampler"
   ]
  },
  {
   "cell_type": "code",
   "execution_count": 2,
   "metadata": {},
   "outputs": [
    {
     "data": {
      "text/html": [
       "<div>\n",
       "<style scoped>\n",
       "    .dataframe tbody tr th:only-of-type {\n",
       "        vertical-align: middle;\n",
       "    }\n",
       "\n",
       "    .dataframe tbody tr th {\n",
       "        vertical-align: top;\n",
       "    }\n",
       "\n",
       "    .dataframe thead th {\n",
       "        text-align: right;\n",
       "    }\n",
       "</style>\n",
       "<table border=\"1\" class=\"dataframe\">\n",
       "  <thead>\n",
       "    <tr style=\"text-align: right;\">\n",
       "      <th></th>\n",
       "      <th>Unnamed: 0</th>\n",
       "      <th>Unnamed: 0.1</th>\n",
       "      <th>player_name</th>\n",
       "      <th>team_abbreviation</th>\n",
       "      <th>age</th>\n",
       "      <th>player_height</th>\n",
       "      <th>player_weight</th>\n",
       "      <th>college</th>\n",
       "      <th>country</th>\n",
       "      <th>draft_year</th>\n",
       "      <th>...</th>\n",
       "      <th>reb</th>\n",
       "      <th>ast</th>\n",
       "      <th>net_rating</th>\n",
       "      <th>oreb_pct</th>\n",
       "      <th>dreb_pct</th>\n",
       "      <th>usg_pct</th>\n",
       "      <th>ts_pct</th>\n",
       "      <th>ast_pct</th>\n",
       "      <th>season</th>\n",
       "      <th>potential_player</th>\n",
       "    </tr>\n",
       "  </thead>\n",
       "  <tbody>\n",
       "    <tr>\n",
       "      <th>0</th>\n",
       "      <td>0</td>\n",
       "      <td>0</td>\n",
       "      <td>Dennis Rodman</td>\n",
       "      <td>CHI</td>\n",
       "      <td>36.0</td>\n",
       "      <td>198.12</td>\n",
       "      <td>99.790240</td>\n",
       "      <td>Southeastern Oklahoma State</td>\n",
       "      <td>USA</td>\n",
       "      <td>1986</td>\n",
       "      <td>...</td>\n",
       "      <td>16.1</td>\n",
       "      <td>3.1</td>\n",
       "      <td>16.1</td>\n",
       "      <td>0.186</td>\n",
       "      <td>0.323</td>\n",
       "      <td>0.100</td>\n",
       "      <td>0.479</td>\n",
       "      <td>0.113</td>\n",
       "      <td>1996-97</td>\n",
       "      <td>0</td>\n",
       "    </tr>\n",
       "    <tr>\n",
       "      <th>1</th>\n",
       "      <td>1</td>\n",
       "      <td>1</td>\n",
       "      <td>Dwayne Schintzius</td>\n",
       "      <td>LAC</td>\n",
       "      <td>28.0</td>\n",
       "      <td>215.90</td>\n",
       "      <td>117.933920</td>\n",
       "      <td>Florida</td>\n",
       "      <td>USA</td>\n",
       "      <td>1990</td>\n",
       "      <td>...</td>\n",
       "      <td>1.5</td>\n",
       "      <td>0.3</td>\n",
       "      <td>12.3</td>\n",
       "      <td>0.078</td>\n",
       "      <td>0.151</td>\n",
       "      <td>0.175</td>\n",
       "      <td>0.430</td>\n",
       "      <td>0.048</td>\n",
       "      <td>1996-97</td>\n",
       "      <td>0</td>\n",
       "    </tr>\n",
       "    <tr>\n",
       "      <th>2</th>\n",
       "      <td>2</td>\n",
       "      <td>2</td>\n",
       "      <td>Earl Cureton</td>\n",
       "      <td>TOR</td>\n",
       "      <td>39.0</td>\n",
       "      <td>205.74</td>\n",
       "      <td>95.254320</td>\n",
       "      <td>Detroit Mercy</td>\n",
       "      <td>USA</td>\n",
       "      <td>1979</td>\n",
       "      <td>...</td>\n",
       "      <td>1.0</td>\n",
       "      <td>0.4</td>\n",
       "      <td>-2.1</td>\n",
       "      <td>0.105</td>\n",
       "      <td>0.102</td>\n",
       "      <td>0.103</td>\n",
       "      <td>0.376</td>\n",
       "      <td>0.148</td>\n",
       "      <td>1996-97</td>\n",
       "      <td>0</td>\n",
       "    </tr>\n",
       "    <tr>\n",
       "      <th>3</th>\n",
       "      <td>3</td>\n",
       "      <td>3</td>\n",
       "      <td>Ed O'Bannon</td>\n",
       "      <td>DAL</td>\n",
       "      <td>24.0</td>\n",
       "      <td>203.20</td>\n",
       "      <td>100.697424</td>\n",
       "      <td>UCLA</td>\n",
       "      <td>USA</td>\n",
       "      <td>1995</td>\n",
       "      <td>...</td>\n",
       "      <td>2.3</td>\n",
       "      <td>0.6</td>\n",
       "      <td>-8.7</td>\n",
       "      <td>0.060</td>\n",
       "      <td>0.149</td>\n",
       "      <td>0.167</td>\n",
       "      <td>0.399</td>\n",
       "      <td>0.077</td>\n",
       "      <td>1996-97</td>\n",
       "      <td>0</td>\n",
       "    </tr>\n",
       "    <tr>\n",
       "      <th>4</th>\n",
       "      <td>4</td>\n",
       "      <td>4</td>\n",
       "      <td>Ed Pinckney</td>\n",
       "      <td>MIA</td>\n",
       "      <td>34.0</td>\n",
       "      <td>205.74</td>\n",
       "      <td>108.862080</td>\n",
       "      <td>Villanova</td>\n",
       "      <td>USA</td>\n",
       "      <td>1985</td>\n",
       "      <td>...</td>\n",
       "      <td>2.4</td>\n",
       "      <td>0.2</td>\n",
       "      <td>-11.2</td>\n",
       "      <td>0.109</td>\n",
       "      <td>0.179</td>\n",
       "      <td>0.127</td>\n",
       "      <td>0.611</td>\n",
       "      <td>0.040</td>\n",
       "      <td>1996-97</td>\n",
       "      <td>0</td>\n",
       "    </tr>\n",
       "    <tr>\n",
       "      <th>...</th>\n",
       "      <td>...</td>\n",
       "      <td>...</td>\n",
       "      <td>...</td>\n",
       "      <td>...</td>\n",
       "      <td>...</td>\n",
       "      <td>...</td>\n",
       "      <td>...</td>\n",
       "      <td>...</td>\n",
       "      <td>...</td>\n",
       "      <td>...</td>\n",
       "      <td>...</td>\n",
       "      <td>...</td>\n",
       "      <td>...</td>\n",
       "      <td>...</td>\n",
       "      <td>...</td>\n",
       "      <td>...</td>\n",
       "      <td>...</td>\n",
       "      <td>...</td>\n",
       "      <td>...</td>\n",
       "      <td>...</td>\n",
       "      <td>...</td>\n",
       "    </tr>\n",
       "    <tr>\n",
       "      <th>11140</th>\n",
       "      <td>11140</td>\n",
       "      <td>11140</td>\n",
       "      <td>Maxi Kleber</td>\n",
       "      <td>DAL</td>\n",
       "      <td>28.0</td>\n",
       "      <td>208.28</td>\n",
       "      <td>108.862080</td>\n",
       "      <td>None</td>\n",
       "      <td>Germany</td>\n",
       "      <td>Undrafted</td>\n",
       "      <td>...</td>\n",
       "      <td>5.4</td>\n",
       "      <td>1.1</td>\n",
       "      <td>4.6</td>\n",
       "      <td>0.056</td>\n",
       "      <td>0.140</td>\n",
       "      <td>0.136</td>\n",
       "      <td>0.605</td>\n",
       "      <td>0.064</td>\n",
       "      <td>2019-20</td>\n",
       "      <td>0</td>\n",
       "    </tr>\n",
       "    <tr>\n",
       "      <th>11141</th>\n",
       "      <td>11141</td>\n",
       "      <td>11141</td>\n",
       "      <td>Melvin Frazier Jr.</td>\n",
       "      <td>ORL</td>\n",
       "      <td>23.0</td>\n",
       "      <td>195.58</td>\n",
       "      <td>97.522280</td>\n",
       "      <td>Tulane</td>\n",
       "      <td>USA</td>\n",
       "      <td>2018</td>\n",
       "      <td>...</td>\n",
       "      <td>0.3</td>\n",
       "      <td>0.1</td>\n",
       "      <td>-2.4</td>\n",
       "      <td>0.018</td>\n",
       "      <td>0.058</td>\n",
       "      <td>0.164</td>\n",
       "      <td>0.480</td>\n",
       "      <td>0.033</td>\n",
       "      <td>2019-20</td>\n",
       "      <td>0</td>\n",
       "    </tr>\n",
       "    <tr>\n",
       "      <th>11142</th>\n",
       "      <td>11142</td>\n",
       "      <td>11142</td>\n",
       "      <td>Meyers Leonard</td>\n",
       "      <td>MIA</td>\n",
       "      <td>28.0</td>\n",
       "      <td>213.36</td>\n",
       "      <td>117.933920</td>\n",
       "      <td>Illinois</td>\n",
       "      <td>USA</td>\n",
       "      <td>2012</td>\n",
       "      <td>...</td>\n",
       "      <td>5.1</td>\n",
       "      <td>1.1</td>\n",
       "      <td>5.6</td>\n",
       "      <td>0.029</td>\n",
       "      <td>0.217</td>\n",
       "      <td>0.120</td>\n",
       "      <td>0.640</td>\n",
       "      <td>0.076</td>\n",
       "      <td>2019-20</td>\n",
       "      <td>0</td>\n",
       "    </tr>\n",
       "    <tr>\n",
       "      <th>11143</th>\n",
       "      <td>11143</td>\n",
       "      <td>11143</td>\n",
       "      <td>Norvel Pelle</td>\n",
       "      <td>PHI</td>\n",
       "      <td>27.0</td>\n",
       "      <td>208.28</td>\n",
       "      <td>104.779752</td>\n",
       "      <td>None</td>\n",
       "      <td>USA</td>\n",
       "      <td>Undrafted</td>\n",
       "      <td>...</td>\n",
       "      <td>3.0</td>\n",
       "      <td>0.4</td>\n",
       "      <td>-16.4</td>\n",
       "      <td>0.085</td>\n",
       "      <td>0.237</td>\n",
       "      <td>0.126</td>\n",
       "      <td>0.521</td>\n",
       "      <td>0.056</td>\n",
       "      <td>2019-20</td>\n",
       "      <td>0</td>\n",
       "    </tr>\n",
       "    <tr>\n",
       "      <th>11144</th>\n",
       "      <td>11144</td>\n",
       "      <td>11144</td>\n",
       "      <td>Matt Thomas</td>\n",
       "      <td>TOR</td>\n",
       "      <td>25.0</td>\n",
       "      <td>193.04</td>\n",
       "      <td>86.182480</td>\n",
       "      <td>Iowa State</td>\n",
       "      <td>USA</td>\n",
       "      <td>Undrafted</td>\n",
       "      <td>...</td>\n",
       "      <td>1.4</td>\n",
       "      <td>0.5</td>\n",
       "      <td>1.0</td>\n",
       "      <td>0.017</td>\n",
       "      <td>0.104</td>\n",
       "      <td>0.149</td>\n",
       "      <td>0.663</td>\n",
       "      <td>0.089</td>\n",
       "      <td>2019-20</td>\n",
       "      <td>0</td>\n",
       "    </tr>\n",
       "  </tbody>\n",
       "</table>\n",
       "<p>11145 rows × 24 columns</p>\n",
       "</div>"
      ],
      "text/plain": [
       "       Unnamed: 0  Unnamed: 0.1         player_name team_abbreviation   age  \\\n",
       "0               0             0       Dennis Rodman               CHI  36.0   \n",
       "1               1             1   Dwayne Schintzius               LAC  28.0   \n",
       "2               2             2        Earl Cureton               TOR  39.0   \n",
       "3               3             3         Ed O'Bannon               DAL  24.0   \n",
       "4               4             4         Ed Pinckney               MIA  34.0   \n",
       "...           ...           ...                 ...               ...   ...   \n",
       "11140       11140         11140         Maxi Kleber               DAL  28.0   \n",
       "11141       11141         11141  Melvin Frazier Jr.               ORL  23.0   \n",
       "11142       11142         11142      Meyers Leonard               MIA  28.0   \n",
       "11143       11143         11143        Norvel Pelle               PHI  27.0   \n",
       "11144       11144         11144         Matt Thomas               TOR  25.0   \n",
       "\n",
       "       player_height  player_weight                      college  country  \\\n",
       "0             198.12      99.790240  Southeastern Oklahoma State      USA   \n",
       "1             215.90     117.933920                      Florida      USA   \n",
       "2             205.74      95.254320                Detroit Mercy      USA   \n",
       "3             203.20     100.697424                         UCLA      USA   \n",
       "4             205.74     108.862080                    Villanova      USA   \n",
       "...              ...            ...                          ...      ...   \n",
       "11140         208.28     108.862080                         None  Germany   \n",
       "11141         195.58      97.522280                       Tulane      USA   \n",
       "11142         213.36     117.933920                     Illinois      USA   \n",
       "11143         208.28     104.779752                         None      USA   \n",
       "11144         193.04      86.182480                   Iowa State      USA   \n",
       "\n",
       "      draft_year  ...   reb  ast  net_rating  oreb_pct  dreb_pct  usg_pct  \\\n",
       "0           1986  ...  16.1  3.1        16.1     0.186     0.323    0.100   \n",
       "1           1990  ...   1.5  0.3        12.3     0.078     0.151    0.175   \n",
       "2           1979  ...   1.0  0.4        -2.1     0.105     0.102    0.103   \n",
       "3           1995  ...   2.3  0.6        -8.7     0.060     0.149    0.167   \n",
       "4           1985  ...   2.4  0.2       -11.2     0.109     0.179    0.127   \n",
       "...          ...  ...   ...  ...         ...       ...       ...      ...   \n",
       "11140  Undrafted  ...   5.4  1.1         4.6     0.056     0.140    0.136   \n",
       "11141       2018  ...   0.3  0.1        -2.4     0.018     0.058    0.164   \n",
       "11142       2012  ...   5.1  1.1         5.6     0.029     0.217    0.120   \n",
       "11143  Undrafted  ...   3.0  0.4       -16.4     0.085     0.237    0.126   \n",
       "11144  Undrafted  ...   1.4  0.5         1.0     0.017     0.104    0.149   \n",
       "\n",
       "       ts_pct  ast_pct   season  potential_player  \n",
       "0       0.479    0.113  1996-97                 0  \n",
       "1       0.430    0.048  1996-97                 0  \n",
       "2       0.376    0.148  1996-97                 0  \n",
       "3       0.399    0.077  1996-97                 0  \n",
       "4       0.611    0.040  1996-97                 0  \n",
       "...       ...      ...      ...               ...  \n",
       "11140   0.605    0.064  2019-20                 0  \n",
       "11141   0.480    0.033  2019-20                 0  \n",
       "11142   0.640    0.076  2019-20                 0  \n",
       "11143   0.521    0.056  2019-20                 0  \n",
       "11144   0.663    0.089  2019-20                 0  \n",
       "\n",
       "[11145 rows x 24 columns]"
      ]
     },
     "execution_count": 2,
     "metadata": {},
     "output_type": "execute_result"
    }
   ],
   "source": [
    "dfa = pd.read_csv('nba_players.csv')\n",
    "dfa"
   ]
  },
  {
   "cell_type": "code",
   "execution_count": 3,
   "metadata": {},
   "outputs": [
    {
     "name": "stdout",
     "output_type": "stream",
     "text": [
      "<class 'pandas.core.frame.DataFrame'>\n",
      "RangeIndex: 11145 entries, 0 to 11144\n",
      "Data columns (total 24 columns):\n",
      " #   Column             Non-Null Count  Dtype  \n",
      "---  ------             --------------  -----  \n",
      " 0   Unnamed: 0         11145 non-null  int64  \n",
      " 1   Unnamed: 0.1       11145 non-null  int64  \n",
      " 2   player_name        11145 non-null  object \n",
      " 3   team_abbreviation  11145 non-null  object \n",
      " 4   age                11145 non-null  float64\n",
      " 5   player_height      11145 non-null  float64\n",
      " 6   player_weight      11145 non-null  float64\n",
      " 7   college            11145 non-null  object \n",
      " 8   country            11145 non-null  object \n",
      " 9   draft_year         11145 non-null  object \n",
      " 10  draft_round        11145 non-null  object \n",
      " 11  draft_number       11145 non-null  object \n",
      " 12  gp                 11145 non-null  int64  \n",
      " 13  pts                11145 non-null  float64\n",
      " 14  reb                11145 non-null  float64\n",
      " 15  ast                11145 non-null  float64\n",
      " 16  net_rating         11145 non-null  float64\n",
      " 17  oreb_pct           11145 non-null  float64\n",
      " 18  dreb_pct           11145 non-null  float64\n",
      " 19  usg_pct            11145 non-null  float64\n",
      " 20  ts_pct             11145 non-null  float64\n",
      " 21  ast_pct            11145 non-null  float64\n",
      " 22  season             11145 non-null  object \n",
      " 23  potential_player   11145 non-null  int64  \n",
      "dtypes: float64(12), int64(4), object(8)\n",
      "memory usage: 2.0+ MB\n"
     ]
    }
   ],
   "source": [
    "dfa.info()"
   ]
  },
  {
   "cell_type": "code",
   "execution_count": 4,
   "metadata": {},
   "outputs": [
    {
     "data": {
      "text/html": [
       "<div>\n",
       "<style scoped>\n",
       "    .dataframe tbody tr th:only-of-type {\n",
       "        vertical-align: middle;\n",
       "    }\n",
       "\n",
       "    .dataframe tbody tr th {\n",
       "        vertical-align: top;\n",
       "    }\n",
       "\n",
       "    .dataframe thead th {\n",
       "        text-align: right;\n",
       "    }\n",
       "</style>\n",
       "<table border=\"1\" class=\"dataframe\">\n",
       "  <thead>\n",
       "    <tr style=\"text-align: right;\">\n",
       "      <th></th>\n",
       "      <th>Unnamed: 0</th>\n",
       "      <th>Unnamed: 0.1</th>\n",
       "      <th>age</th>\n",
       "      <th>player_height</th>\n",
       "      <th>player_weight</th>\n",
       "      <th>gp</th>\n",
       "      <th>pts</th>\n",
       "      <th>reb</th>\n",
       "      <th>ast</th>\n",
       "      <th>net_rating</th>\n",
       "      <th>oreb_pct</th>\n",
       "      <th>dreb_pct</th>\n",
       "      <th>usg_pct</th>\n",
       "      <th>ts_pct</th>\n",
       "      <th>ast_pct</th>\n",
       "      <th>potential_player</th>\n",
       "    </tr>\n",
       "  </thead>\n",
       "  <tbody>\n",
       "    <tr>\n",
       "      <th>count</th>\n",
       "      <td>11145.000000</td>\n",
       "      <td>11145.000000</td>\n",
       "      <td>11145.000000</td>\n",
       "      <td>11145.000000</td>\n",
       "      <td>11145.000000</td>\n",
       "      <td>11145.000000</td>\n",
       "      <td>11145.000000</td>\n",
       "      <td>11145.000000</td>\n",
       "      <td>11145.000000</td>\n",
       "      <td>11145.000000</td>\n",
       "      <td>11145.000000</td>\n",
       "      <td>11145.000000</td>\n",
       "      <td>11145.000000</td>\n",
       "      <td>11145.000000</td>\n",
       "      <td>11145.000000</td>\n",
       "      <td>11145.000000</td>\n",
       "    </tr>\n",
       "    <tr>\n",
       "      <th>mean</th>\n",
       "      <td>5572.000000</td>\n",
       "      <td>5572.000000</td>\n",
       "      <td>27.168686</td>\n",
       "      <td>200.812818</td>\n",
       "      <td>100.637868</td>\n",
       "      <td>52.005832</td>\n",
       "      <td>8.126487</td>\n",
       "      <td>3.560036</td>\n",
       "      <td>1.801463</td>\n",
       "      <td>-2.153899</td>\n",
       "      <td>0.055593</td>\n",
       "      <td>0.141772</td>\n",
       "      <td>0.185599</td>\n",
       "      <td>0.508099</td>\n",
       "      <td>0.131078</td>\n",
       "      <td>0.040825</td>\n",
       "    </tr>\n",
       "    <tr>\n",
       "      <th>std</th>\n",
       "      <td>3217.428709</td>\n",
       "      <td>3217.428709</td>\n",
       "      <td>4.344164</td>\n",
       "      <td>9.190973</td>\n",
       "      <td>12.576295</td>\n",
       "      <td>25.069495</td>\n",
       "      <td>5.935482</td>\n",
       "      <td>2.495394</td>\n",
       "      <td>1.789940</td>\n",
       "      <td>12.150611</td>\n",
       "      <td>0.043889</td>\n",
       "      <td>0.063194</td>\n",
       "      <td>0.053047</td>\n",
       "      <td>0.098879</td>\n",
       "      <td>0.095017</td>\n",
       "      <td>0.197895</td>\n",
       "    </tr>\n",
       "    <tr>\n",
       "      <th>min</th>\n",
       "      <td>0.000000</td>\n",
       "      <td>0.000000</td>\n",
       "      <td>18.000000</td>\n",
       "      <td>160.020000</td>\n",
       "      <td>60.327736</td>\n",
       "      <td>1.000000</td>\n",
       "      <td>0.000000</td>\n",
       "      <td>0.000000</td>\n",
       "      <td>0.000000</td>\n",
       "      <td>-200.000000</td>\n",
       "      <td>0.000000</td>\n",
       "      <td>0.000000</td>\n",
       "      <td>0.000000</td>\n",
       "      <td>0.000000</td>\n",
       "      <td>0.000000</td>\n",
       "      <td>0.000000</td>\n",
       "    </tr>\n",
       "    <tr>\n",
       "      <th>25%</th>\n",
       "      <td>2786.000000</td>\n",
       "      <td>2786.000000</td>\n",
       "      <td>24.000000</td>\n",
       "      <td>195.580000</td>\n",
       "      <td>90.718400</td>\n",
       "      <td>32.000000</td>\n",
       "      <td>3.500000</td>\n",
       "      <td>1.800000</td>\n",
       "      <td>0.600000</td>\n",
       "      <td>-6.300000</td>\n",
       "      <td>0.022000</td>\n",
       "      <td>0.096000</td>\n",
       "      <td>0.150000</td>\n",
       "      <td>0.478000</td>\n",
       "      <td>0.065000</td>\n",
       "      <td>0.000000</td>\n",
       "    </tr>\n",
       "    <tr>\n",
       "      <th>50%</th>\n",
       "      <td>5572.000000</td>\n",
       "      <td>5572.000000</td>\n",
       "      <td>27.000000</td>\n",
       "      <td>200.660000</td>\n",
       "      <td>99.790240</td>\n",
       "      <td>58.000000</td>\n",
       "      <td>6.600000</td>\n",
       "      <td>3.000000</td>\n",
       "      <td>1.200000</td>\n",
       "      <td>-1.300000</td>\n",
       "      <td>0.043000</td>\n",
       "      <td>0.132000</td>\n",
       "      <td>0.182000</td>\n",
       "      <td>0.521000</td>\n",
       "      <td>0.102000</td>\n",
       "      <td>0.000000</td>\n",
       "    </tr>\n",
       "    <tr>\n",
       "      <th>75%</th>\n",
       "      <td>8358.000000</td>\n",
       "      <td>8358.000000</td>\n",
       "      <td>30.000000</td>\n",
       "      <td>208.280000</td>\n",
       "      <td>109.315672</td>\n",
       "      <td>74.000000</td>\n",
       "      <td>11.500000</td>\n",
       "      <td>4.700000</td>\n",
       "      <td>2.400000</td>\n",
       "      <td>3.200000</td>\n",
       "      <td>0.086000</td>\n",
       "      <td>0.182000</td>\n",
       "      <td>0.218000</td>\n",
       "      <td>0.557000</td>\n",
       "      <td>0.178000</td>\n",
       "      <td>0.000000</td>\n",
       "    </tr>\n",
       "    <tr>\n",
       "      <th>max</th>\n",
       "      <td>11144.000000</td>\n",
       "      <td>11144.000000</td>\n",
       "      <td>44.000000</td>\n",
       "      <td>231.140000</td>\n",
       "      <td>163.293120</td>\n",
       "      <td>85.000000</td>\n",
       "      <td>36.100000</td>\n",
       "      <td>16.300000</td>\n",
       "      <td>11.700000</td>\n",
       "      <td>300.000000</td>\n",
       "      <td>1.000000</td>\n",
       "      <td>1.000000</td>\n",
       "      <td>1.000000</td>\n",
       "      <td>1.500000</td>\n",
       "      <td>1.000000</td>\n",
       "      <td>1.000000</td>\n",
       "    </tr>\n",
       "  </tbody>\n",
       "</table>\n",
       "</div>"
      ],
      "text/plain": [
       "         Unnamed: 0  Unnamed: 0.1           age  player_height  player_weight  \\\n",
       "count  11145.000000  11145.000000  11145.000000   11145.000000   11145.000000   \n",
       "mean    5572.000000   5572.000000     27.168686     200.812818     100.637868   \n",
       "std     3217.428709   3217.428709      4.344164       9.190973      12.576295   \n",
       "min        0.000000      0.000000     18.000000     160.020000      60.327736   \n",
       "25%     2786.000000   2786.000000     24.000000     195.580000      90.718400   \n",
       "50%     5572.000000   5572.000000     27.000000     200.660000      99.790240   \n",
       "75%     8358.000000   8358.000000     30.000000     208.280000     109.315672   \n",
       "max    11144.000000  11144.000000     44.000000     231.140000     163.293120   \n",
       "\n",
       "                 gp           pts           reb           ast    net_rating  \\\n",
       "count  11145.000000  11145.000000  11145.000000  11145.000000  11145.000000   \n",
       "mean      52.005832      8.126487      3.560036      1.801463     -2.153899   \n",
       "std       25.069495      5.935482      2.495394      1.789940     12.150611   \n",
       "min        1.000000      0.000000      0.000000      0.000000   -200.000000   \n",
       "25%       32.000000      3.500000      1.800000      0.600000     -6.300000   \n",
       "50%       58.000000      6.600000      3.000000      1.200000     -1.300000   \n",
       "75%       74.000000     11.500000      4.700000      2.400000      3.200000   \n",
       "max       85.000000     36.100000     16.300000     11.700000    300.000000   \n",
       "\n",
       "           oreb_pct      dreb_pct       usg_pct        ts_pct       ast_pct  \\\n",
       "count  11145.000000  11145.000000  11145.000000  11145.000000  11145.000000   \n",
       "mean       0.055593      0.141772      0.185599      0.508099      0.131078   \n",
       "std        0.043889      0.063194      0.053047      0.098879      0.095017   \n",
       "min        0.000000      0.000000      0.000000      0.000000      0.000000   \n",
       "25%        0.022000      0.096000      0.150000      0.478000      0.065000   \n",
       "50%        0.043000      0.132000      0.182000      0.521000      0.102000   \n",
       "75%        0.086000      0.182000      0.218000      0.557000      0.178000   \n",
       "max        1.000000      1.000000      1.000000      1.500000      1.000000   \n",
       "\n",
       "       potential_player  \n",
       "count      11145.000000  \n",
       "mean           0.040825  \n",
       "std            0.197895  \n",
       "min            0.000000  \n",
       "25%            0.000000  \n",
       "50%            0.000000  \n",
       "75%            0.000000  \n",
       "max            1.000000  "
      ]
     },
     "execution_count": 4,
     "metadata": {},
     "output_type": "execute_result"
    }
   ],
   "source": [
    "dfa.describe()"
   ]
  },
  {
   "cell_type": "code",
   "execution_count": 6,
   "metadata": {},
   "outputs": [
    {
     "name": "stdout",
     "output_type": "stream",
     "text": [
      "Unnamed: 0\n"
     ]
    },
    {
     "data": {
      "text/plain": [
       "0        1\n",
       "1        1\n",
       "2        1\n",
       "3        1\n",
       "4        1\n",
       "        ..\n",
       "11140    1\n",
       "11141    1\n",
       "11142    1\n",
       "11143    1\n",
       "11144    1\n",
       "Name: Unnamed: 0, Length: 11145, dtype: int64"
      ]
     },
     "metadata": {},
     "output_type": "display_data"
    },
    {
     "name": "stdout",
     "output_type": "stream",
     "text": [
      "Unnamed: 0.1\n"
     ]
    },
    {
     "data": {
      "text/plain": [
       "0        1\n",
       "1        1\n",
       "2        1\n",
       "3        1\n",
       "4        1\n",
       "        ..\n",
       "11140    1\n",
       "11141    1\n",
       "11142    1\n",
       "11143    1\n",
       "11144    1\n",
       "Name: Unnamed: 0.1, Length: 11145, dtype: int64"
      ]
     },
     "metadata": {},
     "output_type": "display_data"
    },
    {
     "name": "stdout",
     "output_type": "stream",
     "text": [
      "player_name\n"
     ]
    },
    {
     "data": {
      "text/plain": [
       "A.C. Green             5\n",
       "A.J. Bramlett          1\n",
       "A.J. Guyton            3\n",
       "AJ Hammons             1\n",
       "AJ Price               6\n",
       "                      ..\n",
       "Zion Williamson        1\n",
       "Zoran Dragic           1\n",
       "Zoran Planinic         3\n",
       "Zydrunas Ilgauskas    13\n",
       "Zylan Cheatham         1\n",
       "Name: player_name, Length: 2235, dtype: int64"
      ]
     },
     "metadata": {},
     "output_type": "display_data"
    },
    {
     "name": "stdout",
     "output_type": "stream",
     "text": [
      "team_abbreviation\n"
     ]
    },
    {
     "data": {
      "text/plain": [
       "ATL    383\n",
       "BKN    140\n",
       "BOS    367\n",
       "CHA    254\n",
       "CHH     89\n",
       "CHI    369\n",
       "CLE    390\n",
       "DAL    384\n",
       "DEN    372\n",
       "DET    358\n",
       "GSW    376\n",
       "HOU    378\n",
       "IND    371\n",
       "LAC    389\n",
       "LAL    371\n",
       "MEM    315\n",
       "MIA    387\n",
       "MIL    371\n",
       "MIN    366\n",
       "NJN    257\n",
       "NOH    143\n",
       "NOK     32\n",
       "NOP    122\n",
       "NYK    371\n",
       "OKC    195\n",
       "ORL    368\n",
       "PHI    380\n",
       "PHX    362\n",
       "POR    367\n",
       "SAC    358\n",
       "SAS    377\n",
       "SEA    182\n",
       "TOR    390\n",
       "UTA    360\n",
       "VAN     72\n",
       "WAS    379\n",
       "Name: team_abbreviation, dtype: int64"
      ]
     },
     "metadata": {},
     "output_type": "display_data"
    },
    {
     "name": "stdout",
     "output_type": "stream",
     "text": [
      "age\n"
     ]
    },
    {
     "data": {
      "text/plain": [
       "18.0       3\n",
       "19.0      67\n",
       "20.0     246\n",
       "21.0     425\n",
       "22.0     678\n",
       "23.0    1039\n",
       "24.0    1143\n",
       "25.0    1025\n",
       "26.0     933\n",
       "27.0     891\n",
       "28.0     774\n",
       "29.0     718\n",
       "30.0     654\n",
       "31.0     581\n",
       "32.0     502\n",
       "33.0     424\n",
       "34.0     329\n",
       "35.0     232\n",
       "36.0     180\n",
       "37.0     126\n",
       "38.0      83\n",
       "39.0      51\n",
       "40.0      27\n",
       "41.0       7\n",
       "42.0       3\n",
       "43.0       3\n",
       "44.0       1\n",
       "Name: age, dtype: int64"
      ]
     },
     "metadata": {},
     "output_type": "display_data"
    },
    {
     "name": "stdout",
     "output_type": "stream",
     "text": [
      "player_height\n"
     ]
    },
    {
     "data": {
      "text/plain": [
       "160.02       5\n",
       "165.10      13\n",
       "167.64       1\n",
       "175.26      24\n",
       "177.80      52\n",
       "180.34     104\n",
       "182.88     254\n",
       "183.00       1\n",
       "185.42     440\n",
       "187.96     496\n",
       "190.50     755\n",
       "193.04     619\n",
       "195.58     807\n",
       "196.00       5\n",
       "198.12     918\n",
       "200.66    1093\n",
       "201.00      13\n",
       "203.00       1\n",
       "203.20    1061\n",
       "205.74    1369\n",
       "208.28    1133\n",
       "210.82     958\n",
       "213.36     673\n",
       "215.90     193\n",
       "218.44      82\n",
       "220.98      43\n",
       "223.52       7\n",
       "226.06       6\n",
       "228.60      16\n",
       "231.14       3\n",
       "Name: player_height, dtype: int64"
      ]
     },
     "metadata": {},
     "output_type": "display_data"
    },
    {
     "name": "stdout",
     "output_type": "stream",
     "text": [
      "player_weight\n"
     ]
    },
    {
     "data": {
      "text/plain": [
       "60.327736     13\n",
       "61.688512      1\n",
       "63.956472      4\n",
       "65.770840      1\n",
       "68.038800      2\n",
       "              ..\n",
       "149.685360     1\n",
       "151.953320     1\n",
       "154.221280     1\n",
       "155.582056     1\n",
       "163.293120     1\n",
       "Name: player_weight, Length: 157, dtype: int64"
      ]
     },
     "metadata": {},
     "output_type": "display_data"
    },
    {
     "name": "stdout",
     "output_type": "stream",
     "text": [
      "college\n"
     ]
    },
    {
     "data": {
      "text/plain": [
       "                        6\n",
       "Alabama               109\n",
       "Alabama A&M             1\n",
       "Alabama Huntsville      2\n",
       "Alabama-Birmingham      7\n",
       "                     ... \n",
       "Wright State           11\n",
       "Wyoming                35\n",
       "Xavier                 84\n",
       "Yale                    8\n",
       "Yonsei (KOR)            2\n",
       "Name: college, Length: 316, dtype: int64"
      ]
     },
     "metadata": {},
     "output_type": "display_data"
    },
    {
     "name": "stdout",
     "output_type": "stream",
     "text": [
      "country\n"
     ]
    },
    {
     "data": {
      "text/plain": [
       "Angola             1\n",
       "Argentina         60\n",
       "Australia         74\n",
       "Austria            4\n",
       "Bahamas            6\n",
       "                  ..\n",
       "Ukraine           39\n",
       "United Kingdom    19\n",
       "Uruguay            2\n",
       "Venezuela          9\n",
       "Yugoslavia        11\n",
       "Name: country, Length: 76, dtype: int64"
      ]
     },
     "metadata": {},
     "output_type": "display_data"
    },
    {
     "name": "stdout",
     "output_type": "stream",
     "text": [
      "draft_year\n"
     ]
    },
    {
     "data": {
      "text/plain": [
       "1963            1\n",
       "1976            1\n",
       "1978            1\n",
       "1979            3\n",
       "1980            3\n",
       "1981           16\n",
       "1982           11\n",
       "1983           22\n",
       "1984           49\n",
       "1985           86\n",
       "1986           52\n",
       "1987           90\n",
       "1988          127\n",
       "1989          123\n",
       "1990          162\n",
       "1991          149\n",
       "1992          232\n",
       "1993          210\n",
       "1994          273\n",
       "1995          328\n",
       "1996          406\n",
       "1997          345\n",
       "1998          454\n",
       "1999          366\n",
       "2000          364\n",
       "2001          403\n",
       "2002          325\n",
       "2003          430\n",
       "2004          362\n",
       "2005          420\n",
       "2006          315\n",
       "2007          334\n",
       "2008          381\n",
       "2009          357\n",
       "2010          281\n",
       "2011          318\n",
       "2012          279\n",
       "2013          248\n",
       "2014          223\n",
       "2015          186\n",
       "2016          166\n",
       "2017          145\n",
       "2018          103\n",
       "2019           53\n",
       "Undrafted    1942\n",
       "Name: draft_year, dtype: int64"
      ]
     },
     "metadata": {},
     "output_type": "display_data"
    },
    {
     "name": "stdout",
     "output_type": "stream",
     "text": [
      "draft_round\n"
     ]
    },
    {
     "data": {
      "text/plain": [
       "1            6513\n",
       "2            2629\n",
       "3              20\n",
       "4              12\n",
       "6               5\n",
       "7               5\n",
       "8               2\n",
       "Undrafted    1959\n",
       "Name: draft_round, dtype: int64"
      ]
     },
     "metadata": {},
     "output_type": "display_data"
    },
    {
     "name": "stdout",
     "output_type": "stream",
     "text": [
      "draft_number\n"
     ]
    },
    {
     "data": {
      "text/plain": [
       "1             320\n",
       "10            278\n",
       "11            232\n",
       "12            210\n",
       "120             1\n",
       "             ... \n",
       "8             258\n",
       "82              1\n",
       "87              1\n",
       "9             282\n",
       "Undrafted    1959\n",
       "Name: draft_number, Length: 75, dtype: int64"
      ]
     },
     "metadata": {},
     "output_type": "display_data"
    },
    {
     "name": "stdout",
     "output_type": "stream",
     "text": [
      "gp\n"
     ]
    },
    {
     "data": {
      "text/plain": [
       "1     102\n",
       "2     136\n",
       "3     130\n",
       "4      98\n",
       "5     119\n",
       "     ... \n",
       "81    410\n",
       "82    719\n",
       "83     10\n",
       "84      1\n",
       "85      3\n",
       "Name: gp, Length: 85, dtype: int64"
      ]
     },
     "metadata": {},
     "output_type": "display_data"
    },
    {
     "name": "stdout",
     "output_type": "stream",
     "text": [
      "pts\n"
     ]
    },
    {
     "data": {
      "text/plain": [
       "0.0     136\n",
       "0.1       3\n",
       "0.2       7\n",
       "0.3      21\n",
       "0.4      18\n",
       "       ... \n",
       "32.1      1\n",
       "33.0      1\n",
       "34.5      1\n",
       "35.4      1\n",
       "36.1      1\n",
       "Name: pts, Length: 308, dtype: int64"
      ]
     },
     "metadata": {},
     "output_type": "display_data"
    },
    {
     "name": "stdout",
     "output_type": "stream",
     "text": [
      "reb\n"
     ]
    },
    {
     "data": {
      "text/plain": [
       "0.0     118\n",
       "0.1      10\n",
       "0.2      41\n",
       "0.3      95\n",
       "0.4      63\n",
       "       ... \n",
       "15.4      1\n",
       "15.6      1\n",
       "16.0      1\n",
       "16.1      1\n",
       "16.3      1\n",
       "Name: reb, Length: 154, dtype: int64"
      ]
     },
     "metadata": {},
     "output_type": "display_data"
    },
    {
     "name": "stdout",
     "output_type": "stream",
     "text": [
      "ast\n"
     ]
    },
    {
     "data": {
      "text/plain": [
       "0.0     374\n",
       "0.1     279\n",
       "0.2     401\n",
       "0.3     592\n",
       "0.4     549\n",
       "       ... \n",
       "11.2      2\n",
       "11.4      2\n",
       "11.5      1\n",
       "11.6      2\n",
       "11.7      2\n",
       "Name: ast, Length: 114, dtype: int64"
      ]
     },
     "metadata": {},
     "output_type": "display_data"
    },
    {
     "name": "stdout",
     "output_type": "stream",
     "text": [
      "net_rating\n"
     ]
    },
    {
     "data": {
      "text/plain": [
       "-200.0    1\n",
       "-158.3    1\n",
       "-150.0    1\n",
       "-147.5    1\n",
       "-144.9    1\n",
       "         ..\n",
       " 114.3    1\n",
       " 120.0    1\n",
       " 150.0    1\n",
       " 250.0    1\n",
       " 300.0    1\n",
       "Name: net_rating, Length: 707, dtype: int64"
      ]
     },
     "metadata": {},
     "output_type": "display_data"
    },
    {
     "name": "stdout",
     "output_type": "stream",
     "text": [
      "oreb_pct\n"
     ]
    },
    {
     "data": {
      "text/plain": [
       "0.000    425\n",
       "0.002      2\n",
       "0.003      9\n",
       "0.004     11\n",
       "0.005     27\n",
       "        ... \n",
       "0.375      1\n",
       "0.400      2\n",
       "0.500      3\n",
       "0.600      1\n",
       "1.000      1\n",
       "Name: oreb_pct, Length: 216, dtype: int64"
      ]
     },
     "metadata": {},
     "output_type": "display_data"
    },
    {
     "name": "stdout",
     "output_type": "stream",
     "text": [
      "dreb_pct\n"
     ]
    },
    {
     "data": {
      "text/plain": [
       "0.000    162\n",
       "0.014      2\n",
       "0.015      1\n",
       "0.016      1\n",
       "0.017      1\n",
       "        ... \n",
       "0.500     11\n",
       "0.571      1\n",
       "0.600      1\n",
       "0.714      1\n",
       "1.000      2\n",
       "Name: dreb_pct, Length: 351, dtype: int64"
      ]
     },
     "metadata": {},
     "output_type": "display_data"
    },
    {
     "name": "stdout",
     "output_type": "stream",
     "text": [
      "usg_pct\n"
     ]
    },
    {
     "data": {
      "text/plain": [
       "0.000    33\n",
       "0.019     1\n",
       "0.020     1\n",
       "0.025     1\n",
       "0.030     1\n",
       "         ..\n",
       "0.500     3\n",
       "0.571     1\n",
       "0.595     1\n",
       "0.750     1\n",
       "1.000     1\n",
       "Name: usg_pct, Length: 341, dtype: int64"
      ]
     },
     "metadata": {},
     "output_type": "display_data"
    },
    {
     "name": "stdout",
     "output_type": "stream",
     "text": [
      "ts_pct\n"
     ]
    },
    {
     "data": {
      "text/plain": [
       "0.000    136\n",
       "0.046      1\n",
       "0.051      1\n",
       "0.056      2\n",
       "0.091      1\n",
       "        ... \n",
       "1.025      1\n",
       "1.042      1\n",
       "1.050      1\n",
       "1.064      7\n",
       "1.500      3\n",
       "Name: ts_pct, Length: 529, dtype: int64"
      ]
     },
     "metadata": {},
     "output_type": "display_data"
    },
    {
     "name": "stdout",
     "output_type": "stream",
     "text": [
      "ast_pct\n"
     ]
    },
    {
     "data": {
      "text/plain": [
       "0.000    359\n",
       "0.004      1\n",
       "0.005      2\n",
       "0.007      4\n",
       "0.008      5\n",
       "        ... \n",
       "0.615      1\n",
       "0.636      1\n",
       "0.667      4\n",
       "0.750      1\n",
       "1.000      3\n",
       "Name: ast_pct, Length: 479, dtype: int64"
      ]
     },
     "metadata": {},
     "output_type": "display_data"
    },
    {
     "name": "stdout",
     "output_type": "stream",
     "text": [
      "season\n"
     ]
    },
    {
     "data": {
      "text/plain": [
       "1996-97    441\n",
       "1997-98    439\n",
       "1998-99    439\n",
       "1999-00    438\n",
       "2000-01    441\n",
       "2001-02    440\n",
       "2002-03    428\n",
       "2003-04    442\n",
       "2004-05    464\n",
       "2005-06    458\n",
       "2006-07    458\n",
       "2007-08    451\n",
       "2008-09    445\n",
       "2009-10    442\n",
       "2010-11    452\n",
       "2011-12    478\n",
       "2012-13    469\n",
       "2013-14    482\n",
       "2014-15    492\n",
       "2015-16    476\n",
       "2016-17    486\n",
       "2017-18    540\n",
       "2018-19    530\n",
       "2019-20    514\n",
       "Name: season, dtype: int64"
      ]
     },
     "metadata": {},
     "output_type": "display_data"
    },
    {
     "name": "stdout",
     "output_type": "stream",
     "text": [
      "potential_player\n"
     ]
    },
    {
     "data": {
      "text/plain": [
       "0    10690\n",
       "1      455\n",
       "Name: potential_player, dtype: int64"
      ]
     },
     "metadata": {},
     "output_type": "display_data"
    }
   ],
   "source": [
    "# Mengecek semua kolom dan total unik nya\n",
    "for i in dfa.columns:\n",
    "    print(i)\n",
    "    display(dfa[i].value_counts().sort_index())"
   ]
  },
  {
   "cell_type": "markdown",
   "metadata": {},
   "source": [
    "## 1. Data cleansing & preprocessing"
   ]
  },
  {
   "cell_type": "code",
   "execution_count": 7,
   "metadata": {},
   "outputs": [
    {
     "data": {
      "text/html": [
       "<div>\n",
       "<style scoped>\n",
       "    .dataframe tbody tr th:only-of-type {\n",
       "        vertical-align: middle;\n",
       "    }\n",
       "\n",
       "    .dataframe tbody tr th {\n",
       "        vertical-align: top;\n",
       "    }\n",
       "\n",
       "    .dataframe thead th {\n",
       "        text-align: right;\n",
       "    }\n",
       "</style>\n",
       "<table border=\"1\" class=\"dataframe\">\n",
       "  <thead>\n",
       "    <tr style=\"text-align: right;\">\n",
       "      <th></th>\n",
       "      <th>player_name</th>\n",
       "      <th>team_abbreviation</th>\n",
       "      <th>age</th>\n",
       "      <th>player_height</th>\n",
       "      <th>player_weight</th>\n",
       "      <th>college</th>\n",
       "      <th>country</th>\n",
       "      <th>gp</th>\n",
       "      <th>pts</th>\n",
       "      <th>reb</th>\n",
       "      <th>ast</th>\n",
       "      <th>net_rating</th>\n",
       "      <th>oreb_pct</th>\n",
       "      <th>dreb_pct</th>\n",
       "      <th>usg_pct</th>\n",
       "      <th>ts_pct</th>\n",
       "      <th>ast_pct</th>\n",
       "      <th>season</th>\n",
       "      <th>potential_player</th>\n",
       "    </tr>\n",
       "  </thead>\n",
       "  <tbody>\n",
       "    <tr>\n",
       "      <th>0</th>\n",
       "      <td>Dennis Rodman</td>\n",
       "      <td>CHI</td>\n",
       "      <td>36.0</td>\n",
       "      <td>198.12</td>\n",
       "      <td>99.790240</td>\n",
       "      <td>Southeastern Oklahoma State</td>\n",
       "      <td>USA</td>\n",
       "      <td>55</td>\n",
       "      <td>5.7</td>\n",
       "      <td>16.1</td>\n",
       "      <td>3.1</td>\n",
       "      <td>16.1</td>\n",
       "      <td>0.186</td>\n",
       "      <td>0.323</td>\n",
       "      <td>0.100</td>\n",
       "      <td>0.479</td>\n",
       "      <td>0.113</td>\n",
       "      <td>1996-97</td>\n",
       "      <td>0</td>\n",
       "    </tr>\n",
       "    <tr>\n",
       "      <th>1</th>\n",
       "      <td>Dwayne Schintzius</td>\n",
       "      <td>LAC</td>\n",
       "      <td>28.0</td>\n",
       "      <td>215.90</td>\n",
       "      <td>117.933920</td>\n",
       "      <td>Florida</td>\n",
       "      <td>USA</td>\n",
       "      <td>15</td>\n",
       "      <td>2.3</td>\n",
       "      <td>1.5</td>\n",
       "      <td>0.3</td>\n",
       "      <td>12.3</td>\n",
       "      <td>0.078</td>\n",
       "      <td>0.151</td>\n",
       "      <td>0.175</td>\n",
       "      <td>0.430</td>\n",
       "      <td>0.048</td>\n",
       "      <td>1996-97</td>\n",
       "      <td>0</td>\n",
       "    </tr>\n",
       "    <tr>\n",
       "      <th>2</th>\n",
       "      <td>Earl Cureton</td>\n",
       "      <td>TOR</td>\n",
       "      <td>39.0</td>\n",
       "      <td>205.74</td>\n",
       "      <td>95.254320</td>\n",
       "      <td>Detroit Mercy</td>\n",
       "      <td>USA</td>\n",
       "      <td>9</td>\n",
       "      <td>0.8</td>\n",
       "      <td>1.0</td>\n",
       "      <td>0.4</td>\n",
       "      <td>-2.1</td>\n",
       "      <td>0.105</td>\n",
       "      <td>0.102</td>\n",
       "      <td>0.103</td>\n",
       "      <td>0.376</td>\n",
       "      <td>0.148</td>\n",
       "      <td>1996-97</td>\n",
       "      <td>0</td>\n",
       "    </tr>\n",
       "    <tr>\n",
       "      <th>3</th>\n",
       "      <td>Ed O'Bannon</td>\n",
       "      <td>DAL</td>\n",
       "      <td>24.0</td>\n",
       "      <td>203.20</td>\n",
       "      <td>100.697424</td>\n",
       "      <td>UCLA</td>\n",
       "      <td>USA</td>\n",
       "      <td>64</td>\n",
       "      <td>3.7</td>\n",
       "      <td>2.3</td>\n",
       "      <td>0.6</td>\n",
       "      <td>-8.7</td>\n",
       "      <td>0.060</td>\n",
       "      <td>0.149</td>\n",
       "      <td>0.167</td>\n",
       "      <td>0.399</td>\n",
       "      <td>0.077</td>\n",
       "      <td>1996-97</td>\n",
       "      <td>0</td>\n",
       "    </tr>\n",
       "    <tr>\n",
       "      <th>4</th>\n",
       "      <td>Ed Pinckney</td>\n",
       "      <td>MIA</td>\n",
       "      <td>34.0</td>\n",
       "      <td>205.74</td>\n",
       "      <td>108.862080</td>\n",
       "      <td>Villanova</td>\n",
       "      <td>USA</td>\n",
       "      <td>27</td>\n",
       "      <td>2.4</td>\n",
       "      <td>2.4</td>\n",
       "      <td>0.2</td>\n",
       "      <td>-11.2</td>\n",
       "      <td>0.109</td>\n",
       "      <td>0.179</td>\n",
       "      <td>0.127</td>\n",
       "      <td>0.611</td>\n",
       "      <td>0.040</td>\n",
       "      <td>1996-97</td>\n",
       "      <td>0</td>\n",
       "    </tr>\n",
       "  </tbody>\n",
       "</table>\n",
       "</div>"
      ],
      "text/plain": [
       "         player_name team_abbreviation   age  player_height  player_weight  \\\n",
       "0      Dennis Rodman               CHI  36.0         198.12      99.790240   \n",
       "1  Dwayne Schintzius               LAC  28.0         215.90     117.933920   \n",
       "2       Earl Cureton               TOR  39.0         205.74      95.254320   \n",
       "3        Ed O'Bannon               DAL  24.0         203.20     100.697424   \n",
       "4        Ed Pinckney               MIA  34.0         205.74     108.862080   \n",
       "\n",
       "                       college country  gp  pts   reb  ast  net_rating  \\\n",
       "0  Southeastern Oklahoma State     USA  55  5.7  16.1  3.1        16.1   \n",
       "1                      Florida     USA  15  2.3   1.5  0.3        12.3   \n",
       "2                Detroit Mercy     USA   9  0.8   1.0  0.4        -2.1   \n",
       "3                         UCLA     USA  64  3.7   2.3  0.6        -8.7   \n",
       "4                    Villanova     USA  27  2.4   2.4  0.2       -11.2   \n",
       "\n",
       "   oreb_pct  dreb_pct  usg_pct  ts_pct  ast_pct   season  potential_player  \n",
       "0     0.186     0.323    0.100   0.479    0.113  1996-97                 0  \n",
       "1     0.078     0.151    0.175   0.430    0.048  1996-97                 0  \n",
       "2     0.105     0.102    0.103   0.376    0.148  1996-97                 0  \n",
       "3     0.060     0.149    0.167   0.399    0.077  1996-97                 0  \n",
       "4     0.109     0.179    0.127   0.611    0.040  1996-97                 0  "
      ]
     },
     "execution_count": 7,
     "metadata": {},
     "output_type": "execute_result"
    }
   ],
   "source": [
    "# Menghapus kolom yang tidak penting\n",
    "dfb = dfa.copy(deep=True)\n",
    "dfb.drop(['Unnamed: 0', 'Unnamed: 0.1', 'draft_year', 'draft_round', 'draft_number'], axis=1, inplace=True)\n",
    "dfb.head()"
   ]
  },
  {
   "cell_type": "code",
   "execution_count": 9,
   "metadata": {},
   "outputs": [
    {
     "data": {
      "image/png": "[encoded data removed]",
      "text/plain": [
       "<Figure size 576x288 with 1 Axes>"
      ]
     },
     "metadata": {
      "needs_background": "light"
     },
     "output_type": "display_data"
    },
    {
     "name": "stdout",
     "output_type": "stream",
     "text": [
      "Upper Boundaries Age: 39.0\n",
      "Lower Boundaries Age: 15.0\n"
     ]
    }
   ],
   "source": [
    "# Yang menjadi perhatian outliers hanya age, karena feature yang lain adalah faktor skill permainan pemain.\n",
    "\n",
    "plt.figure(figsize=(8,4))\n",
    "plt.title('Age')\n",
    "data_a = dfb['age'].values.tolist()\n",
    "sns.boxplot(x=data_a)\n",
    "\n",
    "iqr_a = np.quantile(data_a, 0.75) - np.quantile(data_a, 0.25)\n",
    "upper_boundaries_a = np.quantile(data_a, 0.75) + (1.5*iqr_a)\n",
    "lower_boundaries_a = np.quantile(data_a, 0.25) - (1.5*iqr_a)\n",
    "\n",
    "plt.axvline(np.median(data_a), color='red', label='Q2 / Median')\n",
    "plt.axvline(np.quantile(data_a, 0.25), color='green', label='Quantile 25')\n",
    "plt.axvline(np.quantile(data_a, 0.75), color='orange', label='Quantile 75')\n",
    "plt.axvline(upper_boundaries_a, color='yellow', label='Upper Boundaries Age')\n",
    "plt.axvline(lower_boundaries_a, color='magenta', label='Lower Boundaries Age')\n",
    "plt.legend()\n",
    "\n",
    "plt.show()\n",
    "\n",
    "print('Upper Boundaries Age:', upper_boundaries_a)\n",
    "print('Lower Boundaries Age:', lower_boundaries_a)"
   ]
  },
  {
   "cell_type": "code",
   "execution_count": 21,
   "metadata": {},
   "outputs": [
    {
     "data": {
      "text/html": [
       "<div>\n",
       "<style scoped>\n",
       "    .dataframe tbody tr th:only-of-type {\n",
       "        vertical-align: middle;\n",
       "    }\n",
       "\n",
       "    .dataframe tbody tr th {\n",
       "        vertical-align: top;\n",
       "    }\n",
       "\n",
       "    .dataframe thead th {\n",
       "        text-align: right;\n",
       "    }\n",
       "</style>\n",
       "<table border=\"1\" class=\"dataframe\">\n",
       "  <thead>\n",
       "    <tr style=\"text-align: right;\">\n",
       "      <th></th>\n",
       "      <th>player_name</th>\n",
       "      <th>team_abbreviation</th>\n",
       "      <th>age</th>\n",
       "      <th>player_height</th>\n",
       "      <th>player_weight</th>\n",
       "      <th>college</th>\n",
       "      <th>country</th>\n",
       "      <th>gp</th>\n",
       "      <th>pts</th>\n",
       "      <th>reb</th>\n",
       "      <th>ast</th>\n",
       "      <th>net_rating</th>\n",
       "      <th>oreb_pct</th>\n",
       "      <th>dreb_pct</th>\n",
       "      <th>usg_pct</th>\n",
       "      <th>ts_pct</th>\n",
       "      <th>ast_pct</th>\n",
       "      <th>season</th>\n",
       "      <th>potential_player</th>\n",
       "    </tr>\n",
       "  </thead>\n",
       "  <tbody>\n",
       "    <tr>\n",
       "      <th>203</th>\n",
       "      <td>Charles Jones</td>\n",
       "      <td>HOU</td>\n",
       "      <td>40.0</td>\n",
       "      <td>205.74</td>\n",
       "      <td>97.522280</td>\n",
       "      <td>Albany State (GA)</td>\n",
       "      <td>USA</td>\n",
       "      <td>12</td>\n",
       "      <td>0.3</td>\n",
       "      <td>1.1</td>\n",
       "      <td>0.3</td>\n",
       "      <td>2.6</td>\n",
       "      <td>0.068</td>\n",
       "      <td>0.103</td>\n",
       "      <td>0.025</td>\n",
       "      <td>0.400</td>\n",
       "      <td>0.046</td>\n",
       "      <td>1996-97</td>\n",
       "      <td>0</td>\n",
       "    </tr>\n",
       "    <tr>\n",
       "      <th>270</th>\n",
       "      <td>Robert Parish</td>\n",
       "      <td>CHI</td>\n",
       "      <td>43.0</td>\n",
       "      <td>215.90</td>\n",
       "      <td>110.676448</td>\n",
       "      <td>Centenary (LA)</td>\n",
       "      <td>USA</td>\n",
       "      <td>43</td>\n",
       "      <td>3.7</td>\n",
       "      <td>2.1</td>\n",
       "      <td>0.5</td>\n",
       "      <td>14.9</td>\n",
       "      <td>0.114</td>\n",
       "      <td>0.130</td>\n",
       "      <td>0.201</td>\n",
       "      <td>0.514</td>\n",
       "      <td>0.082</td>\n",
       "      <td>1996-97</td>\n",
       "      <td>0</td>\n",
       "    </tr>\n",
       "    <tr>\n",
       "      <th>385</th>\n",
       "      <td>John Long</td>\n",
       "      <td>TOR</td>\n",
       "      <td>40.0</td>\n",
       "      <td>195.58</td>\n",
       "      <td>90.718400</td>\n",
       "      <td>Detroit Mercy</td>\n",
       "      <td>USA</td>\n",
       "      <td>32</td>\n",
       "      <td>4.0</td>\n",
       "      <td>1.3</td>\n",
       "      <td>0.7</td>\n",
       "      <td>-9.8</td>\n",
       "      <td>0.017</td>\n",
       "      <td>0.101</td>\n",
       "      <td>0.182</td>\n",
       "      <td>0.499</td>\n",
       "      <td>0.104</td>\n",
       "      <td>1996-97</td>\n",
       "      <td>0</td>\n",
       "    </tr>\n",
       "    <tr>\n",
       "      <th>730</th>\n",
       "      <td>Charles Jones</td>\n",
       "      <td>HOU</td>\n",
       "      <td>41.0</td>\n",
       "      <td>205.74</td>\n",
       "      <td>97.522280</td>\n",
       "      <td>Albany State (GA)</td>\n",
       "      <td>USA</td>\n",
       "      <td>24</td>\n",
       "      <td>0.6</td>\n",
       "      <td>1.0</td>\n",
       "      <td>0.2</td>\n",
       "      <td>-6.2</td>\n",
       "      <td>0.098</td>\n",
       "      <td>0.111</td>\n",
       "      <td>0.049</td>\n",
       "      <td>0.689</td>\n",
       "      <td>0.055</td>\n",
       "      <td>1997-98</td>\n",
       "      <td>0</td>\n",
       "    </tr>\n",
       "    <tr>\n",
       "      <th>870</th>\n",
       "      <td>Herb Williams</td>\n",
       "      <td>NYK</td>\n",
       "      <td>40.0</td>\n",
       "      <td>208.28</td>\n",
       "      <td>109.769264</td>\n",
       "      <td>Ohio State</td>\n",
       "      <td>USA</td>\n",
       "      <td>27</td>\n",
       "      <td>1.4</td>\n",
       "      <td>1.1</td>\n",
       "      <td>0.1</td>\n",
       "      <td>-8.0</td>\n",
       "      <td>0.042</td>\n",
       "      <td>0.160</td>\n",
       "      <td>0.143</td>\n",
       "      <td>0.398</td>\n",
       "      <td>0.041</td>\n",
       "      <td>1997-98</td>\n",
       "      <td>0</td>\n",
       "    </tr>\n",
       "  </tbody>\n",
       "</table>\n",
       "</div>"
      ],
      "text/plain": [
       "       player_name team_abbreviation   age  player_height  player_weight  \\\n",
       "203  Charles Jones               HOU  40.0         205.74      97.522280   \n",
       "270  Robert Parish               CHI  43.0         215.90     110.676448   \n",
       "385      John Long               TOR  40.0         195.58      90.718400   \n",
       "730  Charles Jones               HOU  41.0         205.74      97.522280   \n",
       "870  Herb Williams               NYK  40.0         208.28     109.769264   \n",
       "\n",
       "               college country  gp  pts  reb  ast  net_rating  oreb_pct  \\\n",
       "203  Albany State (GA)     USA  12  0.3  1.1  0.3         2.6     0.068   \n",
       "270     Centenary (LA)     USA  43  3.7  2.1  0.5        14.9     0.114   \n",
       "385      Detroit Mercy     USA  32  4.0  1.3  0.7        -9.8     0.017   \n",
       "730  Albany State (GA)     USA  24  0.6  1.0  0.2        -6.2     0.098   \n",
       "870         Ohio State     USA  27  1.4  1.1  0.1        -8.0     0.042   \n",
       "\n",
       "     dreb_pct  usg_pct  ts_pct  ast_pct   season  potential_player  \n",
       "203     0.103    0.025   0.400    0.046  1996-97                 0  \n",
       "270     0.130    0.201   0.514    0.082  1996-97                 0  \n",
       "385     0.101    0.182   0.499    0.104  1996-97                 0  \n",
       "730     0.111    0.049   0.689    0.055  1997-98                 0  \n",
       "870     0.160    0.143   0.398    0.041  1997-98                 0  "
      ]
     },
     "execution_count": 21,
     "metadata": {},
     "output_type": "execute_result"
    }
   ],
   "source": [
    "df_out = dfb[(dfb['age'] > upper_boundaries_a) | (dfb['age'] < lower_boundaries_a)]\n",
    "len(df_out)\n",
    "df_out.head()"
   ]
  },
  {
   "cell_type": "code",
   "execution_count": 20,
   "metadata": {},
   "outputs": [
    {
     "data": {
      "text/html": [
       "<div>\n",
       "<style scoped>\n",
       "    .dataframe tbody tr th:only-of-type {\n",
       "        vertical-align: middle;\n",
       "    }\n",
       "\n",
       "    .dataframe tbody tr th {\n",
       "        vertical-align: top;\n",
       "    }\n",
       "\n",
       "    .dataframe thead th {\n",
       "        text-align: right;\n",
       "    }\n",
       "</style>\n",
       "<table border=\"1\" class=\"dataframe\">\n",
       "  <thead>\n",
       "    <tr style=\"text-align: right;\">\n",
       "      <th></th>\n",
       "      <th>player_name</th>\n",
       "      <th>team_abbreviation</th>\n",
       "      <th>age</th>\n",
       "      <th>player_height</th>\n",
       "      <th>player_weight</th>\n",
       "      <th>college</th>\n",
       "      <th>country</th>\n",
       "      <th>gp</th>\n",
       "      <th>pts</th>\n",
       "      <th>reb</th>\n",
       "      <th>ast</th>\n",
       "      <th>net_rating</th>\n",
       "      <th>oreb_pct</th>\n",
       "      <th>dreb_pct</th>\n",
       "      <th>usg_pct</th>\n",
       "      <th>ts_pct</th>\n",
       "      <th>ast_pct</th>\n",
       "      <th>season</th>\n",
       "      <th>potential_player</th>\n",
       "    </tr>\n",
       "  </thead>\n",
       "  <tbody>\n",
       "    <tr>\n",
       "      <th>0</th>\n",
       "      <td>Dennis Rodman</td>\n",
       "      <td>CHI</td>\n",
       "      <td>36.0</td>\n",
       "      <td>198.12</td>\n",
       "      <td>99.790240</td>\n",
       "      <td>Southeastern Oklahoma State</td>\n",
       "      <td>USA</td>\n",
       "      <td>55</td>\n",
       "      <td>5.7</td>\n",
       "      <td>16.1</td>\n",
       "      <td>3.1</td>\n",
       "      <td>16.1</td>\n",
       "      <td>0.186</td>\n",
       "      <td>0.323</td>\n",
       "      <td>0.100</td>\n",
       "      <td>0.479</td>\n",
       "      <td>0.113</td>\n",
       "      <td>1996-97</td>\n",
       "      <td>0</td>\n",
       "    </tr>\n",
       "    <tr>\n",
       "      <th>1</th>\n",
       "      <td>Dwayne Schintzius</td>\n",
       "      <td>LAC</td>\n",
       "      <td>28.0</td>\n",
       "      <td>215.90</td>\n",
       "      <td>117.933920</td>\n",
       "      <td>Florida</td>\n",
       "      <td>USA</td>\n",
       "      <td>15</td>\n",
       "      <td>2.3</td>\n",
       "      <td>1.5</td>\n",
       "      <td>0.3</td>\n",
       "      <td>12.3</td>\n",
       "      <td>0.078</td>\n",
       "      <td>0.151</td>\n",
       "      <td>0.175</td>\n",
       "      <td>0.430</td>\n",
       "      <td>0.048</td>\n",
       "      <td>1996-97</td>\n",
       "      <td>0</td>\n",
       "    </tr>\n",
       "    <tr>\n",
       "      <th>2</th>\n",
       "      <td>Earl Cureton</td>\n",
       "      <td>TOR</td>\n",
       "      <td>39.0</td>\n",
       "      <td>205.74</td>\n",
       "      <td>95.254320</td>\n",
       "      <td>Detroit Mercy</td>\n",
       "      <td>USA</td>\n",
       "      <td>9</td>\n",
       "      <td>0.8</td>\n",
       "      <td>1.0</td>\n",
       "      <td>0.4</td>\n",
       "      <td>-2.1</td>\n",
       "      <td>0.105</td>\n",
       "      <td>0.102</td>\n",
       "      <td>0.103</td>\n",
       "      <td>0.376</td>\n",
       "      <td>0.148</td>\n",
       "      <td>1996-97</td>\n",
       "      <td>0</td>\n",
       "    </tr>\n",
       "    <tr>\n",
       "      <th>3</th>\n",
       "      <td>Ed O'Bannon</td>\n",
       "      <td>DAL</td>\n",
       "      <td>24.0</td>\n",
       "      <td>203.20</td>\n",
       "      <td>100.697424</td>\n",
       "      <td>UCLA</td>\n",
       "      <td>USA</td>\n",
       "      <td>64</td>\n",
       "      <td>3.7</td>\n",
       "      <td>2.3</td>\n",
       "      <td>0.6</td>\n",
       "      <td>-8.7</td>\n",
       "      <td>0.060</td>\n",
       "      <td>0.149</td>\n",
       "      <td>0.167</td>\n",
       "      <td>0.399</td>\n",
       "      <td>0.077</td>\n",
       "      <td>1996-97</td>\n",
       "      <td>0</td>\n",
       "    </tr>\n",
       "    <tr>\n",
       "      <th>4</th>\n",
       "      <td>Ed Pinckney</td>\n",
       "      <td>MIA</td>\n",
       "      <td>34.0</td>\n",
       "      <td>205.74</td>\n",
       "      <td>108.862080</td>\n",
       "      <td>Villanova</td>\n",
       "      <td>USA</td>\n",
       "      <td>27</td>\n",
       "      <td>2.4</td>\n",
       "      <td>2.4</td>\n",
       "      <td>0.2</td>\n",
       "      <td>-11.2</td>\n",
       "      <td>0.109</td>\n",
       "      <td>0.179</td>\n",
       "      <td>0.127</td>\n",
       "      <td>0.611</td>\n",
       "      <td>0.040</td>\n",
       "      <td>1996-97</td>\n",
       "      <td>0</td>\n",
       "    </tr>\n",
       "  </tbody>\n",
       "</table>\n",
       "</div>"
      ],
      "text/plain": [
       "         player_name team_abbreviation   age  player_height  player_weight  \\\n",
       "0      Dennis Rodman               CHI  36.0         198.12      99.790240   \n",
       "1  Dwayne Schintzius               LAC  28.0         215.90     117.933920   \n",
       "2       Earl Cureton               TOR  39.0         205.74      95.254320   \n",
       "3        Ed O'Bannon               DAL  24.0         203.20     100.697424   \n",
       "4        Ed Pinckney               MIA  34.0         205.74     108.862080   \n",
       "\n",
       "                       college country  gp  pts   reb  ast  net_rating  \\\n",
       "0  Southeastern Oklahoma State     USA  55  5.7  16.1  3.1        16.1   \n",
       "1                      Florida     USA  15  2.3   1.5  0.3        12.3   \n",
       "2                Detroit Mercy     USA   9  0.8   1.0  0.4        -2.1   \n",
       "3                         UCLA     USA  64  3.7   2.3  0.6        -8.7   \n",
       "4                    Villanova     USA  27  2.4   2.4  0.2       -11.2   \n",
       "\n",
       "   oreb_pct  dreb_pct  usg_pct  ts_pct  ast_pct   season  potential_player  \n",
       "0     0.186     0.323    0.100   0.479    0.113  1996-97                 0  \n",
       "1     0.078     0.151    0.175   0.430    0.048  1996-97                 0  \n",
       "2     0.105     0.102    0.103   0.376    0.148  1996-97                 0  \n",
       "3     0.060     0.149    0.167   0.399    0.077  1996-97                 0  \n",
       "4     0.109     0.179    0.127   0.611    0.040  1996-97                 0  "
      ]
     },
     "execution_count": 20,
     "metadata": {},
     "output_type": "execute_result"
    }
   ],
   "source": [
    "# Menghapus usia yang tidak normal\n",
    "dfc = dfb[(dfb['age'] <= upper_boundaries_a) & (dfb['age'] >= lower_boundaries_a)]\n",
    "# len(dfc)\n",
    "dfc.head()"
   ]
  },
  {
   "cell_type": "code",
   "execution_count": 19,
   "metadata": {},
   "outputs": [
    {
     "data": {
      "text/plain": [
       "11145"
      ]
     },
     "execution_count": 19,
     "metadata": {},
     "output_type": "execute_result"
    }
   ],
   "source": [
    "len(dfb)"
   ]
  },
  {
   "cell_type": "code",
   "execution_count": 14,
   "metadata": {},
   "outputs": [
    {
     "name": "stdout",
     "output_type": "stream",
     "text": [
      "Data yang hilang sebanyak: 0.37 %\n"
     ]
    }
   ],
   "source": [
    "print('Data yang hilang sebanyak:', round(len(df_out)/len(dfb)*100 ,2), '%')"
   ]
  },
  {
   "cell_type": "code",
   "execution_count": 22,
   "metadata": {},
   "outputs": [
    {
     "data": {
      "text/html": [
       "<div>\n",
       "<style scoped>\n",
       "    .dataframe tbody tr th:only-of-type {\n",
       "        vertical-align: middle;\n",
       "    }\n",
       "\n",
       "    .dataframe tbody tr th {\n",
       "        vertical-align: top;\n",
       "    }\n",
       "\n",
       "    .dataframe thead th {\n",
       "        text-align: right;\n",
       "    }\n",
       "</style>\n",
       "<table border=\"1\" class=\"dataframe\">\n",
       "  <thead>\n",
       "    <tr style=\"text-align: right;\">\n",
       "      <th></th>\n",
       "      <th>features</th>\n",
       "      <th>dtype</th>\n",
       "      <th>null</th>\n",
       "      <th>null%</th>\n",
       "      <th>nunique</th>\n",
       "      <th>unique_sample</th>\n",
       "    </tr>\n",
       "  </thead>\n",
       "  <tbody>\n",
       "    <tr>\n",
       "      <th>0</th>\n",
       "      <td>player_name</td>\n",
       "      <td>object</td>\n",
       "      <td>0</td>\n",
       "      <td>0.0</td>\n",
       "      <td>2232</td>\n",
       "      <td>[Dennis Rodman, Dwayne Schintzius, Earl Cureto...</td>\n",
       "    </tr>\n",
       "    <tr>\n",
       "      <th>1</th>\n",
       "      <td>team_abbreviation</td>\n",
       "      <td>object</td>\n",
       "      <td>0</td>\n",
       "      <td>0.0</td>\n",
       "      <td>36</td>\n",
       "      <td>[CHI, LAC, TOR, DAL]</td>\n",
       "    </tr>\n",
       "    <tr>\n",
       "      <th>2</th>\n",
       "      <td>age</td>\n",
       "      <td>float64</td>\n",
       "      <td>0</td>\n",
       "      <td>0.0</td>\n",
       "      <td>22</td>\n",
       "      <td>[36.0, 28.0, 39.0, 24.0]</td>\n",
       "    </tr>\n",
       "    <tr>\n",
       "      <th>3</th>\n",
       "      <td>player_height</td>\n",
       "      <td>float64</td>\n",
       "      <td>0</td>\n",
       "      <td>0.0</td>\n",
       "      <td>30</td>\n",
       "      <td>[198.12, 215.9, 205.74, 203.2]</td>\n",
       "    </tr>\n",
       "    <tr>\n",
       "      <th>4</th>\n",
       "      <td>player_weight</td>\n",
       "      <td>float64</td>\n",
       "      <td>0</td>\n",
       "      <td>0.0</td>\n",
       "      <td>157</td>\n",
       "      <td>[99.79024, 117.93392, 95.25432, 100.697424]</td>\n",
       "    </tr>\n",
       "    <tr>\n",
       "      <th>5</th>\n",
       "      <td>college</td>\n",
       "      <td>object</td>\n",
       "      <td>0</td>\n",
       "      <td>0.0</td>\n",
       "      <td>315</td>\n",
       "      <td>[Southeastern Oklahoma State, Florida, Detroit...</td>\n",
       "    </tr>\n",
       "    <tr>\n",
       "      <th>6</th>\n",
       "      <td>country</td>\n",
       "      <td>object</td>\n",
       "      <td>0</td>\n",
       "      <td>0.0</td>\n",
       "      <td>76</td>\n",
       "      <td>[USA, Congo, Nigeria, Lithuania]</td>\n",
       "    </tr>\n",
       "    <tr>\n",
       "      <th>7</th>\n",
       "      <td>gp</td>\n",
       "      <td>int64</td>\n",
       "      <td>0</td>\n",
       "      <td>0.0</td>\n",
       "      <td>85</td>\n",
       "      <td>[55, 15, 9, 64]</td>\n",
       "    </tr>\n",
       "    <tr>\n",
       "      <th>8</th>\n",
       "      <td>pts</td>\n",
       "      <td>float64</td>\n",
       "      <td>0</td>\n",
       "      <td>0.0</td>\n",
       "      <td>308</td>\n",
       "      <td>[5.7, 2.3, 0.8, 3.7]</td>\n",
       "    </tr>\n",
       "    <tr>\n",
       "      <th>9</th>\n",
       "      <td>reb</td>\n",
       "      <td>float64</td>\n",
       "      <td>0</td>\n",
       "      <td>0.0</td>\n",
       "      <td>154</td>\n",
       "      <td>[16.1, 1.5, 1.0, 2.3]</td>\n",
       "    </tr>\n",
       "    <tr>\n",
       "      <th>10</th>\n",
       "      <td>ast</td>\n",
       "      <td>float64</td>\n",
       "      <td>0</td>\n",
       "      <td>0.0</td>\n",
       "      <td>114</td>\n",
       "      <td>[3.1, 0.3, 0.4, 0.6]</td>\n",
       "    </tr>\n",
       "    <tr>\n",
       "      <th>11</th>\n",
       "      <td>net_rating</td>\n",
       "      <td>float64</td>\n",
       "      <td>0</td>\n",
       "      <td>0.0</td>\n",
       "      <td>707</td>\n",
       "      <td>[16.1, 12.3, -2.1, -8.7]</td>\n",
       "    </tr>\n",
       "    <tr>\n",
       "      <th>12</th>\n",
       "      <td>oreb_pct</td>\n",
       "      <td>float64</td>\n",
       "      <td>0</td>\n",
       "      <td>0.0</td>\n",
       "      <td>216</td>\n",
       "      <td>[0.18600000000000005, 0.078, 0.105, 0.06]</td>\n",
       "    </tr>\n",
       "    <tr>\n",
       "      <th>13</th>\n",
       "      <td>dreb_pct</td>\n",
       "      <td>float64</td>\n",
       "      <td>0</td>\n",
       "      <td>0.0</td>\n",
       "      <td>351</td>\n",
       "      <td>[0.32299999999999995, 0.151, 0.102, 0.149]</td>\n",
       "    </tr>\n",
       "    <tr>\n",
       "      <th>14</th>\n",
       "      <td>usg_pct</td>\n",
       "      <td>float64</td>\n",
       "      <td>0</td>\n",
       "      <td>0.0</td>\n",
       "      <td>339</td>\n",
       "      <td>[0.1, 0.175, 0.10300000000000001, 0.1669999999...</td>\n",
       "    </tr>\n",
       "    <tr>\n",
       "      <th>15</th>\n",
       "      <td>ts_pct</td>\n",
       "      <td>float64</td>\n",
       "      <td>0</td>\n",
       "      <td>0.0</td>\n",
       "      <td>528</td>\n",
       "      <td>[0.479, 0.43, 0.376, 0.39899999999999997]</td>\n",
       "    </tr>\n",
       "    <tr>\n",
       "      <th>16</th>\n",
       "      <td>ast_pct</td>\n",
       "      <td>float64</td>\n",
       "      <td>0</td>\n",
       "      <td>0.0</td>\n",
       "      <td>477</td>\n",
       "      <td>[0.113, 0.048, 0.14800000000000002, 0.077]</td>\n",
       "    </tr>\n",
       "    <tr>\n",
       "      <th>17</th>\n",
       "      <td>season</td>\n",
       "      <td>object</td>\n",
       "      <td>0</td>\n",
       "      <td>0.0</td>\n",
       "      <td>24</td>\n",
       "      <td>[1996-97, 1997-98, 1998-99, 1999-00]</td>\n",
       "    </tr>\n",
       "    <tr>\n",
       "      <th>18</th>\n",
       "      <td>potential_player</td>\n",
       "      <td>int64</td>\n",
       "      <td>0</td>\n",
       "      <td>0.0</td>\n",
       "      <td>2</td>\n",
       "      <td>[0, 1]</td>\n",
       "    </tr>\n",
       "  </tbody>\n",
       "</table>\n",
       "</div>"
      ],
      "text/plain": [
       "             features    dtype  null  null%  nunique  \\\n",
       "0         player_name   object     0    0.0     2232   \n",
       "1   team_abbreviation   object     0    0.0       36   \n",
       "2                 age  float64     0    0.0       22   \n",
       "3       player_height  float64     0    0.0       30   \n",
       "4       player_weight  float64     0    0.0      157   \n",
       "5             college   object     0    0.0      315   \n",
       "6             country   object     0    0.0       76   \n",
       "7                  gp    int64     0    0.0       85   \n",
       "8                 pts  float64     0    0.0      308   \n",
       "9                 reb  float64     0    0.0      154   \n",
       "10                ast  float64     0    0.0      114   \n",
       "11         net_rating  float64     0    0.0      707   \n",
       "12           oreb_pct  float64     0    0.0      216   \n",
       "13           dreb_pct  float64     0    0.0      351   \n",
       "14            usg_pct  float64     0    0.0      339   \n",
       "15             ts_pct  float64     0    0.0      528   \n",
       "16            ast_pct  float64     0    0.0      477   \n",
       "17             season   object     0    0.0       24   \n",
       "18   potential_player    int64     0    0.0        2   \n",
       "\n",
       "                                        unique_sample  \n",
       "0   [Dennis Rodman, Dwayne Schintzius, Earl Cureto...  \n",
       "1                                [CHI, LAC, TOR, DAL]  \n",
       "2                            [36.0, 28.0, 39.0, 24.0]  \n",
       "3                      [198.12, 215.9, 205.74, 203.2]  \n",
       "4         [99.79024, 117.93392, 95.25432, 100.697424]  \n",
       "5   [Southeastern Oklahoma State, Florida, Detroit...  \n",
       "6                    [USA, Congo, Nigeria, Lithuania]  \n",
       "7                                     [55, 15, 9, 64]  \n",
       "8                                [5.7, 2.3, 0.8, 3.7]  \n",
       "9                               [16.1, 1.5, 1.0, 2.3]  \n",
       "10                               [3.1, 0.3, 0.4, 0.6]  \n",
       "11                           [16.1, 12.3, -2.1, -8.7]  \n",
       "12          [0.18600000000000005, 0.078, 0.105, 0.06]  \n",
       "13         [0.32299999999999995, 0.151, 0.102, 0.149]  \n",
       "14  [0.1, 0.175, 0.10300000000000001, 0.1669999999...  \n",
       "15          [0.479, 0.43, 0.376, 0.39899999999999997]  \n",
       "16         [0.113, 0.048, 0.14800000000000002, 0.077]  \n",
       "17               [1996-97, 1997-98, 1998-99, 1999-00]  \n",
       "18                                             [0, 1]  "
      ]
     },
     "execution_count": 22,
     "metadata": {},
     "output_type": "execute_result"
    }
   ],
   "source": [
    "# Mendeskripsikan semua data per features (kolom)\n",
    "list_item = []\n",
    "for column in dfc.columns:\n",
    "    list_item.append([column, dfc[column].dtype, dfc[column].isnull().sum(),\n",
    "                     round(dfc[column].isnull().sum()/len(dfc),2), dfc[column].nunique(), \n",
    "                      dfc[column].unique()[:4]])\n",
    "desc_dfc = pd.DataFrame(data=list_item, columns='features dtype null null% nunique unique_sample'.split())\n",
    "desc_dfc"
   ]
  },
  {
   "cell_type": "markdown",
   "metadata": {},
   "source": [
    "### Feature Selection"
   ]
  },
  {
   "cell_type": "code",
   "execution_count": 23,
   "metadata": {},
   "outputs": [
    {
     "data": {
      "image/png": "[encoded data removed]",
      "text/plain": [
       "<Figure size 864x576 with 2 Axes>"
      ]
     },
     "metadata": {
      "needs_background": "light"
     },
     "output_type": "display_data"
    }
   ],
   "source": [
    "# Correlation\n",
    "plt.figure(figsize=(12,8))\n",
    "sns.heatmap(dfc.corr(), annot=True)\n",
    "plt.show()"
   ]
  },
  {
   "cell_type": "code",
   "execution_count": 25,
   "metadata": {},
   "outputs": [
    {
     "data": {
      "text/html": [
       "<div>\n",
       "<style scoped>\n",
       "    .dataframe tbody tr th:only-of-type {\n",
       "        vertical-align: middle;\n",
       "    }\n",
       "\n",
       "    .dataframe tbody tr th {\n",
       "        vertical-align: top;\n",
       "    }\n",
       "\n",
       "    .dataframe thead th {\n",
       "        text-align: right;\n",
       "    }\n",
       "</style>\n",
       "<table border=\"1\" class=\"dataframe\">\n",
       "  <thead>\n",
       "    <tr style=\"text-align: right;\">\n",
       "      <th></th>\n",
       "      <th>Pearson_Coef</th>\n",
       "    </tr>\n",
       "  </thead>\n",
       "  <tbody>\n",
       "    <tr>\n",
       "      <th>ast</th>\n",
       "      <td>0.504426</td>\n",
       "    </tr>\n",
       "    <tr>\n",
       "      <th>pts</th>\n",
       "      <td>0.421059</td>\n",
       "    </tr>\n",
       "    <tr>\n",
       "      <th>ast_pct</th>\n",
       "      <td>0.345324</td>\n",
       "    </tr>\n",
       "    <tr>\n",
       "      <th>usg_pct</th>\n",
       "      <td>0.303256</td>\n",
       "    </tr>\n",
       "    <tr>\n",
       "      <th>reb</th>\n",
       "      <td>0.201604</td>\n",
       "    </tr>\n",
       "    <tr>\n",
       "      <th>gp</th>\n",
       "      <td>0.140938</td>\n",
       "    </tr>\n",
       "    <tr>\n",
       "      <th>net_rating</th>\n",
       "      <td>0.090098</td>\n",
       "    </tr>\n",
       "    <tr>\n",
       "      <th>ts_pct</th>\n",
       "      <td>0.085102</td>\n",
       "    </tr>\n",
       "    <tr>\n",
       "      <th>dreb_pct</th>\n",
       "      <td>0.015794</td>\n",
       "    </tr>\n",
       "    <tr>\n",
       "      <th>age</th>\n",
       "      <td>0.010428</td>\n",
       "    </tr>\n",
       "    <tr>\n",
       "      <th>player_weight</th>\n",
       "      <td>-0.062287</td>\n",
       "    </tr>\n",
       "    <tr>\n",
       "      <th>oreb_pct</th>\n",
       "      <td>-0.083397</td>\n",
       "    </tr>\n",
       "    <tr>\n",
       "      <th>player_height</th>\n",
       "      <td>-0.085745</td>\n",
       "    </tr>\n",
       "  </tbody>\n",
       "</table>\n",
       "</div>"
      ],
      "text/plain": [
       "               Pearson_Coef\n",
       "ast                0.504426\n",
       "pts                0.421059\n",
       "ast_pct            0.345324\n",
       "usg_pct            0.303256\n",
       "reb                0.201604\n",
       "gp                 0.140938\n",
       "net_rating         0.090098\n",
       "ts_pct             0.085102\n",
       "dreb_pct           0.015794\n",
       "age                0.010428\n",
       "player_weight     -0.062287\n",
       "oreb_pct          -0.083397\n",
       "player_height     -0.085745"
      ]
     },
     "execution_count": 25,
     "metadata": {},
     "output_type": "execute_result"
    }
   ],
   "source": [
    "dfc.corr()[['potential_player']].sort_values('potential_player', ascending=False).iloc[1:].rename(columns={'potential_player': 'Pearson_Coef'})"
   ]
  },
  {
   "cell_type": "code",
   "execution_count": 26,
   "metadata": {},
   "outputs": [],
   "source": [
    "# Correlation Ratio\n",
    "def correlation_ratio(categories, measurements):\n",
    "    \n",
    "    def convert(data, to):\n",
    "        converted = None\n",
    "        if to == 'array':\n",
    "            if isinstance(data, np.ndarray):\n",
    "                converted = data\n",
    "            elif isinstance(data, pd.Series):\n",
    "                converted = data.values\n",
    "            elif isinstance(data, list):\n",
    "                converted = np.array(data)\n",
    "            elif isinstance(data, pd.DataFrame):\n",
    "                converted = data.as_matrix()\n",
    "        elif to == 'list':\n",
    "            if isinstance(data, list):\n",
    "                converted = data\n",
    "            elif isinstance(data, pd.Series):\n",
    "                converted = data.values.tolist()\n",
    "            elif isinstance(data, np.ndarray):\n",
    "                converted = data.tolist()\n",
    "        elif to == 'dataframe':\n",
    "            if isinstance(data, pd.DataFrame):\n",
    "                converted = data\n",
    "            elif isinstance(data, np.ndarray):\n",
    "                converted = pd.DataFrame(data)\n",
    "        else:\n",
    "            raise ValueError(\"Unknown data conversion: {}\".format(to))\n",
    "        if converted is None:\n",
    "            raise TypeError('cannot handle data conversion of type: {} to {}'.format(type(data),to))\n",
    "        else:\n",
    "            return converted\n",
    "        \n",
    "    categories = convert(categories, 'array')\n",
    "    measurements = convert(measurements, 'array')\n",
    "    fcat, _ = pd.factorize(categories)\n",
    "    cat_num = np.max(fcat)+1\n",
    "    y_avg_array = np.zeros(cat_num)\n",
    "    n_array = np.zeros(cat_num)\n",
    "    for i in range(0,cat_num):\n",
    "        cat_measures = measurements[np.argwhere(fcat == i).flatten()]\n",
    "        n_array[i] = len(cat_measures)\n",
    "        y_avg_array[i] = np.average(cat_measures)\n",
    "    y_total_avg = np.sum(np.multiply(y_avg_array,n_array))/np.sum(n_array)\n",
    "    numerator = np.sum(np.multiply(n_array,np.power(np.subtract(y_avg_array,y_total_avg),2)))\n",
    "    denominator = np.sum(np.power(np.subtract(measurements,y_total_avg),2))\n",
    "    if numerator == 0:\n",
    "        eta = 0.0\n",
    "    else:\n",
    "        eta = numerator/denominator\n",
    "    return eta"
   ]
  },
  {
   "cell_type": "code",
   "execution_count": 27,
   "metadata": {},
   "outputs": [
    {
     "data": {
      "text/plain": [
       "Index(['player_name', 'team_abbreviation', 'college', 'country', 'season'], dtype='object')"
      ]
     },
     "execution_count": 27,
     "metadata": {},
     "output_type": "execute_result"
    }
   ],
   "source": [
    "obj_col = dfc.select_dtypes(include=['object']).columns\n",
    "obj_col"
   ]
  },
  {
   "cell_type": "code",
   "execution_count": 28,
   "metadata": {},
   "outputs": [
    {
     "data": {
      "text/html": [
       "<div>\n",
       "<style scoped>\n",
       "    .dataframe tbody tr th:only-of-type {\n",
       "        vertical-align: middle;\n",
       "    }\n",
       "\n",
       "    .dataframe tbody tr th {\n",
       "        vertical-align: top;\n",
       "    }\n",
       "\n",
       "    .dataframe thead th {\n",
       "        text-align: right;\n",
       "    }\n",
       "</style>\n",
       "<table border=\"1\" class=\"dataframe\">\n",
       "  <thead>\n",
       "    <tr style=\"text-align: right;\">\n",
       "      <th></th>\n",
       "      <th>correlation_ratio_score</th>\n",
       "    </tr>\n",
       "  </thead>\n",
       "  <tbody>\n",
       "    <tr>\n",
       "      <th>player_name</th>\n",
       "      <td>0.502985</td>\n",
       "    </tr>\n",
       "    <tr>\n",
       "      <th>college</th>\n",
       "      <td>0.061453</td>\n",
       "    </tr>\n",
       "    <tr>\n",
       "      <th>team_abbreviation</th>\n",
       "      <td>0.008773</td>\n",
       "    </tr>\n",
       "    <tr>\n",
       "      <th>country</th>\n",
       "      <td>0.006635</td>\n",
       "    </tr>\n",
       "    <tr>\n",
       "      <th>season</th>\n",
       "      <td>0.002903</td>\n",
       "    </tr>\n",
       "  </tbody>\n",
       "</table>\n",
       "</div>"
      ],
      "text/plain": [
       "                   correlation_ratio_score\n",
       "player_name                       0.502985\n",
       "college                           0.061453\n",
       "team_abbreviation                 0.008773\n",
       "country                           0.006635\n",
       "season                            0.002903"
      ]
     },
     "execution_count": 28,
     "metadata": {},
     "output_type": "execute_result"
    }
   ],
   "source": [
    "corr = {}\n",
    "for col in obj_col:\n",
    "    corr[col] = correlation_ratio(dfc[col], dfc['potential_player'])  # potential_player as continous variable\n",
    "corr_df = pd.DataFrame(corr.values(), index=corr.keys(), columns=['correlation_ratio_score'])\n",
    "corr_df.sort_values('correlation_ratio_score', ascending=False)"
   ]
  },
  {
   "cell_type": "code",
   "execution_count": 30,
   "metadata": {},
   "outputs": [
    {
     "name": "stdout",
     "output_type": "stream",
     "text": [
      "['player_name', 'team_abbreviation', 'age', 'player_height', 'player_weight', 'college', 'country', 'gp', 'pts', 'reb', 'ast', 'net_rating', 'oreb_pct', 'dreb_pct', 'usg_pct', 'ts_pct', 'ast_pct', 'season', 'potential_player']\n"
     ]
    }
   ],
   "source": [
    "print(dfc.columns.tolist())"
   ]
  },
  {
   "cell_type": "code",
   "execution_count": 31,
   "metadata": {
    "scrolled": true
   },
   "outputs": [
    {
     "data": {
      "text/html": [
       "<div>\n",
       "<style scoped>\n",
       "    .dataframe tbody tr th:only-of-type {\n",
       "        vertical-align: middle;\n",
       "    }\n",
       "\n",
       "    .dataframe tbody tr th {\n",
       "        vertical-align: top;\n",
       "    }\n",
       "\n",
       "    .dataframe thead th {\n",
       "        text-align: right;\n",
       "    }\n",
       "</style>\n",
       "<table border=\"1\" class=\"dataframe\">\n",
       "  <thead>\n",
       "    <tr style=\"text-align: right;\">\n",
       "      <th></th>\n",
       "      <th>age</th>\n",
       "      <th>player_height</th>\n",
       "      <th>player_weight</th>\n",
       "      <th>gp</th>\n",
       "      <th>pts</th>\n",
       "      <th>reb</th>\n",
       "      <th>ast</th>\n",
       "      <th>net_rating</th>\n",
       "      <th>oreb_pct</th>\n",
       "      <th>dreb_pct</th>\n",
       "      <th>usg_pct</th>\n",
       "      <th>ts_pct</th>\n",
       "      <th>ast_pct</th>\n",
       "      <th>potential_player</th>\n",
       "    </tr>\n",
       "  </thead>\n",
       "  <tbody>\n",
       "    <tr>\n",
       "      <th>0</th>\n",
       "      <td>36.0</td>\n",
       "      <td>198.12</td>\n",
       "      <td>99.790240</td>\n",
       "      <td>55</td>\n",
       "      <td>5.7</td>\n",
       "      <td>16.1</td>\n",
       "      <td>3.1</td>\n",
       "      <td>16.1</td>\n",
       "      <td>0.186</td>\n",
       "      <td>0.323</td>\n",
       "      <td>0.100</td>\n",
       "      <td>0.479</td>\n",
       "      <td>0.113</td>\n",
       "      <td>0</td>\n",
       "    </tr>\n",
       "    <tr>\n",
       "      <th>1</th>\n",
       "      <td>28.0</td>\n",
       "      <td>215.90</td>\n",
       "      <td>117.933920</td>\n",
       "      <td>15</td>\n",
       "      <td>2.3</td>\n",
       "      <td>1.5</td>\n",
       "      <td>0.3</td>\n",
       "      <td>12.3</td>\n",
       "      <td>0.078</td>\n",
       "      <td>0.151</td>\n",
       "      <td>0.175</td>\n",
       "      <td>0.430</td>\n",
       "      <td>0.048</td>\n",
       "      <td>0</td>\n",
       "    </tr>\n",
       "    <tr>\n",
       "      <th>2</th>\n",
       "      <td>39.0</td>\n",
       "      <td>205.74</td>\n",
       "      <td>95.254320</td>\n",
       "      <td>9</td>\n",
       "      <td>0.8</td>\n",
       "      <td>1.0</td>\n",
       "      <td>0.4</td>\n",
       "      <td>-2.1</td>\n",
       "      <td>0.105</td>\n",
       "      <td>0.102</td>\n",
       "      <td>0.103</td>\n",
       "      <td>0.376</td>\n",
       "      <td>0.148</td>\n",
       "      <td>0</td>\n",
       "    </tr>\n",
       "    <tr>\n",
       "      <th>3</th>\n",
       "      <td>24.0</td>\n",
       "      <td>203.20</td>\n",
       "      <td>100.697424</td>\n",
       "      <td>64</td>\n",
       "      <td>3.7</td>\n",
       "      <td>2.3</td>\n",
       "      <td>0.6</td>\n",
       "      <td>-8.7</td>\n",
       "      <td>0.060</td>\n",
       "      <td>0.149</td>\n",
       "      <td>0.167</td>\n",
       "      <td>0.399</td>\n",
       "      <td>0.077</td>\n",
       "      <td>0</td>\n",
       "    </tr>\n",
       "    <tr>\n",
       "      <th>4</th>\n",
       "      <td>34.0</td>\n",
       "      <td>205.74</td>\n",
       "      <td>108.862080</td>\n",
       "      <td>27</td>\n",
       "      <td>2.4</td>\n",
       "      <td>2.4</td>\n",
       "      <td>0.2</td>\n",
       "      <td>-11.2</td>\n",
       "      <td>0.109</td>\n",
       "      <td>0.179</td>\n",
       "      <td>0.127</td>\n",
       "      <td>0.611</td>\n",
       "      <td>0.040</td>\n",
       "      <td>0</td>\n",
       "    </tr>\n",
       "    <tr>\n",
       "      <th>...</th>\n",
       "      <td>...</td>\n",
       "      <td>...</td>\n",
       "      <td>...</td>\n",
       "      <td>...</td>\n",
       "      <td>...</td>\n",
       "      <td>...</td>\n",
       "      <td>...</td>\n",
       "      <td>...</td>\n",
       "      <td>...</td>\n",
       "      <td>...</td>\n",
       "      <td>...</td>\n",
       "      <td>...</td>\n",
       "      <td>...</td>\n",
       "      <td>...</td>\n",
       "    </tr>\n",
       "    <tr>\n",
       "      <th>11140</th>\n",
       "      <td>28.0</td>\n",
       "      <td>208.28</td>\n",
       "      <td>108.862080</td>\n",
       "      <td>63</td>\n",
       "      <td>9.1</td>\n",
       "      <td>5.4</td>\n",
       "      <td>1.1</td>\n",
       "      <td>4.6</td>\n",
       "      <td>0.056</td>\n",
       "      <td>0.140</td>\n",
       "      <td>0.136</td>\n",
       "      <td>0.605</td>\n",
       "      <td>0.064</td>\n",
       "      <td>0</td>\n",
       "    </tr>\n",
       "    <tr>\n",
       "      <th>11141</th>\n",
       "      <td>23.0</td>\n",
       "      <td>195.58</td>\n",
       "      <td>97.522280</td>\n",
       "      <td>15</td>\n",
       "      <td>1.2</td>\n",
       "      <td>0.3</td>\n",
       "      <td>0.1</td>\n",
       "      <td>-2.4</td>\n",
       "      <td>0.018</td>\n",
       "      <td>0.058</td>\n",
       "      <td>0.164</td>\n",
       "      <td>0.480</td>\n",
       "      <td>0.033</td>\n",
       "      <td>0</td>\n",
       "    </tr>\n",
       "    <tr>\n",
       "      <th>11142</th>\n",
       "      <td>28.0</td>\n",
       "      <td>213.36</td>\n",
       "      <td>117.933920</td>\n",
       "      <td>49</td>\n",
       "      <td>6.1</td>\n",
       "      <td>5.1</td>\n",
       "      <td>1.1</td>\n",
       "      <td>5.6</td>\n",
       "      <td>0.029</td>\n",
       "      <td>0.217</td>\n",
       "      <td>0.120</td>\n",
       "      <td>0.640</td>\n",
       "      <td>0.076</td>\n",
       "      <td>0</td>\n",
       "    </tr>\n",
       "    <tr>\n",
       "      <th>11143</th>\n",
       "      <td>27.0</td>\n",
       "      <td>208.28</td>\n",
       "      <td>104.779752</td>\n",
       "      <td>20</td>\n",
       "      <td>2.1</td>\n",
       "      <td>3.0</td>\n",
       "      <td>0.4</td>\n",
       "      <td>-16.4</td>\n",
       "      <td>0.085</td>\n",
       "      <td>0.237</td>\n",
       "      <td>0.126</td>\n",
       "      <td>0.521</td>\n",
       "      <td>0.056</td>\n",
       "      <td>0</td>\n",
       "    </tr>\n",
       "    <tr>\n",
       "      <th>11144</th>\n",
       "      <td>25.0</td>\n",
       "      <td>193.04</td>\n",
       "      <td>86.182480</td>\n",
       "      <td>31</td>\n",
       "      <td>4.5</td>\n",
       "      <td>1.4</td>\n",
       "      <td>0.5</td>\n",
       "      <td>1.0</td>\n",
       "      <td>0.017</td>\n",
       "      <td>0.104</td>\n",
       "      <td>0.149</td>\n",
       "      <td>0.663</td>\n",
       "      <td>0.089</td>\n",
       "      <td>0</td>\n",
       "    </tr>\n",
       "  </tbody>\n",
       "</table>\n",
       "<p>11104 rows × 14 columns</p>\n",
       "</div>"
      ],
      "text/plain": [
       "        age  player_height  player_weight  gp  pts   reb  ast  net_rating  \\\n",
       "0      36.0         198.12      99.790240  55  5.7  16.1  3.1        16.1   \n",
       "1      28.0         215.90     117.933920  15  2.3   1.5  0.3        12.3   \n",
       "2      39.0         205.74      95.254320   9  0.8   1.0  0.4        -2.1   \n",
       "3      24.0         203.20     100.697424  64  3.7   2.3  0.6        -8.7   \n",
       "4      34.0         205.74     108.862080  27  2.4   2.4  0.2       -11.2   \n",
       "...     ...            ...            ...  ..  ...   ...  ...         ...   \n",
       "11140  28.0         208.28     108.862080  63  9.1   5.4  1.1         4.6   \n",
       "11141  23.0         195.58      97.522280  15  1.2   0.3  0.1        -2.4   \n",
       "11142  28.0         213.36     117.933920  49  6.1   5.1  1.1         5.6   \n",
       "11143  27.0         208.28     104.779752  20  2.1   3.0  0.4       -16.4   \n",
       "11144  25.0         193.04      86.182480  31  4.5   1.4  0.5         1.0   \n",
       "\n",
       "       oreb_pct  dreb_pct  usg_pct  ts_pct  ast_pct  potential_player  \n",
       "0         0.186     0.323    0.100   0.479    0.113                 0  \n",
       "1         0.078     0.151    0.175   0.430    0.048                 0  \n",
       "2         0.105     0.102    0.103   0.376    0.148                 0  \n",
       "3         0.060     0.149    0.167   0.399    0.077                 0  \n",
       "4         0.109     0.179    0.127   0.611    0.040                 0  \n",
       "...         ...       ...      ...     ...      ...               ...  \n",
       "11140     0.056     0.140    0.136   0.605    0.064                 0  \n",
       "11141     0.018     0.058    0.164   0.480    0.033                 0  \n",
       "11142     0.029     0.217    0.120   0.640    0.076                 0  \n",
       "11143     0.085     0.237    0.126   0.521    0.056                 0  \n",
       "11144     0.017     0.104    0.149   0.663    0.089                 0  \n",
       "\n",
       "[11104 rows x 14 columns]"
      ]
     },
     "execution_count": 31,
     "metadata": {},
     "output_type": "execute_result"
    }
   ],
   "source": [
    "# Dari Feature Selection dipilih kolom2 di dataframe df_fix. Dataframe ini akan digunakan untuk machine learning.\n",
    "# karena korelasi yang rendah dan juga secara domain knowledge nama, id, college, dan negara bukan fitur utama dalam menilai skill pemain.\n",
    "df_fix = dfc.drop(obj_col, axis=1)\n",
    "df_fix"
   ]
  },
  {
   "cell_type": "code",
   "execution_count": 33,
   "metadata": {},
   "outputs": [
    {
     "data": {
      "text/html": [
       "<div>\n",
       "<style scoped>\n",
       "    .dataframe tbody tr th:only-of-type {\n",
       "        vertical-align: middle;\n",
       "    }\n",
       "\n",
       "    .dataframe tbody tr th {\n",
       "        vertical-align: top;\n",
       "    }\n",
       "\n",
       "    .dataframe thead th {\n",
       "        text-align: right;\n",
       "    }\n",
       "</style>\n",
       "<table border=\"1\" class=\"dataframe\">\n",
       "  <thead>\n",
       "    <tr style=\"text-align: right;\">\n",
       "      <th></th>\n",
       "      <th>age</th>\n",
       "      <th>player_height</th>\n",
       "      <th>player_weight</th>\n",
       "      <th>gp</th>\n",
       "      <th>pts</th>\n",
       "      <th>reb</th>\n",
       "      <th>ast</th>\n",
       "      <th>net_rating</th>\n",
       "      <th>oreb_pct</th>\n",
       "      <th>dreb_pct</th>\n",
       "      <th>usg_pct</th>\n",
       "      <th>ts_pct</th>\n",
       "      <th>ast_pct</th>\n",
       "    </tr>\n",
       "  </thead>\n",
       "  <tbody>\n",
       "    <tr>\n",
       "      <th>0</th>\n",
       "      <td>36.0</td>\n",
       "      <td>198.12</td>\n",
       "      <td>99.790240</td>\n",
       "      <td>55</td>\n",
       "      <td>5.7</td>\n",
       "      <td>16.1</td>\n",
       "      <td>3.1</td>\n",
       "      <td>16.1</td>\n",
       "      <td>0.186</td>\n",
       "      <td>0.323</td>\n",
       "      <td>0.100</td>\n",
       "      <td>0.479</td>\n",
       "      <td>0.113</td>\n",
       "    </tr>\n",
       "    <tr>\n",
       "      <th>1</th>\n",
       "      <td>28.0</td>\n",
       "      <td>215.90</td>\n",
       "      <td>117.933920</td>\n",
       "      <td>15</td>\n",
       "      <td>2.3</td>\n",
       "      <td>1.5</td>\n",
       "      <td>0.3</td>\n",
       "      <td>12.3</td>\n",
       "      <td>0.078</td>\n",
       "      <td>0.151</td>\n",
       "      <td>0.175</td>\n",
       "      <td>0.430</td>\n",
       "      <td>0.048</td>\n",
       "    </tr>\n",
       "    <tr>\n",
       "      <th>2</th>\n",
       "      <td>39.0</td>\n",
       "      <td>205.74</td>\n",
       "      <td>95.254320</td>\n",
       "      <td>9</td>\n",
       "      <td>0.8</td>\n",
       "      <td>1.0</td>\n",
       "      <td>0.4</td>\n",
       "      <td>-2.1</td>\n",
       "      <td>0.105</td>\n",
       "      <td>0.102</td>\n",
       "      <td>0.103</td>\n",
       "      <td>0.376</td>\n",
       "      <td>0.148</td>\n",
       "    </tr>\n",
       "    <tr>\n",
       "      <th>3</th>\n",
       "      <td>24.0</td>\n",
       "      <td>203.20</td>\n",
       "      <td>100.697424</td>\n",
       "      <td>64</td>\n",
       "      <td>3.7</td>\n",
       "      <td>2.3</td>\n",
       "      <td>0.6</td>\n",
       "      <td>-8.7</td>\n",
       "      <td>0.060</td>\n",
       "      <td>0.149</td>\n",
       "      <td>0.167</td>\n",
       "      <td>0.399</td>\n",
       "      <td>0.077</td>\n",
       "    </tr>\n",
       "    <tr>\n",
       "      <th>4</th>\n",
       "      <td>34.0</td>\n",
       "      <td>205.74</td>\n",
       "      <td>108.862080</td>\n",
       "      <td>27</td>\n",
       "      <td>2.4</td>\n",
       "      <td>2.4</td>\n",
       "      <td>0.2</td>\n",
       "      <td>-11.2</td>\n",
       "      <td>0.109</td>\n",
       "      <td>0.179</td>\n",
       "      <td>0.127</td>\n",
       "      <td>0.611</td>\n",
       "      <td>0.040</td>\n",
       "    </tr>\n",
       "  </tbody>\n",
       "</table>\n",
       "</div>"
      ],
      "text/plain": [
       "    age  player_height  player_weight  gp  pts   reb  ast  net_rating  \\\n",
       "0  36.0         198.12      99.790240  55  5.7  16.1  3.1        16.1   \n",
       "1  28.0         215.90     117.933920  15  2.3   1.5  0.3        12.3   \n",
       "2  39.0         205.74      95.254320   9  0.8   1.0  0.4        -2.1   \n",
       "3  24.0         203.20     100.697424  64  3.7   2.3  0.6        -8.7   \n",
       "4  34.0         205.74     108.862080  27  2.4   2.4  0.2       -11.2   \n",
       "\n",
       "   oreb_pct  dreb_pct  usg_pct  ts_pct  ast_pct  \n",
       "0     0.186     0.323    0.100   0.479    0.113  \n",
       "1     0.078     0.151    0.175   0.430    0.048  \n",
       "2     0.105     0.102    0.103   0.376    0.148  \n",
       "3     0.060     0.149    0.167   0.399    0.077  \n",
       "4     0.109     0.179    0.127   0.611    0.040  "
      ]
     },
     "metadata": {},
     "output_type": "display_data"
    },
    {
     "data": {
      "text/plain": [
       "0    0\n",
       "1    0\n",
       "2    0\n",
       "3    0\n",
       "4    0\n",
       "Name: potential_player, dtype: int64"
      ]
     },
     "metadata": {},
     "output_type": "display_data"
    }
   ],
   "source": [
    "X = df_fix.drop('potential_player', axis=1)\n",
    "y = df_fix['potential_player']\n",
    "\n",
    "display(X.head())\n",
    "display(y.head())"
   ]
  },
  {
   "cell_type": "code",
   "execution_count": 35,
   "metadata": {},
   "outputs": [
    {
     "data": {
      "text/plain": [
       "array([[ 2.07811436, -0.29165921, -0.06627479, ..., -1.61698069,\n",
       "        -0.29393434, -0.19087484],\n",
       "       [ 0.2061572 ,  1.64388131,  1.3765075 , ..., -0.20199112,\n",
       "        -0.78907208, -0.87547312],\n",
       "       [ 2.78009829,  0.53785816, -0.42697037, ..., -1.5603811 ,\n",
       "        -1.33473407,  0.17775501],\n",
       "       ...,\n",
       "       [ 0.2061572 ,  1.36737552,  1.3765075 , ..., -1.23965013,\n",
       "         1.3329468 , -0.58056925],\n",
       "       [-0.02783744,  0.81436395,  0.33049034, ..., -1.12645097,\n",
       "         0.13046943, -0.79121487],\n",
       "       [-0.49582673, -0.84467079, -1.14836151, ..., -0.69252084,\n",
       "         1.56535839, -0.44364959]])"
      ]
     },
     "execution_count": 35,
     "metadata": {},
     "output_type": "execute_result"
    }
   ],
   "source": [
    "# karena nilai age dan nilai seperti oreb_pct, dreb_pct, usg_pct, dll berbanding jauh, maka perlu di skala dahulu.\n",
    "stdscaler = StandardScaler()\n",
    "stdscaler.fit(X)\n",
    "scaled_features = stdscaler.transform(X)\n",
    "scaled_features"
   ]
  },
  {
   "cell_type": "code",
   "execution_count": 36,
   "metadata": {},
   "outputs": [
    {
     "data": {
      "text/html": [
       "<div>\n",
       "<style scoped>\n",
       "    .dataframe tbody tr th:only-of-type {\n",
       "        vertical-align: middle;\n",
       "    }\n",
       "\n",
       "    .dataframe tbody tr th {\n",
       "        vertical-align: top;\n",
       "    }\n",
       "\n",
       "    .dataframe thead th {\n",
       "        text-align: right;\n",
       "    }\n",
       "</style>\n",
       "<table border=\"1\" class=\"dataframe\">\n",
       "  <thead>\n",
       "    <tr style=\"text-align: right;\">\n",
       "      <th></th>\n",
       "      <th>age</th>\n",
       "      <th>player_height</th>\n",
       "      <th>player_weight</th>\n",
       "      <th>gp</th>\n",
       "      <th>pts</th>\n",
       "      <th>reb</th>\n",
       "      <th>ast</th>\n",
       "      <th>net_rating</th>\n",
       "      <th>oreb_pct</th>\n",
       "      <th>dreb_pct</th>\n",
       "      <th>usg_pct</th>\n",
       "      <th>ts_pct</th>\n",
       "      <th>ast_pct</th>\n",
       "    </tr>\n",
       "  </thead>\n",
       "  <tbody>\n",
       "    <tr>\n",
       "      <th>0</th>\n",
       "      <td>2.078114</td>\n",
       "      <td>-0.291659</td>\n",
       "      <td>-0.066275</td>\n",
       "      <td>0.118245</td>\n",
       "      <td>-0.410587</td>\n",
       "      <td>5.021372</td>\n",
       "      <td>0.725037</td>\n",
       "      <td>1.501031</td>\n",
       "      <td>2.970828</td>\n",
       "      <td>2.868271</td>\n",
       "      <td>-1.616981</td>\n",
       "      <td>-0.293934</td>\n",
       "      <td>-0.190875</td>\n",
       "    </tr>\n",
       "    <tr>\n",
       "      <th>1</th>\n",
       "      <td>0.206157</td>\n",
       "      <td>1.643881</td>\n",
       "      <td>1.376508</td>\n",
       "      <td>-1.477668</td>\n",
       "      <td>-0.983173</td>\n",
       "      <td>-0.826262</td>\n",
       "      <td>-0.839898</td>\n",
       "      <td>1.188612</td>\n",
       "      <td>0.510115</td>\n",
       "      <td>0.146893</td>\n",
       "      <td>-0.201991</td>\n",
       "      <td>-0.789072</td>\n",
       "      <td>-0.875473</td>\n",
       "    </tr>\n",
       "    <tr>\n",
       "      <th>2</th>\n",
       "      <td>2.780098</td>\n",
       "      <td>0.537858</td>\n",
       "      <td>-0.426970</td>\n",
       "      <td>-1.717055</td>\n",
       "      <td>-1.235785</td>\n",
       "      <td>-1.026524</td>\n",
       "      <td>-0.784008</td>\n",
       "      <td>0.004711</td>\n",
       "      <td>1.125293</td>\n",
       "      <td>-0.628383</td>\n",
       "      <td>-1.560381</td>\n",
       "      <td>-1.334734</td>\n",
       "      <td>0.177755</td>\n",
       "    </tr>\n",
       "    <tr>\n",
       "      <th>3</th>\n",
       "      <td>-0.729821</td>\n",
       "      <td>0.261352</td>\n",
       "      <td>0.005864</td>\n",
       "      <td>0.477326</td>\n",
       "      <td>-0.747402</td>\n",
       "      <td>-0.505844</td>\n",
       "      <td>-0.672227</td>\n",
       "      <td>-0.537911</td>\n",
       "      <td>0.099996</td>\n",
       "      <td>0.115249</td>\n",
       "      <td>-0.352923</td>\n",
       "      <td>-1.102322</td>\n",
       "      <td>-0.570037</td>\n",
       "    </tr>\n",
       "    <tr>\n",
       "      <th>4</th>\n",
       "      <td>1.610125</td>\n",
       "      <td>0.537858</td>\n",
       "      <td>0.655116</td>\n",
       "      <td>-0.998894</td>\n",
       "      <td>-0.966332</td>\n",
       "      <td>-0.465792</td>\n",
       "      <td>-0.895789</td>\n",
       "      <td>-0.743450</td>\n",
       "      <td>1.216430</td>\n",
       "      <td>0.589908</td>\n",
       "      <td>-1.107584</td>\n",
       "      <td>1.039906</td>\n",
       "      <td>-0.959731</td>\n",
       "    </tr>\n",
       "    <tr>\n",
       "      <th>...</th>\n",
       "      <td>...</td>\n",
       "      <td>...</td>\n",
       "      <td>...</td>\n",
       "      <td>...</td>\n",
       "      <td>...</td>\n",
       "      <td>...</td>\n",
       "      <td>...</td>\n",
       "      <td>...</td>\n",
       "      <td>...</td>\n",
       "      <td>...</td>\n",
       "      <td>...</td>\n",
       "      <td>...</td>\n",
       "      <td>...</td>\n",
       "    </tr>\n",
       "    <tr>\n",
       "      <th>11099</th>\n",
       "      <td>0.206157</td>\n",
       "      <td>0.814364</td>\n",
       "      <td>0.655116</td>\n",
       "      <td>0.437428</td>\n",
       "      <td>0.162000</td>\n",
       "      <td>0.735777</td>\n",
       "      <td>-0.392774</td>\n",
       "      <td>0.555554</td>\n",
       "      <td>0.008858</td>\n",
       "      <td>-0.027148</td>\n",
       "      <td>-0.937786</td>\n",
       "      <td>0.979277</td>\n",
       "      <td>-0.706957</td>\n",
       "    </tr>\n",
       "    <tr>\n",
       "      <th>11100</th>\n",
       "      <td>-0.963816</td>\n",
       "      <td>-0.568165</td>\n",
       "      <td>-0.246623</td>\n",
       "      <td>-1.477668</td>\n",
       "      <td>-1.168422</td>\n",
       "      <td>-1.306890</td>\n",
       "      <td>-0.951680</td>\n",
       "      <td>-0.019954</td>\n",
       "      <td>-0.856949</td>\n",
       "      <td>-1.324550</td>\n",
       "      <td>-0.409523</td>\n",
       "      <td>-0.283829</td>\n",
       "      <td>-1.033457</td>\n",
       "    </tr>\n",
       "    <tr>\n",
       "      <th>11101</th>\n",
       "      <td>0.206157</td>\n",
       "      <td>1.367376</td>\n",
       "      <td>1.376508</td>\n",
       "      <td>-0.121142</td>\n",
       "      <td>-0.343223</td>\n",
       "      <td>0.615620</td>\n",
       "      <td>-0.392774</td>\n",
       "      <td>0.637769</td>\n",
       "      <td>-0.606320</td>\n",
       "      <td>1.191143</td>\n",
       "      <td>-1.239650</td>\n",
       "      <td>1.332947</td>\n",
       "      <td>-0.580569</td>\n",
       "    </tr>\n",
       "    <tr>\n",
       "      <th>11102</th>\n",
       "      <td>-0.027837</td>\n",
       "      <td>0.814364</td>\n",
       "      <td>0.330490</td>\n",
       "      <td>-1.278179</td>\n",
       "      <td>-1.016855</td>\n",
       "      <td>-0.225478</td>\n",
       "      <td>-0.784008</td>\n",
       "      <td>-1.170970</td>\n",
       "      <td>0.669605</td>\n",
       "      <td>1.507582</td>\n",
       "      <td>-1.126451</td>\n",
       "      <td>0.130469</td>\n",
       "      <td>-0.791215</td>\n",
       "    </tr>\n",
       "    <tr>\n",
       "      <th>11103</th>\n",
       "      <td>-0.495827</td>\n",
       "      <td>-0.844671</td>\n",
       "      <td>-1.148362</td>\n",
       "      <td>-0.839303</td>\n",
       "      <td>-0.612676</td>\n",
       "      <td>-0.866315</td>\n",
       "      <td>-0.728117</td>\n",
       "      <td>0.259578</td>\n",
       "      <td>-0.879733</td>\n",
       "      <td>-0.596739</td>\n",
       "      <td>-0.692521</td>\n",
       "      <td>1.565358</td>\n",
       "      <td>-0.443650</td>\n",
       "    </tr>\n",
       "  </tbody>\n",
       "</table>\n",
       "<p>11104 rows × 13 columns</p>\n",
       "</div>"
      ],
      "text/plain": [
       "            age  player_height  player_weight        gp       pts       reb  \\\n",
       "0      2.078114      -0.291659      -0.066275  0.118245 -0.410587  5.021372   \n",
       "1      0.206157       1.643881       1.376508 -1.477668 -0.983173 -0.826262   \n",
       "2      2.780098       0.537858      -0.426970 -1.717055 -1.235785 -1.026524   \n",
       "3     -0.729821       0.261352       0.005864  0.477326 -0.747402 -0.505844   \n",
       "4      1.610125       0.537858       0.655116 -0.998894 -0.966332 -0.465792   \n",
       "...         ...            ...            ...       ...       ...       ...   \n",
       "11099  0.206157       0.814364       0.655116  0.437428  0.162000  0.735777   \n",
       "11100 -0.963816      -0.568165      -0.246623 -1.477668 -1.168422 -1.306890   \n",
       "11101  0.206157       1.367376       1.376508 -0.121142 -0.343223  0.615620   \n",
       "11102 -0.027837       0.814364       0.330490 -1.278179 -1.016855 -0.225478   \n",
       "11103 -0.495827      -0.844671      -1.148362 -0.839303 -0.612676 -0.866315   \n",
       "\n",
       "            ast  net_rating  oreb_pct  dreb_pct   usg_pct    ts_pct   ast_pct  \n",
       "0      0.725037    1.501031  2.970828  2.868271 -1.616981 -0.293934 -0.190875  \n",
       "1     -0.839898    1.188612  0.510115  0.146893 -0.201991 -0.789072 -0.875473  \n",
       "2     -0.784008    0.004711  1.125293 -0.628383 -1.560381 -1.334734  0.177755  \n",
       "3     -0.672227   -0.537911  0.099996  0.115249 -0.352923 -1.102322 -0.570037  \n",
       "4     -0.895789   -0.743450  1.216430  0.589908 -1.107584  1.039906 -0.959731  \n",
       "...         ...         ...       ...       ...       ...       ...       ...  \n",
       "11099 -0.392774    0.555554  0.008858 -0.027148 -0.937786  0.979277 -0.706957  \n",
       "11100 -0.951680   -0.019954 -0.856949 -1.324550 -0.409523 -0.283829 -1.033457  \n",
       "11101 -0.392774    0.637769 -0.606320  1.191143 -1.239650  1.332947 -0.580569  \n",
       "11102 -0.784008   -1.170970  0.669605  1.507582 -1.126451  0.130469 -0.791215  \n",
       "11103 -0.728117    0.259578 -0.879733 -0.596739 -0.692521  1.565358 -0.443650  \n",
       "\n",
       "[11104 rows x 13 columns]"
      ]
     },
     "execution_count": 36,
     "metadata": {},
     "output_type": "execute_result"
    }
   ],
   "source": [
    "df_stdscaled = pd.DataFrame(scaled_features, columns=X.columns)\n",
    "df_stdscaled"
   ]
  },
  {
   "cell_type": "markdown",
   "metadata": {},
   "source": [
    "## 2. Data visualisasi (Insight)"
   ]
  },
  {
   "cell_type": "code",
   "execution_count": 37,
   "metadata": {},
   "outputs": [
    {
     "data": {
      "image/png": "[encoded data removed]",
      "text/plain": [
       "<Figure size 432x288 with 1 Axes>"
      ]
     },
     "metadata": {},
     "output_type": "display_data"
    },
    {
     "data": {
      "text/plain": [
       "[10650, 454]"
      ]
     },
     "metadata": {},
     "output_type": "display_data"
    }
   ],
   "source": [
    "sizes = [len(dfc[dfc['potential_player']==False]), len(dfc[dfc['potential_player']==True])]\n",
    "labels = ['No potential_player', 'potential_player']\n",
    "plt.pie(sizes, labels=labels, autopct='%1.1f%%', startangle=90)\n",
    "plt.show()\n",
    "display(sizes)\n",
    "\n",
    "# Chart berikut menampilkan nilai rasio antara pemain berpotensi dan tidak yang terdapat di dalam data"
   ]
  },
  {
   "cell_type": "code",
   "execution_count": 39,
   "metadata": {},
   "outputs": [
    {
     "name": "stderr",
     "output_type": "stream",
     "text": [
      "C:\\Users\\Asyraf\\anaconda3\\lib\\site-packages\\ipykernel_launcher.py:2: SettingWithCopyWarning: \n",
      "A value is trying to be set on a copy of a slice from a DataFrame.\n",
      "Try using .loc[row_indexer,col_indexer] = value instead\n",
      "\n",
      "See the caveats in the documentation: https://pandas.pydata.org/pandas-docs/stable/user_guide/indexing.html#returning-a-view-versus-a-copy\n",
      "  \n"
     ]
    },
    {
     "data": {
      "text/html": [
       "<div>\n",
       "<style scoped>\n",
       "    .dataframe tbody tr th:only-of-type {\n",
       "        vertical-align: middle;\n",
       "    }\n",
       "\n",
       "    .dataframe tbody tr th {\n",
       "        vertical-align: top;\n",
       "    }\n",
       "\n",
       "    .dataframe thead th {\n",
       "        text-align: right;\n",
       "    }\n",
       "</style>\n",
       "<table border=\"1\" class=\"dataframe\">\n",
       "  <thead>\n",
       "    <tr style=\"text-align: right;\">\n",
       "      <th></th>\n",
       "      <th>player_name</th>\n",
       "      <th>team_abbreviation</th>\n",
       "      <th>college</th>\n",
       "      <th>country</th>\n",
       "      <th>season</th>\n",
       "      <th>potential_player</th>\n",
       "    </tr>\n",
       "  </thead>\n",
       "  <tbody>\n",
       "    <tr>\n",
       "      <th>0</th>\n",
       "      <td>Dennis Rodman</td>\n",
       "      <td>CHI</td>\n",
       "      <td>Southeastern Oklahoma State</td>\n",
       "      <td>USA</td>\n",
       "      <td>1996-97</td>\n",
       "      <td>0</td>\n",
       "    </tr>\n",
       "    <tr>\n",
       "      <th>1</th>\n",
       "      <td>Dwayne Schintzius</td>\n",
       "      <td>LAC</td>\n",
       "      <td>Florida</td>\n",
       "      <td>USA</td>\n",
       "      <td>1996-97</td>\n",
       "      <td>0</td>\n",
       "    </tr>\n",
       "    <tr>\n",
       "      <th>2</th>\n",
       "      <td>Earl Cureton</td>\n",
       "      <td>TOR</td>\n",
       "      <td>Detroit Mercy</td>\n",
       "      <td>USA</td>\n",
       "      <td>1996-97</td>\n",
       "      <td>0</td>\n",
       "    </tr>\n",
       "    <tr>\n",
       "      <th>3</th>\n",
       "      <td>Ed O'Bannon</td>\n",
       "      <td>DAL</td>\n",
       "      <td>UCLA</td>\n",
       "      <td>USA</td>\n",
       "      <td>1996-97</td>\n",
       "      <td>0</td>\n",
       "    </tr>\n",
       "    <tr>\n",
       "      <th>4</th>\n",
       "      <td>Ed Pinckney</td>\n",
       "      <td>MIA</td>\n",
       "      <td>Villanova</td>\n",
       "      <td>USA</td>\n",
       "      <td>1996-97</td>\n",
       "      <td>0</td>\n",
       "    </tr>\n",
       "  </tbody>\n",
       "</table>\n",
       "</div>"
      ],
      "text/plain": [
       "         player_name team_abbreviation                      college country  \\\n",
       "0      Dennis Rodman               CHI  Southeastern Oklahoma State     USA   \n",
       "1  Dwayne Schintzius               LAC                      Florida     USA   \n",
       "2       Earl Cureton               TOR                Detroit Mercy     USA   \n",
       "3        Ed O'Bannon               DAL                         UCLA     USA   \n",
       "4        Ed Pinckney               MIA                    Villanova     USA   \n",
       "\n",
       "    season  potential_player  \n",
       "0  1996-97                 0  \n",
       "1  1996-97                 0  \n",
       "2  1996-97                 0  \n",
       "3  1996-97                 0  \n",
       "4  1996-97                 0  "
      ]
     },
     "execution_count": 39,
     "metadata": {},
     "output_type": "execute_result"
    }
   ],
   "source": [
    "df_obj_p = dfc.select_dtypes(include='object')\n",
    "df_obj_p['potential_player'] = dfc['potential_player']\n",
    "df_obj_p.head()"
   ]
  },
  {
   "cell_type": "code",
   "execution_count": 40,
   "metadata": {
    "scrolled": true
   },
   "outputs": [
    {
     "data": {
      "text/plain": [
       "potential_player  player_name    \n",
       "0                 Dirk Nowitzki      19\n",
       "                  Jamal Crawford     19\n",
       "                  Tyson Chandler     19\n",
       "                  Derek Fisher       18\n",
       "                  Jermaine O'Neal    18\n",
       "                                     ..\n",
       "1                 Stephen Jackson     1\n",
       "                  Steve Nash          1\n",
       "                  T.J. Ford           1\n",
       "                  Terry Rozier        1\n",
       "                  Trae Young          1\n",
       "Name: player_name, Length: 2360, dtype: int64"
      ]
     },
     "metadata": {},
     "output_type": "display_data"
    },
    {
     "data": {
      "text/plain": [
       "potential_player  team_abbreviation\n",
       "0                 DAL                  377\n",
       "                  CLE                  376\n",
       "                  LAC                  376\n",
       "                  TOR                  375\n",
       "                  ATL                  367\n",
       "                                      ... \n",
       "1                 DAL                    4\n",
       "                  MEM                    4\n",
       "                  NYK                    3\n",
       "                  BKN                    2\n",
       "                  NOK                    2\n",
       "Name: team_abbreviation, Length: 71, dtype: int64"
      ]
     },
     "metadata": {},
     "output_type": "display_data"
    },
    {
     "data": {
      "text/plain": [
       "potential_player  college        \n",
       "0                 None               1587\n",
       "                  Kentucky            324\n",
       "                  Duke                322\n",
       "                  North Carolina      303\n",
       "                  UCLA                252\n",
       "                                     ... \n",
       "1                 San Diego State       1\n",
       "                  Santa Clara           1\n",
       "                  Tennessee State       1\n",
       "                  Texas A&M             1\n",
       "                  Virginia              1\n",
       "Name: college, Length: 383, dtype: int64"
      ]
     },
     "metadata": {},
     "output_type": "display_data"
    },
    {
     "data": {
      "text/plain": [
       "potential_player  country   \n",
       "0                 USA           8979\n",
       "                  France         146\n",
       "                  Canada         137\n",
       "                  Brazil          78\n",
       "                  Spain           71\n",
       "                                ... \n",
       "1                 Turkey           2\n",
       "                  Lithuania        1\n",
       "                  Montenegro       1\n",
       "                  Russia           1\n",
       "                  Venezuela        1\n",
       "Name: country, Length: 92, dtype: int64"
      ]
     },
     "metadata": {},
     "output_type": "display_data"
    },
    {
     "data": {
      "text/plain": [
       "potential_player  season \n",
       "0                 2017-18    508\n",
       "                  2018-19    496\n",
       "                  2019-20    481\n",
       "                  2014-15    473\n",
       "                  2011-12    467\n",
       "                  2016-17    461\n",
       "                  2013-14    460\n",
       "                  2012-13    450\n",
       "                  2015-16    448\n",
       "                  2004-05    446\n",
       "                  2006-07    439\n",
       "                  2010-11    438\n",
       "                  2005-06    435\n",
       "                  2007-08    434\n",
       "                  2008-09    428\n",
       "                  2009-10    428\n",
       "                  1999-00    427\n",
       "                  1997-98    424\n",
       "                  1998-99    423\n",
       "                  1996-97    421\n",
       "                  2000-01    420\n",
       "                  2003-04    420\n",
       "                  2001-02    418\n",
       "                  2002-03    405\n",
       "1                 2018-19     32\n",
       "                  2019-20     32\n",
       "                  2017-18     28\n",
       "                  2015-16     25\n",
       "                  2016-17     24\n",
       "                  2005-06     22\n",
       "                  2001-02     21\n",
       "                  2013-14     21\n",
       "                  2000-01     20\n",
       "                  2002-03     20\n",
       "                  2003-04     19\n",
       "                  2014-15     19\n",
       "                  1996-97     17\n",
       "                  2004-05     17\n",
       "                  2006-07     16\n",
       "                  2008-09     16\n",
       "                  2007-08     15\n",
       "                  2012-13     15\n",
       "                  2009-10     14\n",
       "                  2010-11     14\n",
       "                  1997-98     13\n",
       "                  1998-99     12\n",
       "                  1999-00     11\n",
       "                  2011-12     11\n",
       "Name: season, dtype: int64"
      ]
     },
     "metadata": {},
     "output_type": "display_data"
    },
    {
     "data": {
      "text/plain": [
       "potential_player  potential_player\n",
       "0                 0                   10650\n",
       "1                 1                     454\n",
       "Name: potential_player, dtype: int64"
      ]
     },
     "metadata": {},
     "output_type": "display_data"
    }
   ],
   "source": [
    "# Membuat group by potential_player\n",
    "by_pp = dfc.groupby('potential_player')\n",
    "for i in df_obj_p.columns.tolist():\n",
    "    display(by_pp[i].value_counts())"
   ]
  },
  {
   "cell_type": "code",
   "execution_count": 50,
   "metadata": {},
   "outputs": [
    {
     "data": {
      "text/plain": [
       "Index(['None', 'Kentucky', 'Duke', 'North Carolina', 'UCLA', 'Kansas',\n",
       "       'Arizona', 'Connecticut', 'Georgia Tech', 'Florida'],\n",
       "      dtype='object', name='college')"
      ]
     },
     "execution_count": 50,
     "metadata": {},
     "output_type": "execute_result"
    }
   ],
   "source": [
    "by_pp['college'].value_counts(normalize=True)[0].head(10).index"
   ]
  },
  {
   "cell_type": "code",
   "execution_count": 60,
   "metadata": {},
   "outputs": [
    {
     "data": {
      "image/png": "[encoded data removed]",
      "text/plain": [
       "<Figure size 864x360 with 2 Axes>"
      ]
     },
     "metadata": {},
     "output_type": "display_data"
    }
   ],
   "source": [
    "# Menggambarkan nilai rasio college pada potential_player dalam bentuk chart\n",
    "\n",
    "labels_ppf = by_pp['college'].value_counts()[0].head(10).index.tolist()\n",
    "labels_ppt = by_pp['college'].value_counts()[1].head(10).index.tolist()\n",
    "\n",
    "plt.figure(figsize=(12,5))\n",
    "explode = [0, 0, 0, 0, 0, 0, 0, 0, 0, 0.2]\n",
    "plt.subplot(121)\n",
    "plt.title('not potential_player', loc='left')\n",
    "plt.pie(by_pp['college'].value_counts()[0].head(10), labels=labels_ppf, explode=explode, autopct='%1.1f%%', startangle=90)\n",
    "\n",
    "plt.subplot(122)\n",
    "plt.title('potential_player', loc='left')\n",
    "plt.pie(by_pp['college'].value_counts()[1].head(10), labels=labels_ppt, explode=explode, autopct='%1.1f%%', startangle=90)\n",
    "\n",
    "plt.show()"
   ]
  },
  {
   "cell_type": "code",
   "execution_count": 61,
   "metadata": {},
   "outputs": [
    {
     "data": {
      "image/png": "[encoded data removed]",
      "text/plain": [
       "<Figure size 1080x720 with 4 Axes>"
      ]
     },
     "metadata": {
      "needs_background": "light"
     },
     "output_type": "display_data"
    }
   ],
   "source": [
    "# Membandingkan antara games played dan points berdasarkan potential_player\n",
    "\n",
    "plt.figure(figsize=(15,10))\n",
    "\n",
    "df_pp_false = dfc[dfc['potential_player']==0]\n",
    "df_pp_true = dfc[dfc['potential_player']==1]\n",
    "\n",
    "plt.subplot(221)\n",
    "plt.title('gp vs potential_player False')\n",
    "sns.distplot(df_pp_false['gp'])\n",
    "plt.axvline(df_pp_false['gp'].mean(), color='r', label='mean')\n",
    "plt.axvline(df_pp_false['gp'].median(), color='orange', label='median')\n",
    "plt.axvline(df_pp_false['gp'].mode()[0], color='brown', label='modus')\n",
    "plt.legend()\n",
    "\n",
    "plt.subplot(222)\n",
    "plt.title('gp vs potential_player True')\n",
    "sns.distplot(df_pp_true['gp'])\n",
    "plt.axvline(df_pp_true['gp'].mean(), color='r', label='mean')\n",
    "plt.axvline(df_pp_true['gp'].median(), color='orange', label='median')\n",
    "plt.axvline(df_pp_true['gp'].mode()[0], color='brown', label='modus')\n",
    "plt.legend()\n",
    "\n",
    "plt.subplot(223)\n",
    "plt.title('pts vs potential_player False')\n",
    "sns.distplot(df_pp_false['pts'])\n",
    "plt.axvline(df_pp_false['pts'].mean(), color='r', label='mean')\n",
    "plt.axvline(df_pp_false['pts'].median(), color='orange', label='median')\n",
    "plt.axvline(df_pp_false['pts'].mode()[0], color='brown', label='modus')\n",
    "plt.legend()\n",
    "\n",
    "plt.subplot(224)\n",
    "plt.title('pts vs potential_player True')\n",
    "sns.distplot(df_pp_true['pts'])\n",
    "plt.axvline(df_pp_true['pts'].mean(), color='r', label='mean')\n",
    "plt.axvline(df_pp_true['pts'].median(), color='orange', label='median')\n",
    "plt.axvline(df_pp_true['pts'].mode()[0], color='brown', label='modus')\n",
    "plt.legend()\n",
    "\n",
    "plt.show()"
   ]
  },
  {
   "cell_type": "code",
   "execution_count": 196,
   "metadata": {},
   "outputs": [
    {
     "data": {
      "text/plain": [
       "Index(['player_name', 'team_abbreviation', 'age', 'player_height',\n",
       "       'player_weight', 'college', 'country', 'gp', 'pts', 'reb', 'ast',\n",
       "       'net_rating', 'oreb_pct', 'dreb_pct', 'usg_pct', 'ts_pct', 'ast_pct',\n",
       "       'season', 'potential_player'],\n",
       "      dtype='object')"
      ]
     },
     "execution_count": 196,
     "metadata": {},
     "output_type": "execute_result"
    }
   ],
   "source": [
    "dfc.columns"
   ]
  },
  {
   "cell_type": "code",
   "execution_count": 212,
   "metadata": {},
   "outputs": [
    {
     "data": {
      "text/plain": [
       "<matplotlib.axes._subplots.AxesSubplot at 0x26893399808>"
      ]
     },
     "execution_count": 212,
     "metadata": {},
     "output_type": "execute_result"
    },
    {
     "data": {
      "image/png": "[encoded data removed]",
      "text/plain": [
       "<Figure size 432x288 with 1 Axes>"
      ]
     },
     "metadata": {
      "needs_background": "light"
     },
     "output_type": "display_data"
    }
   ],
   "source": [
    "best_10_ctr = dfc.sort_values('pts', ascending=False)['country'].unique()[:10].tolist()\n",
    "best_10_ctr\n",
    "idx_ctr = []\n",
    "for i in best_10_ctr:\n",
    "    idx_ctr.append(dfc[dfc['country'].str.contains(i)].head(1).index[0])\n",
    "df_ctr = pd.DataFrame(dfc, index=idx_ctr).sort_values('pts', ascending=False)\n",
    "\n",
    "plt.title('potential_player vs best 10 country')\n",
    "sns.countplot(y=df_ctr['country'], hue=df_ctr['potential_player'])\n",
    "\n",
    "# Menampikan 10 negara yang memiliki poin tertinggi. Ternyata negara yang memiliki poin tertingi tidak memiliki pemain berpotensi."
   ]
  },
  {
   "cell_type": "code",
   "execution_count": 63,
   "metadata": {},
   "outputs": [
    {
     "data": {
      "image/png": "[encoded data removed]",
      "text/plain": [
       "<Figure size 432x288 with 1 Axes>"
      ]
     },
     "metadata": {
      "needs_background": "light"
     },
     "output_type": "display_data"
    }
   ],
   "source": [
    "sns.regplot(x='player_weight', y='reb', data=dfc)\n",
    "plt.show()"
   ]
  },
  {
   "cell_type": "code",
   "execution_count": 64,
   "metadata": {},
   "outputs": [
    {
     "data": {
      "text/plain": [
       "<matplotlib.axes._subplots.AxesSubplot at 0x2688a498208>"
      ]
     },
     "execution_count": 64,
     "metadata": {},
     "output_type": "execute_result"
    },
    {
     "data": {
      "image/png": "[encoded data removed]",
      "text/plain": [
       "<Figure size 432x288 with 2 Axes>"
      ]
     },
     "metadata": {
      "needs_background": "light"
     },
     "output_type": "display_data"
    }
   ],
   "source": [
    "sns.heatmap(dfc[['player_weight', 'reb']].corr(), annot=True)"
   ]
  },
  {
   "cell_type": "markdown",
   "metadata": {},
   "source": [
    "berat pemain (player_weight) dan rebound memilik korelasi positif meski hanya 0.44"
   ]
  },
  {
   "cell_type": "code",
   "execution_count": 65,
   "metadata": {},
   "outputs": [
    {
     "data": {
      "text/plain": [
       "<matplotlib.axes._subplots.AxesSubplot at 0x2688ad91208>"
      ]
     },
     "execution_count": 65,
     "metadata": {},
     "output_type": "execute_result"
    },
    {
     "data": {
      "image/png": "[encoded data removed]",
      "text/plain": [
       "<Figure size 432x288 with 1 Axes>"
      ]
     },
     "metadata": {
      "needs_background": "light"
     },
     "output_type": "display_data"
    }
   ],
   "source": [
    "name_10 = dfc.sort_values('pts', ascending=False)['player_name'].unique()[:10].tolist()\n",
    "idx_name = []\n",
    "for i in name_10:\n",
    "    idx_name.append(dfc[dfc['player_name'].str.contains(i)].head(1).index[0])\n",
    "df_name = pd.DataFrame(dfc, index=idx_name).sort_values('pts', ascending=False)\n",
    "sns.barplot(df_name['pts'], df_name['player_name'])\n",
    "\n",
    "# Peraih poin terbanyak adalah Allen Iverson"
   ]
  },
  {
   "cell_type": "code",
   "execution_count": 67,
   "metadata": {},
   "outputs": [
    {
     "data": {
      "text/plain": [
       "<seaborn.axisgrid.PairGrid at 0x2688be2a648>"
      ]
     },
     "execution_count": 67,
     "metadata": {},
     "output_type": "execute_result"
    },
    {
     "data": {
      "image/png": "[encoded data removed]",
      "text/plain": [
       "<Figure size 448.75x360 with 6 Axes>"
      ]
     },
     "metadata": {
      "needs_background": "light"
     },
     "output_type": "display_data"
    }
   ],
   "source": [
    "sns.pairplot(dfc[['gp', 'reb', 'potential_player']], hue='potential_player')"
   ]
  },
  {
   "cell_type": "markdown",
   "metadata": {},
   "source": [
    "## 3. train_test_split"
   ]
  },
  {
   "cell_type": "code",
   "execution_count": 79,
   "metadata": {},
   "outputs": [
    {
     "data": {
      "text/html": [
       "<div>\n",
       "<style scoped>\n",
       "    .dataframe tbody tr th:only-of-type {\n",
       "        vertical-align: middle;\n",
       "    }\n",
       "\n",
       "    .dataframe tbody tr th {\n",
       "        vertical-align: top;\n",
       "    }\n",
       "\n",
       "    .dataframe thead th {\n",
       "        text-align: right;\n",
       "    }\n",
       "</style>\n",
       "<table border=\"1\" class=\"dataframe\">\n",
       "  <thead>\n",
       "    <tr style=\"text-align: right;\">\n",
       "      <th></th>\n",
       "      <th>age</th>\n",
       "      <th>player_height</th>\n",
       "      <th>player_weight</th>\n",
       "      <th>gp</th>\n",
       "      <th>pts</th>\n",
       "      <th>reb</th>\n",
       "      <th>ast</th>\n",
       "      <th>net_rating</th>\n",
       "      <th>oreb_pct</th>\n",
       "      <th>dreb_pct</th>\n",
       "      <th>usg_pct</th>\n",
       "      <th>ts_pct</th>\n",
       "      <th>ast_pct</th>\n",
       "    </tr>\n",
       "  </thead>\n",
       "  <tbody>\n",
       "    <tr>\n",
       "      <th>0</th>\n",
       "      <td>2.078114</td>\n",
       "      <td>-0.291659</td>\n",
       "      <td>-0.066275</td>\n",
       "      <td>0.118245</td>\n",
       "      <td>-0.410587</td>\n",
       "      <td>5.021372</td>\n",
       "      <td>0.725037</td>\n",
       "      <td>1.501031</td>\n",
       "      <td>2.970828</td>\n",
       "      <td>2.868271</td>\n",
       "      <td>-1.616981</td>\n",
       "      <td>-0.293934</td>\n",
       "      <td>-0.190875</td>\n",
       "    </tr>\n",
       "    <tr>\n",
       "      <th>1</th>\n",
       "      <td>0.206157</td>\n",
       "      <td>1.643881</td>\n",
       "      <td>1.376508</td>\n",
       "      <td>-1.477668</td>\n",
       "      <td>-0.983173</td>\n",
       "      <td>-0.826262</td>\n",
       "      <td>-0.839898</td>\n",
       "      <td>1.188612</td>\n",
       "      <td>0.510115</td>\n",
       "      <td>0.146893</td>\n",
       "      <td>-0.201991</td>\n",
       "      <td>-0.789072</td>\n",
       "      <td>-0.875473</td>\n",
       "    </tr>\n",
       "    <tr>\n",
       "      <th>2</th>\n",
       "      <td>2.780098</td>\n",
       "      <td>0.537858</td>\n",
       "      <td>-0.426970</td>\n",
       "      <td>-1.717055</td>\n",
       "      <td>-1.235785</td>\n",
       "      <td>-1.026524</td>\n",
       "      <td>-0.784008</td>\n",
       "      <td>0.004711</td>\n",
       "      <td>1.125293</td>\n",
       "      <td>-0.628383</td>\n",
       "      <td>-1.560381</td>\n",
       "      <td>-1.334734</td>\n",
       "      <td>0.177755</td>\n",
       "    </tr>\n",
       "    <tr>\n",
       "      <th>3</th>\n",
       "      <td>-0.729821</td>\n",
       "      <td>0.261352</td>\n",
       "      <td>0.005864</td>\n",
       "      <td>0.477326</td>\n",
       "      <td>-0.747402</td>\n",
       "      <td>-0.505844</td>\n",
       "      <td>-0.672227</td>\n",
       "      <td>-0.537911</td>\n",
       "      <td>0.099996</td>\n",
       "      <td>0.115249</td>\n",
       "      <td>-0.352923</td>\n",
       "      <td>-1.102322</td>\n",
       "      <td>-0.570037</td>\n",
       "    </tr>\n",
       "    <tr>\n",
       "      <th>4</th>\n",
       "      <td>1.610125</td>\n",
       "      <td>0.537858</td>\n",
       "      <td>0.655116</td>\n",
       "      <td>-0.998894</td>\n",
       "      <td>-0.966332</td>\n",
       "      <td>-0.465792</td>\n",
       "      <td>-0.895789</td>\n",
       "      <td>-0.743450</td>\n",
       "      <td>1.216430</td>\n",
       "      <td>0.589908</td>\n",
       "      <td>-1.107584</td>\n",
       "      <td>1.039906</td>\n",
       "      <td>-0.959731</td>\n",
       "    </tr>\n",
       "    <tr>\n",
       "      <th>...</th>\n",
       "      <td>...</td>\n",
       "      <td>...</td>\n",
       "      <td>...</td>\n",
       "      <td>...</td>\n",
       "      <td>...</td>\n",
       "      <td>...</td>\n",
       "      <td>...</td>\n",
       "      <td>...</td>\n",
       "      <td>...</td>\n",
       "      <td>...</td>\n",
       "      <td>...</td>\n",
       "      <td>...</td>\n",
       "      <td>...</td>\n",
       "    </tr>\n",
       "    <tr>\n",
       "      <th>11099</th>\n",
       "      <td>0.206157</td>\n",
       "      <td>0.814364</td>\n",
       "      <td>0.655116</td>\n",
       "      <td>0.437428</td>\n",
       "      <td>0.162000</td>\n",
       "      <td>0.735777</td>\n",
       "      <td>-0.392774</td>\n",
       "      <td>0.555554</td>\n",
       "      <td>0.008858</td>\n",
       "      <td>-0.027148</td>\n",
       "      <td>-0.937786</td>\n",
       "      <td>0.979277</td>\n",
       "      <td>-0.706957</td>\n",
       "    </tr>\n",
       "    <tr>\n",
       "      <th>11100</th>\n",
       "      <td>-0.963816</td>\n",
       "      <td>-0.568165</td>\n",
       "      <td>-0.246623</td>\n",
       "      <td>-1.477668</td>\n",
       "      <td>-1.168422</td>\n",
       "      <td>-1.306890</td>\n",
       "      <td>-0.951680</td>\n",
       "      <td>-0.019954</td>\n",
       "      <td>-0.856949</td>\n",
       "      <td>-1.324550</td>\n",
       "      <td>-0.409523</td>\n",
       "      <td>-0.283829</td>\n",
       "      <td>-1.033457</td>\n",
       "    </tr>\n",
       "    <tr>\n",
       "      <th>11101</th>\n",
       "      <td>0.206157</td>\n",
       "      <td>1.367376</td>\n",
       "      <td>1.376508</td>\n",
       "      <td>-0.121142</td>\n",
       "      <td>-0.343223</td>\n",
       "      <td>0.615620</td>\n",
       "      <td>-0.392774</td>\n",
       "      <td>0.637769</td>\n",
       "      <td>-0.606320</td>\n",
       "      <td>1.191143</td>\n",
       "      <td>-1.239650</td>\n",
       "      <td>1.332947</td>\n",
       "      <td>-0.580569</td>\n",
       "    </tr>\n",
       "    <tr>\n",
       "      <th>11102</th>\n",
       "      <td>-0.027837</td>\n",
       "      <td>0.814364</td>\n",
       "      <td>0.330490</td>\n",
       "      <td>-1.278179</td>\n",
       "      <td>-1.016855</td>\n",
       "      <td>-0.225478</td>\n",
       "      <td>-0.784008</td>\n",
       "      <td>-1.170970</td>\n",
       "      <td>0.669605</td>\n",
       "      <td>1.507582</td>\n",
       "      <td>-1.126451</td>\n",
       "      <td>0.130469</td>\n",
       "      <td>-0.791215</td>\n",
       "    </tr>\n",
       "    <tr>\n",
       "      <th>11103</th>\n",
       "      <td>-0.495827</td>\n",
       "      <td>-0.844671</td>\n",
       "      <td>-1.148362</td>\n",
       "      <td>-0.839303</td>\n",
       "      <td>-0.612676</td>\n",
       "      <td>-0.866315</td>\n",
       "      <td>-0.728117</td>\n",
       "      <td>0.259578</td>\n",
       "      <td>-0.879733</td>\n",
       "      <td>-0.596739</td>\n",
       "      <td>-0.692521</td>\n",
       "      <td>1.565358</td>\n",
       "      <td>-0.443650</td>\n",
       "    </tr>\n",
       "  </tbody>\n",
       "</table>\n",
       "<p>11104 rows × 13 columns</p>\n",
       "</div>"
      ],
      "text/plain": [
       "            age  player_height  player_weight        gp       pts       reb  \\\n",
       "0      2.078114      -0.291659      -0.066275  0.118245 -0.410587  5.021372   \n",
       "1      0.206157       1.643881       1.376508 -1.477668 -0.983173 -0.826262   \n",
       "2      2.780098       0.537858      -0.426970 -1.717055 -1.235785 -1.026524   \n",
       "3     -0.729821       0.261352       0.005864  0.477326 -0.747402 -0.505844   \n",
       "4      1.610125       0.537858       0.655116 -0.998894 -0.966332 -0.465792   \n",
       "...         ...            ...            ...       ...       ...       ...   \n",
       "11099  0.206157       0.814364       0.655116  0.437428  0.162000  0.735777   \n",
       "11100 -0.963816      -0.568165      -0.246623 -1.477668 -1.168422 -1.306890   \n",
       "11101  0.206157       1.367376       1.376508 -0.121142 -0.343223  0.615620   \n",
       "11102 -0.027837       0.814364       0.330490 -1.278179 -1.016855 -0.225478   \n",
       "11103 -0.495827      -0.844671      -1.148362 -0.839303 -0.612676 -0.866315   \n",
       "\n",
       "            ast  net_rating  oreb_pct  dreb_pct   usg_pct    ts_pct   ast_pct  \n",
       "0      0.725037    1.501031  2.970828  2.868271 -1.616981 -0.293934 -0.190875  \n",
       "1     -0.839898    1.188612  0.510115  0.146893 -0.201991 -0.789072 -0.875473  \n",
       "2     -0.784008    0.004711  1.125293 -0.628383 -1.560381 -1.334734  0.177755  \n",
       "3     -0.672227   -0.537911  0.099996  0.115249 -0.352923 -1.102322 -0.570037  \n",
       "4     -0.895789   -0.743450  1.216430  0.589908 -1.107584  1.039906 -0.959731  \n",
       "...         ...         ...       ...       ...       ...       ...       ...  \n",
       "11099 -0.392774    0.555554  0.008858 -0.027148 -0.937786  0.979277 -0.706957  \n",
       "11100 -0.951680   -0.019954 -0.856949 -1.324550 -0.409523 -0.283829 -1.033457  \n",
       "11101 -0.392774    0.637769 -0.606320  1.191143 -1.239650  1.332947 -0.580569  \n",
       "11102 -0.784008   -1.170970  0.669605  1.507582 -1.126451  0.130469 -0.791215  \n",
       "11103 -0.728117    0.259578 -0.879733 -0.596739 -0.692521  1.565358 -0.443650  \n",
       "\n",
       "[11104 rows x 13 columns]"
      ]
     },
     "metadata": {},
     "output_type": "display_data"
    },
    {
     "data": {
      "text/plain": [
       "0        0\n",
       "1        0\n",
       "2        0\n",
       "3        0\n",
       "4        0\n",
       "        ..\n",
       "11140    0\n",
       "11141    0\n",
       "11142    0\n",
       "11143    0\n",
       "11144    0\n",
       "Name: potential_player, Length: 11104, dtype: int64"
      ]
     },
     "metadata": {},
     "output_type": "display_data"
    }
   ],
   "source": [
    "display(df_stdscaled)\n",
    "display(y)"
   ]
  },
  {
   "cell_type": "code",
   "execution_count": 80,
   "metadata": {},
   "outputs": [
    {
     "name": "stdout",
     "output_type": "stream",
     "text": [
      "11104\n",
      "8883 8883\n",
      "2221 2221\n"
     ]
    }
   ],
   "source": [
    "X_train, X_test, y_train, y_test = train_test_split(df_stdscaled, y, test_size=0.2, random_state = 1)\n",
    "print(len(df_fix))\n",
    "print(len(X_train), len(y_train))\n",
    "print(len(X_test), len(y_test))"
   ]
  },
  {
   "cell_type": "code",
   "execution_count": 81,
   "metadata": {},
   "outputs": [
    {
     "data": {
      "text/plain": [
       "11104"
      ]
     },
     "execution_count": 81,
     "metadata": {},
     "output_type": "execute_result"
    }
   ],
   "source": [
    "8883 + 2221 "
   ]
  },
  {
   "cell_type": "markdown",
   "metadata": {},
   "source": [
    "## 4. Machine Learning"
   ]
  },
  {
   "cell_type": "markdown",
   "metadata": {},
   "source": [
    "### A. Decision Tree Classifier\n",
    "- Cara kerja Decision Tree Classifier:\n",
    "\n",
    "**Decision Tree (Gini):**\n",
    "1. Hitung gini dari setiap kolom terhadap target (dependent variable). Kolom dengan gini paling kecil di paling atas (sebagai root)\n",
    "2. Lalu hitung lagi gini dari setiap kolom lainnya berdasarkan unique dari kolom di atasnya. Kolom dengan gini paling kecil lah yg dipilih.\n",
    "3. Lalu hitung lagi gini dari setiap kolom lainnya berdasarkan unique dari kolom yg tadi dipilih. Kolom dengan gini paling kecil lah yg dipilih.\n",
    "4. Begitu seterusnya.\n",
    "\n",
    "\n",
    "**Decision Tree (Entropy):**\n",
    "- Pola hitungannya kebalikan dari Gini.\n",
    "- Jadi kolom dengan nilai Entropy paling besar yg dipilih duluan.\n",
    "\n",
    "#### Decision Tree Classifier\n",
    "Using the decision algorithm, we start at the tree root and split the data on the feature that results in the **largest information gain (IG)** (reduction in uncertainty towards the final decision).\n",
    "In an iterative process, we can then repeat this splitting procedure at each child node until the **leaves are pure**. This means that the samples at each leaf node all belong to the same class.\n",
    "In practice, we may set a **limit on the depth of the tree to prevent overfitting**. We compromise on purity here somewhat as the final leaves may still have some impurity.\n",
    "\n",
    "#### How does the Decision Tree algorithm work?\n",
    "The basic idea behind any decision tree algorithm is as follows:\n",
    "\n",
    "1. Select the best attribute using Attribute Selection Measures(ASM) to split the records.\n",
    "2. Make that attribute a decision node and breaks the dataset into smaller subsets.\n",
    "3. Starts tree building by repeating this process recursively for each child until one of the condition will match:\n",
    "4. All the tuples belong to the same attribute value.\n",
    "5. There are no more remaining attributes.\n",
    "6. There are no more instances."
   ]
  },
  {
   "cell_type": "code",
   "execution_count": 86,
   "metadata": {},
   "outputs": [
    {
     "data": {
      "text/plain": [
       "{'criterion': ['gini', 'entropy'],\n",
       " 'max_depth': [10, 15, 20, 25],\n",
       " 'min_samples_split': [2, 5, 10, 20]}"
      ]
     },
     "execution_count": 86,
     "metadata": {},
     "output_type": "execute_result"
    }
   ],
   "source": [
    "# looking for best parameters\n",
    "\n",
    "criterion_opsi = ['gini', 'entropy']\n",
    "max_depth_opsi = [10, 15, 20, 25]\n",
    "min_samples_split_opsi = [2,5,10,20]\n",
    "\n",
    "params_dtr = {'criterion': criterion_opsi, 'max_depth': max_depth_opsi, 'min_samples_split': min_samples_split_opsi}\n",
    "params_dtr"
   ]
  },
  {
   "cell_type": "code",
   "execution_count": 87,
   "metadata": {},
   "outputs": [
    {
     "data": {
      "text/plain": [
       "RandomizedSearchCV(cv=7, estimator=DecisionTreeClassifier(random_state=1),\n",
       "                   param_distributions={'criterion': ['gini', 'entropy'],\n",
       "                                        'max_depth': [10, 15, 20, 25],\n",
       "                                        'min_samples_split': [2, 5, 10, 20]},\n",
       "                   random_state=1)"
      ]
     },
     "execution_count": 87,
     "metadata": {},
     "output_type": "execute_result"
    }
   ],
   "source": [
    "dtr = DecisionTreeClassifier(random_state=1)\n",
    "random_dtr = RandomizedSearchCV(estimator=dtr, param_distributions = params_dtr, cv = 7, random_state=1)\n",
    "random_dtr.fit(X_train, y_train)"
   ]
  },
  {
   "cell_type": "code",
   "execution_count": 88,
   "metadata": {},
   "outputs": [
    {
     "data": {
      "text/plain": [
       "DecisionTreeClassifier(criterion='entropy', max_depth=15, min_samples_split=10,\n",
       "                       random_state=1)"
      ]
     },
     "execution_count": 88,
     "metadata": {},
     "output_type": "execute_result"
    }
   ],
   "source": [
    "random_dtr.best_estimator_"
   ]
  },
  {
   "cell_type": "code",
   "execution_count": 89,
   "metadata": {},
   "outputs": [
    {
     "data": {
      "text/plain": [
       "{'ccp_alpha': 0.0,\n",
       " 'class_weight': None,\n",
       " 'criterion': 'entropy',\n",
       " 'max_depth': 15,\n",
       " 'max_features': None,\n",
       " 'max_leaf_nodes': None,\n",
       " 'min_impurity_decrease': 0.0,\n",
       " 'min_impurity_split': None,\n",
       " 'min_samples_leaf': 1,\n",
       " 'min_samples_split': 10,\n",
       " 'min_weight_fraction_leaf': 0.0,\n",
       " 'presort': 'deprecated',\n",
       " 'random_state': 1,\n",
       " 'splitter': 'best'}"
      ]
     },
     "execution_count": 89,
     "metadata": {},
     "output_type": "execute_result"
    }
   ],
   "source": [
    "dtr = random_dtr.best_estimator_\n",
    "dtr.get_params()"
   ]
  },
  {
   "cell_type": "code",
   "execution_count": 90,
   "metadata": {},
   "outputs": [
    {
     "data": {
      "text/plain": [
       "array([[2129,    1],\n",
       "       [   1,   90]], dtype=int64)"
      ]
     },
     "metadata": {},
     "output_type": "display_data"
    },
    {
     "data": {
      "text/plain": [
       "<sklearn.metrics._plot.confusion_matrix.ConfusionMatrixDisplay at 0x2688be0ed08>"
      ]
     },
     "execution_count": 90,
     "metadata": {},
     "output_type": "execute_result"
    },
    {
     "data": {
      "image/png": "[encoded data removed]",
      "text/plain": [
       "<Figure size 432x288 with 2 Axes>"
      ]
     },
     "metadata": {
      "needs_background": "light"
     },
     "output_type": "display_data"
    }
   ],
   "source": [
    "dtr.fit(X_train, y_train)\n",
    "dtr_pred = dtr.predict(X_test)\n",
    "dtr_proba = dtr.predict_proba(X_test)\n",
    "\n",
    "display(confusion_matrix(y_test, dtr_pred))\n",
    "\n",
    "plot_confusion_matrix(dtr, X_test, y_test)"
   ]
  },
  {
   "cell_type": "markdown",
   "metadata": {},
   "source": [
    "### B. Random Forest Classifier\n",
    "\n",
    "#### How do Random Forests work?\n",
    "A Random Forest is an ensemble technique capable of performing both regression and classification tasks with the use of multiple decision trees and a technique called Bootstrap Aggregation, commonly known as bagging. What is bagging you may ask? Bagging, in the Random Forest method, involves training each decision tree on a different data sample where sampling is done with replacement.\n",
    "\n",
    "Here the author firstly shows the Random Forest creation pseudocode:\n",
    "\n",
    "1. Randomly select “K” features from total “m” features where k << m\n",
    "2. Among the “K” features, calculate the node “d” using the best split point\n",
    "3. Split the node into daughter nodes using the best split\n",
    "4. Repeat the a to c steps until “l” number of nodes has been reached\n",
    "5. Build forest by repeating steps a to d for “n” number times to create “n” number of trees"
   ]
  },
  {
   "cell_type": "code",
   "execution_count": 91,
   "metadata": {},
   "outputs": [
    {
     "data": {
      "text/plain": [
       "{'criterion': ['gini', 'entropy'],\n",
       " 'max_depth': [10, 15, 20, 25],\n",
       " 'max_features': ['auto', 'sqrt', 'log2'],\n",
       " 'n_estimators': [50, 75, 100, 150],\n",
       " 'max_samples': [None, 50, 100, 150]}"
      ]
     },
     "execution_count": 91,
     "metadata": {},
     "output_type": "execute_result"
    }
   ],
   "source": [
    "criterion_opsi = ['gini', 'entropy']\n",
    "max_depth_opsi = [10, 15, 20, 25]\n",
    "max_features_opsi = ['auto', 'sqrt', 'log2']\n",
    "n_estimators_opsi = [50, 75, 100, 150]\n",
    "max_samples_opsi = [None, 50, 100, 150]\n",
    "\n",
    "params_rfc = {'criterion': criterion_opsi, 'max_depth': max_depth_opsi, 'max_features': max_features_opsi,\n",
    "          'n_estimators': n_estimators_opsi, 'max_samples': max_samples_opsi}\n",
    "params_rfc"
   ]
  },
  {
   "cell_type": "code",
   "execution_count": 94,
   "metadata": {},
   "outputs": [
    {
     "data": {
      "text/plain": [
       "RandomizedSearchCV(cv=7, estimator=RandomForestClassifier(random_state=1),\n",
       "                   param_distributions={'criterion': ['gini', 'entropy'],\n",
       "                                        'max_depth': [10, 15, 20, 25],\n",
       "                                        'max_features': ['auto', 'sqrt',\n",
       "                                                         'log2'],\n",
       "                                        'max_samples': [None, 50, 100, 150],\n",
       "                                        'n_estimators': [50, 75, 100, 150]},\n",
       "                   random_state=1)"
      ]
     },
     "execution_count": 94,
     "metadata": {},
     "output_type": "execute_result"
    }
   ],
   "source": [
    "rfc = RandomForestClassifier(random_state=1)\n",
    "random_rfc = RandomizedSearchCV(estimator=rfc, param_distributions = params_rfc, cv = 7, random_state=1)\n",
    "random_rfc.fit(X_train, y_train)"
   ]
  },
  {
   "cell_type": "code",
   "execution_count": 95,
   "metadata": {},
   "outputs": [
    {
     "data": {
      "text/plain": [
       "RandomForestClassifier(criterion='entropy', max_depth=15, max_features='sqrt',\n",
       "                       n_estimators=50, random_state=1)"
      ]
     },
     "execution_count": 95,
     "metadata": {},
     "output_type": "execute_result"
    }
   ],
   "source": [
    "random_rfc.best_estimator_"
   ]
  },
  {
   "cell_type": "code",
   "execution_count": 96,
   "metadata": {},
   "outputs": [
    {
     "data": {
      "text/plain": [
       "{'bootstrap': True,\n",
       " 'ccp_alpha': 0.0,\n",
       " 'class_weight': None,\n",
       " 'criterion': 'entropy',\n",
       " 'max_depth': 15,\n",
       " 'max_features': 'sqrt',\n",
       " 'max_leaf_nodes': None,\n",
       " 'max_samples': None,\n",
       " 'min_impurity_decrease': 0.0,\n",
       " 'min_impurity_split': None,\n",
       " 'min_samples_leaf': 1,\n",
       " 'min_samples_split': 2,\n",
       " 'min_weight_fraction_leaf': 0.0,\n",
       " 'n_estimators': 50,\n",
       " 'n_jobs': None,\n",
       " 'oob_score': False,\n",
       " 'random_state': 1,\n",
       " 'verbose': 0,\n",
       " 'warm_start': False}"
      ]
     },
     "execution_count": 96,
     "metadata": {},
     "output_type": "execute_result"
    }
   ],
   "source": [
    "rfc = random_rfc.best_estimator_\n",
    "rfc.get_params()"
   ]
  },
  {
   "cell_type": "code",
   "execution_count": 97,
   "metadata": {},
   "outputs": [
    {
     "data": {
      "text/plain": [
       "array([[2129,    1],\n",
       "       [   1,   90]], dtype=int64)"
      ]
     },
     "metadata": {},
     "output_type": "display_data"
    },
    {
     "data": {
      "text/plain": [
       "<sklearn.metrics._plot.confusion_matrix.ConfusionMatrixDisplay at 0x2688c172408>"
      ]
     },
     "execution_count": 97,
     "metadata": {},
     "output_type": "execute_result"
    },
    {
     "data": {
      "image/png": "[encoded data removed]",
      "text/plain": [
       "<Figure size 432x288 with 2 Axes>"
      ]
     },
     "metadata": {
      "needs_background": "light"
     },
     "output_type": "display_data"
    }
   ],
   "source": [
    "rfc.fit(X_train, y_train)\n",
    "rfc_pred = rfc.predict(X_test)\n",
    "rfc_proba = rfc.predict_proba(X_test)\n",
    "\n",
    "display(confusion_matrix(y_test, rfc_pred))\n",
    "\n",
    "plot_confusion_matrix(rfc, X_test, y_test)"
   ]
  },
  {
   "cell_type": "markdown",
   "metadata": {},
   "source": [
    "### C. Gradient Boosting Classifier\n",
    "\n",
    "Gradient Boosting work like AdaBoost but include few differences. \n",
    "\n",
    "Gradient boosting involves three elements:\n",
    "\n",
    "1. A loss function to be optimized.\n",
    "2. A weak learner to make predictions.\n",
    "3. An additive model to add weak learners to minimize the loss function.\n",
    "\n",
    "Cara Perhitungan di dalam sistemnya:\n",
    "1. Hitung Initial Prediction\n",
    "2. Hitung Proba\n",
    "3. Hitung Pseudo Residual\n",
    "4. GBC akan membuat beberapa pohon secara random\n",
    "5. Hitung output value\n",
    "6. Hitung new prediction"
   ]
  },
  {
   "cell_type": "code",
   "execution_count": 98,
   "metadata": {},
   "outputs": [
    {
     "data": {
      "text/plain": [
       "{'criterion': ['friedman_mse', 'mse', 'mae'],\n",
       " 'max_depth': [3, 5, 10, 20],\n",
       " 'max_features': ['auto', 'sqrt', 'log2'],\n",
       " 'n_estimators': [50, 75, 100, 150],\n",
       " 'loss': ['deviance', 'exponential']}"
      ]
     },
     "execution_count": 98,
     "metadata": {},
     "output_type": "execute_result"
    }
   ],
   "source": [
    "criterion_opsi = ['friedman_mse', 'mse', 'mae']\n",
    "loss_opsi = ['deviance', 'exponential']\n",
    "max_depth_opsi = [3, 5, 10, 20]\n",
    "max_features_opsi = ['auto', 'sqrt', 'log2']\n",
    "n_estimators_opsi = [50, 75, 100, 150]\n",
    "\n",
    "params_gbc = {'criterion': criterion_opsi, 'max_depth': max_depth_opsi, 'max_features': max_features_opsi,\n",
    "          'n_estimators': n_estimators_opsi, 'loss': loss_opsi}\n",
    "params_gbc"
   ]
  },
  {
   "cell_type": "code",
   "execution_count": 101,
   "metadata": {},
   "outputs": [],
   "source": [
    "gbc = GradientBoostingClassifier(random_state=1)\n",
    "random_gbc = RandomizedSearchCV(estimator=gbc, param_distributions = params_gbc, cv = 7, random_state=1)\n",
    "random_gbc.fit(X_train, y_train)\n",
    "random_gbc.best_estimator_\n",
    "gbc = random_gbc.best_estimator_\n",
    "gbc.get_params()"
   ]
  },
  {
   "cell_type": "code",
   "execution_count": 102,
   "metadata": {},
   "outputs": [
    {
     "data": {
      "text/plain": [
       "array([[2129,    1],\n",
       "       [   0,   91]], dtype=int64)"
      ]
     },
     "metadata": {},
     "output_type": "display_data"
    },
    {
     "data": {
      "text/plain": [
       "<sklearn.metrics._plot.confusion_matrix.ConfusionMatrixDisplay at 0x2688bfbc848>"
      ]
     },
     "execution_count": 102,
     "metadata": {},
     "output_type": "execute_result"
    },
    {
     "data": {
      "image/png": "[encoded data removed]",
      "text/plain": [
       "<Figure size 432x288 with 2 Axes>"
      ]
     },
     "metadata": {
      "needs_background": "light"
     },
     "output_type": "display_data"
    }
   ],
   "source": [
    "gbc = GradientBoostingClassifier(random_state=1)\n",
    "gbc.fit(X_train, y_train)\n",
    "gbc_pred = gbc.predict(X_test)\n",
    "gbc_proba = gbc.predict_proba(X_test)\n",
    "\n",
    "display(confusion_matrix(y_test, gbc_pred))\n",
    "\n",
    "plot_confusion_matrix(gbc, X_test, y_test)"
   ]
  },
  {
   "cell_type": "markdown",
   "metadata": {},
   "source": [
    "## 5. Evaluation Metrics"
   ]
  },
  {
   "cell_type": "markdown",
   "metadata": {},
   "source": [
    "### Decision Tree Classifier Evaluation"
   ]
  },
  {
   "cell_type": "code",
   "execution_count": 104,
   "metadata": {},
   "outputs": [
    {
     "name": "stdout",
     "output_type": "stream",
     "text": [
      "              precision    recall  f1-score   support\n",
      "\n",
      "           0       1.00      1.00      1.00      2130\n",
      "           1       0.99      0.99      0.99        91\n",
      "\n",
      "    accuracy                           1.00      2221\n",
      "   macro avg       0.99      0.99      0.99      2221\n",
      "weighted avg       1.00      1.00      1.00      2221\n",
      "\n"
     ]
    }
   ],
   "source": [
    "print(classification_report(y_test, dtr_pred))"
   ]
  },
  {
   "cell_type": "code",
   "execution_count": 106,
   "metadata": {},
   "outputs": [],
   "source": [
    "dtrprob1 = dtr_proba[:,1]\n",
    "fpr_dtr1, tpr_dtr1, threshold_dtr1 = roc_curve(y_test, dtrprob1)\n",
    "auc_dtr = auc(fpr_dtr1, tpr_dtr1)"
   ]
  },
  {
   "cell_type": "code",
   "execution_count": 136,
   "metadata": {},
   "outputs": [
    {
     "data": {
      "image/png": "[encoded data removed]",
      "text/plain": [
       "<Figure size 432x288 with 1 Axes>"
      ]
     },
     "metadata": {
      "needs_background": "light"
     },
     "output_type": "display_data"
    }
   ],
   "source": [
    "plt.title('ROC Curve - Decision Tree Classifier')\n",
    "plt.plot(fpr_dtr1, tpr_dtr1, 'b--o', label='AUC - Decision Tree Classifier = {}'.format(auc_dtr))\n",
    "plt.plot([0,1], [0,1], 'r--')\n",
    "plt.xlim([0,1]) # limit sumbu x\n",
    "plt.ylim([0,1]) # limit sumbu y\n",
    "plt.xlabel('False Positive Rate')\n",
    "plt.ylabel('True Positive Rate')\n",
    "plt.fill_between(fpr_dtr1, tpr_dtr1, 0, facecolor='azure', alpha=1)\n",
    "plt.legend(loc='lower right')\n",
    "plt.show()"
   ]
  },
  {
   "cell_type": "code",
   "execution_count": 108,
   "metadata": {},
   "outputs": [
    {
     "data": {
      "text/html": [
       "<div>\n",
       "<style scoped>\n",
       "    .dataframe tbody tr th:only-of-type {\n",
       "        vertical-align: middle;\n",
       "    }\n",
       "\n",
       "    .dataframe tbody tr th {\n",
       "        vertical-align: top;\n",
       "    }\n",
       "\n",
       "    .dataframe thead th {\n",
       "        text-align: right;\n",
       "    }\n",
       "</style>\n",
       "<table border=\"1\" class=\"dataframe\">\n",
       "  <thead>\n",
       "    <tr style=\"text-align: right;\">\n",
       "      <th></th>\n",
       "      <th>thres</th>\n",
       "      <th>tpr</th>\n",
       "      <th>fpr</th>\n",
       "    </tr>\n",
       "  </thead>\n",
       "  <tbody>\n",
       "    <tr>\n",
       "      <th>0</th>\n",
       "      <td>2.000000</td>\n",
       "      <td>0.000000</td>\n",
       "      <td>0.000000</td>\n",
       "    </tr>\n",
       "    <tr>\n",
       "      <th>1</th>\n",
       "      <td>1.000000</td>\n",
       "      <td>0.989011</td>\n",
       "      <td>0.000469</td>\n",
       "    </tr>\n",
       "    <tr>\n",
       "      <th>2</th>\n",
       "      <td>0.142857</td>\n",
       "      <td>1.000000</td>\n",
       "      <td>0.001878</td>\n",
       "    </tr>\n",
       "    <tr>\n",
       "      <th>3</th>\n",
       "      <td>0.000000</td>\n",
       "      <td>1.000000</td>\n",
       "      <td>1.000000</td>\n",
       "    </tr>\n",
       "  </tbody>\n",
       "</table>\n",
       "</div>"
      ],
      "text/plain": [
       "      thres       tpr       fpr\n",
       "0  2.000000  0.000000  0.000000\n",
       "1  1.000000  0.989011  0.000469\n",
       "2  0.142857  1.000000  0.001878\n",
       "3  0.000000  1.000000  1.000000"
      ]
     },
     "execution_count": 108,
     "metadata": {},
     "output_type": "execute_result"
    }
   ],
   "source": [
    "thres_dtr = pd.DataFrame({'thres': threshold_dtr1, 'tpr': tpr_dtr1, 'fpr': fpr_dtr1})\n",
    "thres_dtr"
   ]
  },
  {
   "cell_type": "code",
   "execution_count": 116,
   "metadata": {},
   "outputs": [
    {
     "data": {
      "text/plain": [
       "array([[2129,    1],\n",
       "       [   1,   90]], dtype=int64)"
      ]
     },
     "execution_count": 116,
     "metadata": {},
     "output_type": "execute_result"
    }
   ],
   "source": [
    "dtr_pred_roc = [0 if x < 1 else 1 for x in dtrprob1]\n",
    "confusion_matrix(y_test, dtr_pred_roc)"
   ]
  },
  {
   "cell_type": "code",
   "execution_count": 111,
   "metadata": {},
   "outputs": [
    {
     "data": {
      "text/plain": [
       "array([[2129,    1],\n",
       "       [   1,   90]], dtype=int64)"
      ]
     },
     "execution_count": 111,
     "metadata": {},
     "output_type": "execute_result"
    }
   ],
   "source": [
    "confusion_matrix(y_test, dtr_pred)"
   ]
  },
  {
   "cell_type": "markdown",
   "metadata": {},
   "source": [
    "### Random Forest Classifier Evaluation"
   ]
  },
  {
   "cell_type": "code",
   "execution_count": 117,
   "metadata": {},
   "outputs": [
    {
     "name": "stdout",
     "output_type": "stream",
     "text": [
      "              precision    recall  f1-score   support\n",
      "\n",
      "           0       1.00      1.00      1.00      2130\n",
      "           1       0.99      0.99      0.99        91\n",
      "\n",
      "    accuracy                           1.00      2221\n",
      "   macro avg       0.99      0.99      0.99      2221\n",
      "weighted avg       1.00      1.00      1.00      2221\n",
      "\n"
     ]
    }
   ],
   "source": [
    "print(classification_report(y_test, rfc_pred))"
   ]
  },
  {
   "cell_type": "code",
   "execution_count": 118,
   "metadata": {},
   "outputs": [],
   "source": [
    "rfcprob1 = rfc_proba[:,1]\n",
    "fpr_rfc1, tpr_rfc1, threshold_rfc1 = roc_curve(y_test, rfcprob1)\n",
    "auc_rfc = auc(fpr_rfc1, tpr_rfc1)"
   ]
  },
  {
   "cell_type": "code",
   "execution_count": 137,
   "metadata": {},
   "outputs": [
    {
     "data": {
      "image/png": "[encoded data removed]",
      "text/plain": [
       "<Figure size 432x288 with 1 Axes>"
      ]
     },
     "metadata": {
      "needs_background": "light"
     },
     "output_type": "display_data"
    }
   ],
   "source": [
    "plt.title('ROC Curve - Random Forest Classifier')\n",
    "plt.plot(fpr_rfc1, tpr_rfc1, 'b--o', label='AUC - Random Forest Classifier = {}'.format(auc_rfc))\n",
    "plt.plot([0,1], [0,1], 'r--')\n",
    "plt.xlim([0,1]) # limit sumbu x\n",
    "plt.ylim([0,1]) # limit sumbu y\n",
    "plt.xlabel('False Positive Rate')\n",
    "plt.ylabel('True Positive Rate')\n",
    "plt.fill_between(fpr_rfc1, tpr_rfc1, 0, facecolor='azure', alpha=1)\n",
    "plt.legend(loc='lower right')\n",
    "plt.show()"
   ]
  },
  {
   "cell_type": "code",
   "execution_count": 120,
   "metadata": {},
   "outputs": [
    {
     "data": {
      "text/html": [
       "<div>\n",
       "<style scoped>\n",
       "    .dataframe tbody tr th:only-of-type {\n",
       "        vertical-align: middle;\n",
       "    }\n",
       "\n",
       "    .dataframe tbody tr th {\n",
       "        vertical-align: top;\n",
       "    }\n",
       "\n",
       "    .dataframe thead th {\n",
       "        text-align: right;\n",
       "    }\n",
       "</style>\n",
       "<table border=\"1\" class=\"dataframe\">\n",
       "  <thead>\n",
       "    <tr style=\"text-align: right;\">\n",
       "      <th></th>\n",
       "      <th>thres</th>\n",
       "      <th>tpr</th>\n",
       "      <th>fpr</th>\n",
       "    </tr>\n",
       "  </thead>\n",
       "  <tbody>\n",
       "    <tr>\n",
       "      <th>0</th>\n",
       "      <td>2.00</td>\n",
       "      <td>0.000000</td>\n",
       "      <td>0.000000</td>\n",
       "    </tr>\n",
       "    <tr>\n",
       "      <th>1</th>\n",
       "      <td>1.00</td>\n",
       "      <td>0.241758</td>\n",
       "      <td>0.000000</td>\n",
       "    </tr>\n",
       "    <tr>\n",
       "      <th>2</th>\n",
       "      <td>0.99</td>\n",
       "      <td>0.252747</td>\n",
       "      <td>0.000000</td>\n",
       "    </tr>\n",
       "    <tr>\n",
       "      <th>3</th>\n",
       "      <td>0.98</td>\n",
       "      <td>0.483516</td>\n",
       "      <td>0.000000</td>\n",
       "    </tr>\n",
       "    <tr>\n",
       "      <th>4</th>\n",
       "      <td>0.96</td>\n",
       "      <td>0.571429</td>\n",
       "      <td>0.000000</td>\n",
       "    </tr>\n",
       "    <tr>\n",
       "      <th>5</th>\n",
       "      <td>0.94</td>\n",
       "      <td>0.648352</td>\n",
       "      <td>0.000000</td>\n",
       "    </tr>\n",
       "    <tr>\n",
       "      <th>6</th>\n",
       "      <td>0.92</td>\n",
       "      <td>0.747253</td>\n",
       "      <td>0.000000</td>\n",
       "    </tr>\n",
       "    <tr>\n",
       "      <th>7</th>\n",
       "      <td>0.90</td>\n",
       "      <td>0.780220</td>\n",
       "      <td>0.000000</td>\n",
       "    </tr>\n",
       "    <tr>\n",
       "      <th>8</th>\n",
       "      <td>0.86</td>\n",
       "      <td>0.890110</td>\n",
       "      <td>0.000000</td>\n",
       "    </tr>\n",
       "    <tr>\n",
       "      <th>9</th>\n",
       "      <td>0.84</td>\n",
       "      <td>0.901099</td>\n",
       "      <td>0.000000</td>\n",
       "    </tr>\n",
       "    <tr>\n",
       "      <th>10</th>\n",
       "      <td>0.78</td>\n",
       "      <td>0.912088</td>\n",
       "      <td>0.000469</td>\n",
       "    </tr>\n",
       "    <tr>\n",
       "      <th>11</th>\n",
       "      <td>0.68</td>\n",
       "      <td>0.956044</td>\n",
       "      <td>0.000469</td>\n",
       "    </tr>\n",
       "    <tr>\n",
       "      <th>12</th>\n",
       "      <td>0.64</td>\n",
       "      <td>0.978022</td>\n",
       "      <td>0.000469</td>\n",
       "    </tr>\n",
       "    <tr>\n",
       "      <th>13</th>\n",
       "      <td>0.62</td>\n",
       "      <td>0.989011</td>\n",
       "      <td>0.000469</td>\n",
       "    </tr>\n",
       "    <tr>\n",
       "      <th>14</th>\n",
       "      <td>0.44</td>\n",
       "      <td>0.989011</td>\n",
       "      <td>0.000939</td>\n",
       "    </tr>\n",
       "    <tr>\n",
       "      <th>15</th>\n",
       "      <td>0.36</td>\n",
       "      <td>1.000000</td>\n",
       "      <td>0.000939</td>\n",
       "    </tr>\n",
       "    <tr>\n",
       "      <th>16</th>\n",
       "      <td>0.16</td>\n",
       "      <td>1.000000</td>\n",
       "      <td>0.002347</td>\n",
       "    </tr>\n",
       "    <tr>\n",
       "      <th>17</th>\n",
       "      <td>0.12</td>\n",
       "      <td>1.000000</td>\n",
       "      <td>0.004225</td>\n",
       "    </tr>\n",
       "    <tr>\n",
       "      <th>18</th>\n",
       "      <td>0.10</td>\n",
       "      <td>1.000000</td>\n",
       "      <td>0.005634</td>\n",
       "    </tr>\n",
       "    <tr>\n",
       "      <th>19</th>\n",
       "      <td>0.08</td>\n",
       "      <td>1.000000</td>\n",
       "      <td>0.007981</td>\n",
       "    </tr>\n",
       "    <tr>\n",
       "      <th>20</th>\n",
       "      <td>0.06</td>\n",
       "      <td>1.000000</td>\n",
       "      <td>0.011268</td>\n",
       "    </tr>\n",
       "    <tr>\n",
       "      <th>21</th>\n",
       "      <td>0.05</td>\n",
       "      <td>1.000000</td>\n",
       "      <td>0.011737</td>\n",
       "    </tr>\n",
       "    <tr>\n",
       "      <th>22</th>\n",
       "      <td>0.04</td>\n",
       "      <td>1.000000</td>\n",
       "      <td>0.018310</td>\n",
       "    </tr>\n",
       "    <tr>\n",
       "      <th>23</th>\n",
       "      <td>0.02</td>\n",
       "      <td>1.000000</td>\n",
       "      <td>0.041315</td>\n",
       "    </tr>\n",
       "    <tr>\n",
       "      <th>24</th>\n",
       "      <td>0.00</td>\n",
       "      <td>1.000000</td>\n",
       "      <td>1.000000</td>\n",
       "    </tr>\n",
       "  </tbody>\n",
       "</table>\n",
       "</div>"
      ],
      "text/plain": [
       "    thres       tpr       fpr\n",
       "0    2.00  0.000000  0.000000\n",
       "1    1.00  0.241758  0.000000\n",
       "2    0.99  0.252747  0.000000\n",
       "3    0.98  0.483516  0.000000\n",
       "4    0.96  0.571429  0.000000\n",
       "5    0.94  0.648352  0.000000\n",
       "6    0.92  0.747253  0.000000\n",
       "7    0.90  0.780220  0.000000\n",
       "8    0.86  0.890110  0.000000\n",
       "9    0.84  0.901099  0.000000\n",
       "10   0.78  0.912088  0.000469\n",
       "11   0.68  0.956044  0.000469\n",
       "12   0.64  0.978022  0.000469\n",
       "13   0.62  0.989011  0.000469\n",
       "14   0.44  0.989011  0.000939\n",
       "15   0.36  1.000000  0.000939\n",
       "16   0.16  1.000000  0.002347\n",
       "17   0.12  1.000000  0.004225\n",
       "18   0.10  1.000000  0.005634\n",
       "19   0.08  1.000000  0.007981\n",
       "20   0.06  1.000000  0.011268\n",
       "21   0.05  1.000000  0.011737\n",
       "22   0.04  1.000000  0.018310\n",
       "23   0.02  1.000000  0.041315\n",
       "24   0.00  1.000000  1.000000"
      ]
     },
     "execution_count": 120,
     "metadata": {},
     "output_type": "execute_result"
    }
   ],
   "source": [
    "thres_rfc = pd.DataFrame({'thres': threshold_rfc1, 'tpr': tpr_rfc1, 'fpr': fpr_rfc1})\n",
    "thres_rfc"
   ]
  },
  {
   "cell_type": "code",
   "execution_count": 124,
   "metadata": {},
   "outputs": [
    {
     "data": {
      "text/plain": [
       "array([[2129,    1],\n",
       "       [   1,   90]], dtype=int64)"
      ]
     },
     "execution_count": 124,
     "metadata": {},
     "output_type": "execute_result"
    }
   ],
   "source": [
    "rfc_pred_roc = [0 if x < 0.45 else 1 for x in rfcprob1]\n",
    "confusion_matrix(y_test, rfc_pred_roc)"
   ]
  },
  {
   "cell_type": "code",
   "execution_count": 123,
   "metadata": {},
   "outputs": [
    {
     "data": {
      "text/plain": [
       "array([[2129,    1],\n",
       "       [   1,   90]], dtype=int64)"
      ]
     },
     "execution_count": 123,
     "metadata": {},
     "output_type": "execute_result"
    }
   ],
   "source": [
    "confusion_matrix(y_test, rfc_pred)"
   ]
  },
  {
   "cell_type": "markdown",
   "metadata": {},
   "source": [
    "### Gradient Boosting Classifier Evaluation"
   ]
  },
  {
   "cell_type": "code",
   "execution_count": 125,
   "metadata": {},
   "outputs": [
    {
     "name": "stdout",
     "output_type": "stream",
     "text": [
      "              precision    recall  f1-score   support\n",
      "\n",
      "           0       1.00      1.00      1.00      2130\n",
      "           1       0.99      1.00      0.99        91\n",
      "\n",
      "    accuracy                           1.00      2221\n",
      "   macro avg       0.99      1.00      1.00      2221\n",
      "weighted avg       1.00      1.00      1.00      2221\n",
      "\n"
     ]
    }
   ],
   "source": [
    "print(classification_report(y_test, gbc_pred))"
   ]
  },
  {
   "cell_type": "code",
   "execution_count": 126,
   "metadata": {},
   "outputs": [],
   "source": [
    "gbcprob1 = gbc_proba[:,1]\n",
    "fpr_gbc1, tpr_gbc1, threshold_gbc1 = roc_curve(y_test, gbcprob1)\n",
    "auc_gbc = auc(fpr_gbc1, tpr_gbc1)"
   ]
  },
  {
   "cell_type": "code",
   "execution_count": 138,
   "metadata": {},
   "outputs": [
    {
     "data": {
      "image/png": "[encoded data removed]",
      "text/plain": [
       "<Figure size 432x288 with 1 Axes>"
      ]
     },
     "metadata": {
      "needs_background": "light"
     },
     "output_type": "display_data"
    }
   ],
   "source": [
    "plt.title('ROC Curve - Gradient Boosting Classifier')\n",
    "plt.plot(fpr_gbc1, tpr_gbc1, 'b--o', label='AUC - Gradient Boosting Classifier = {}'.format(auc_gbc))\n",
    "plt.plot([0,1], [0,1], 'r--')\n",
    "plt.xlim([0,1]) # limit sumbu x\n",
    "plt.ylim([0,1]) # limit sumbu y\n",
    "plt.xlabel('False Positive Rate')\n",
    "plt.ylabel('True Positive Rate')\n",
    "plt.fill_between(fpr_gbc1, tpr_gbc1, 0, facecolor='azure', alpha=1)\n",
    "plt.legend(loc='lower right')\n",
    "plt.show()"
   ]
  },
  {
   "cell_type": "code",
   "execution_count": 128,
   "metadata": {},
   "outputs": [
    {
     "data": {
      "text/html": [
       "<div>\n",
       "<style scoped>\n",
       "    .dataframe tbody tr th:only-of-type {\n",
       "        vertical-align: middle;\n",
       "    }\n",
       "\n",
       "    .dataframe tbody tr th {\n",
       "        vertical-align: top;\n",
       "    }\n",
       "\n",
       "    .dataframe thead th {\n",
       "        text-align: right;\n",
       "    }\n",
       "</style>\n",
       "<table border=\"1\" class=\"dataframe\">\n",
       "  <thead>\n",
       "    <tr style=\"text-align: right;\">\n",
       "      <th></th>\n",
       "      <th>thres</th>\n",
       "      <th>tpr</th>\n",
       "      <th>fpr</th>\n",
       "    </tr>\n",
       "  </thead>\n",
       "  <tbody>\n",
       "    <tr>\n",
       "      <th>0</th>\n",
       "      <td>1.999702</td>\n",
       "      <td>0.000000</td>\n",
       "      <td>0.000000</td>\n",
       "    </tr>\n",
       "    <tr>\n",
       "      <th>1</th>\n",
       "      <td>0.999702</td>\n",
       "      <td>0.296703</td>\n",
       "      <td>0.000000</td>\n",
       "    </tr>\n",
       "    <tr>\n",
       "      <th>2</th>\n",
       "      <td>0.999666</td>\n",
       "      <td>0.406593</td>\n",
       "      <td>0.000000</td>\n",
       "    </tr>\n",
       "    <tr>\n",
       "      <th>3</th>\n",
       "      <td>0.999512</td>\n",
       "      <td>0.483516</td>\n",
       "      <td>0.000000</td>\n",
       "    </tr>\n",
       "    <tr>\n",
       "      <th>4</th>\n",
       "      <td>0.999479</td>\n",
       "      <td>0.505495</td>\n",
       "      <td>0.000000</td>\n",
       "    </tr>\n",
       "    <tr>\n",
       "      <th>...</th>\n",
       "      <td>...</td>\n",
       "      <td>...</td>\n",
       "      <td>...</td>\n",
       "    </tr>\n",
       "    <tr>\n",
       "      <th>113</th>\n",
       "      <td>0.000002</td>\n",
       "      <td>1.000000</td>\n",
       "      <td>0.973709</td>\n",
       "    </tr>\n",
       "    <tr>\n",
       "      <th>114</th>\n",
       "      <td>0.000002</td>\n",
       "      <td>1.000000</td>\n",
       "      <td>0.997183</td>\n",
       "    </tr>\n",
       "    <tr>\n",
       "      <th>115</th>\n",
       "      <td>0.000002</td>\n",
       "      <td>1.000000</td>\n",
       "      <td>0.998122</td>\n",
       "    </tr>\n",
       "    <tr>\n",
       "      <th>116</th>\n",
       "      <td>0.000002</td>\n",
       "      <td>1.000000</td>\n",
       "      <td>0.999061</td>\n",
       "    </tr>\n",
       "    <tr>\n",
       "      <th>117</th>\n",
       "      <td>0.000002</td>\n",
       "      <td>1.000000</td>\n",
       "      <td>1.000000</td>\n",
       "    </tr>\n",
       "  </tbody>\n",
       "</table>\n",
       "<p>118 rows × 3 columns</p>\n",
       "</div>"
      ],
      "text/plain": [
       "        thres       tpr       fpr\n",
       "0    1.999702  0.000000  0.000000\n",
       "1    0.999702  0.296703  0.000000\n",
       "2    0.999666  0.406593  0.000000\n",
       "3    0.999512  0.483516  0.000000\n",
       "4    0.999479  0.505495  0.000000\n",
       "..        ...       ...       ...\n",
       "113  0.000002  1.000000  0.973709\n",
       "114  0.000002  1.000000  0.997183\n",
       "115  0.000002  1.000000  0.998122\n",
       "116  0.000002  1.000000  0.999061\n",
       "117  0.000002  1.000000  1.000000\n",
       "\n",
       "[118 rows x 3 columns]"
      ]
     },
     "execution_count": 128,
     "metadata": {},
     "output_type": "execute_result"
    }
   ],
   "source": [
    "thres_gbc = pd.DataFrame({'thres': threshold_gbc1, 'tpr': tpr_gbc1, 'fpr': fpr_gbc1})\n",
    "thres_gbc"
   ]
  },
  {
   "cell_type": "code",
   "execution_count": 130,
   "metadata": {},
   "outputs": [
    {
     "data": {
      "text/plain": [
       "array([[2129,    1],\n",
       "       [   0,   91]], dtype=int64)"
      ]
     },
     "execution_count": 130,
     "metadata": {},
     "output_type": "execute_result"
    }
   ],
   "source": [
    "gbc_pred_roc = [0 if x < 0.45 else 1 for x in gbcprob1]\n",
    "confusion_matrix(y_test, gbc_pred_roc)"
   ]
  },
  {
   "cell_type": "code",
   "execution_count": 131,
   "metadata": {},
   "outputs": [
    {
     "data": {
      "text/plain": [
       "array([[2129,    1],\n",
       "       [   0,   91]], dtype=int64)"
      ]
     },
     "execution_count": 131,
     "metadata": {},
     "output_type": "execute_result"
    }
   ],
   "source": [
    "confusion_matrix(y_test, gbc_pred)"
   ]
  },
  {
   "cell_type": "code",
   "execution_count": 140,
   "metadata": {},
   "outputs": [
    {
     "data": {
      "text/html": [
       "<div>\n",
       "<style scoped>\n",
       "    .dataframe tbody tr th:only-of-type {\n",
       "        vertical-align: middle;\n",
       "    }\n",
       "\n",
       "    .dataframe tbody tr th {\n",
       "        vertical-align: top;\n",
       "    }\n",
       "\n",
       "    .dataframe thead th {\n",
       "        text-align: right;\n",
       "    }\n",
       "</style>\n",
       "<table border=\"1\" class=\"dataframe\">\n",
       "  <thead>\n",
       "    <tr style=\"text-align: right;\">\n",
       "      <th></th>\n",
       "      <th>accuracy_score</th>\n",
       "      <th>precision_score(-)</th>\n",
       "      <th>recall_score(+)</th>\n",
       "      <th>f1_score</th>\n",
       "      <th>roc_auc_score</th>\n",
       "      <th>conf_matrix (TN, FP, FN, TP)</th>\n",
       "    </tr>\n",
       "  </thead>\n",
       "  <tbody>\n",
       "    <tr>\n",
       "      <th>Decision Tree Classifier</th>\n",
       "      <td>0.9991</td>\n",
       "      <td>0.999531</td>\n",
       "      <td>0.989011</td>\n",
       "      <td>0.989011</td>\n",
       "      <td>0.994271</td>\n",
       "      <td>[2129, 1, 1, 90]</td>\n",
       "    </tr>\n",
       "    <tr>\n",
       "      <th>Random Forest Classifier</th>\n",
       "      <td>0.9991</td>\n",
       "      <td>0.999531</td>\n",
       "      <td>0.989011</td>\n",
       "      <td>0.989011</td>\n",
       "      <td>0.994271</td>\n",
       "      <td>[2129, 1, 1, 90]</td>\n",
       "    </tr>\n",
       "    <tr>\n",
       "      <th>Gradient Boosting Classifier</th>\n",
       "      <td>0.99955</td>\n",
       "      <td>1</td>\n",
       "      <td>1</td>\n",
       "      <td>0.994536</td>\n",
       "      <td>0.999765</td>\n",
       "      <td>[2129, 1, 0, 91]</td>\n",
       "    </tr>\n",
       "  </tbody>\n",
       "</table>\n",
       "</div>"
      ],
      "text/plain": [
       "                             accuracy_score precision_score(-)  \\\n",
       "Decision Tree Classifier             0.9991           0.999531   \n",
       "Random Forest Classifier             0.9991           0.999531   \n",
       "Gradient Boosting Classifier        0.99955                  1   \n",
       "\n",
       "                             recall_score(+)  f1_score roc_auc_score  \\\n",
       "Decision Tree Classifier            0.989011  0.989011      0.994271   \n",
       "Random Forest Classifier            0.989011  0.989011      0.994271   \n",
       "Gradient Boosting Classifier               1  0.994536      0.999765   \n",
       "\n",
       "                             conf_matrix (TN, FP, FN, TP)  \n",
       "Decision Tree Classifier                 [2129, 1, 1, 90]  \n",
       "Random Forest Classifier                 [2129, 1, 1, 90]  \n",
       "Gradient Boosting Classifier             [2129, 1, 0, 91]  "
      ]
     },
     "execution_count": 140,
     "metadata": {},
     "output_type": "execute_result"
    }
   ],
   "source": [
    "# Membandingkan model\n",
    "ml_model_a = pd.DataFrame({\n",
    "    \"Decision Tree Classifier\": [accuracy_score(y_test, dtr_pred_roc), precision_score(y_test, dtr_pred_roc, pos_label=0), recall_score(y_test, dtr_pred_roc), f1_score(y_test, dtr_pred_roc), roc_auc_score(y_test, dtr_pred_roc), list(confusion_matrix(y_test, dtr_pred_roc).ravel())],\n",
    "    \"Random Forest Classifier\": [accuracy_score(y_test, rfc_pred_roc), precision_score(y_test, rfc_pred_roc, pos_label=0), recall_score(y_test, rfc_pred_roc), f1_score(y_test, rfc_pred_roc), roc_auc_score(y_test, rfc_pred_roc), list(confusion_matrix(y_test, rfc_pred_roc).ravel())],\n",
    "    \"Gradient Boosting Classifier\": [accuracy_score(y_test, gbc_pred_roc), precision_score(y_test, gbc_pred_roc, pos_label=0), recall_score(y_test, gbc_pred_roc), f1_score(y_test, gbc_pred_roc), roc_auc_score(y_test, gbc_pred_roc), list(confusion_matrix(y_test, gbc_pred_roc).ravel())]\n",
    "}, index = ['accuracy_score', 'precision_score(-)', 'recall_score(+)', 'f1_score',  'roc_auc_score', 'conf_matrix (TN, FP, FN, TP)']).T\n",
    "ml_model_a"
   ]
  },
  {
   "cell_type": "markdown",
   "metadata": {},
   "source": [
    "- model yang memiliki hasil evaluation metrics terbaik, untuk melakukan prediksi pada testing dataset, adalah **Gradient Boosting Classifier**\n",
    "- fokus evaluasi pada Machine Learning ini adalah pada **FN**, karena jika machine learning memprediksi seorang pemain 'tidak berpotensi' tapi kenyataannya pemain tersebut 'berpotensi' dan club tersebut tidak merekrut pemain tersebut, maka club tersebut telah kehilangan pemain bagus dan dapat menyebabkan tidak tercapainya target club.\n",
    "\n",
    "- Jika machine learningnya memprediksi seorang pemain berpotensi, namun kenyataannya pemain tersebut tidak berpotensi dan club tersebut merekrutnya, club tersebut mungkin harus akan lebih ekstra melatih pemain tersebut. Namun disisi pencapaian target kejuaraan akan lebih aman."
   ]
  },
  {
   "cell_type": "markdown",
   "metadata": {},
   "source": [
    "## 6. Meningkatkan performa pada tiap model"
   ]
  },
  {
   "cell_type": "markdown",
   "metadata": {},
   "source": [
    "### Oversampling"
   ]
  },
  {
   "cell_type": "code",
   "execution_count": 142,
   "metadata": {},
   "outputs": [
    {
     "data": {
      "text/plain": [
       "0    8520\n",
       "1     363\n",
       "Name: potential_player, dtype: int64"
      ]
     },
     "metadata": {},
     "output_type": "display_data"
    },
    {
     "data": {
      "text/plain": [
       "1    8520\n",
       "0    8520\n",
       "Name: potential_player, dtype: int64"
      ]
     },
     "metadata": {},
     "output_type": "display_data"
    },
    {
     "data": {
      "text/plain": [
       "0    2130\n",
       "1      91\n",
       "Name: potential_player, dtype: int64"
      ]
     },
     "metadata": {},
     "output_type": "display_data"
    }
   ],
   "source": [
    "ros = RandomOverSampler(random_state=1)\n",
    "X_ros, y_ros = ros.fit_resample(X_train, y_train)\n",
    "\n",
    "display(y_train.value_counts())\n",
    "display(y_ros.value_counts())\n",
    "display(y_test.value_counts())"
   ]
  },
  {
   "cell_type": "markdown",
   "metadata": {},
   "source": [
    "### SMOTE"
   ]
  },
  {
   "cell_type": "code",
   "execution_count": 145,
   "metadata": {},
   "outputs": [
    {
     "data": {
      "text/plain": [
       "0    8520\n",
       "1     363\n",
       "Name: potential_player, dtype: int64"
      ]
     },
     "metadata": {},
     "output_type": "display_data"
    },
    {
     "data": {
      "text/plain": [
       "1    8520\n",
       "0    8520\n",
       "Name: potential_player, dtype: int64"
      ]
     },
     "metadata": {},
     "output_type": "display_data"
    },
    {
     "data": {
      "text/plain": [
       "0    2130\n",
       "1      91\n",
       "Name: potential_player, dtype: int64"
      ]
     },
     "metadata": {},
     "output_type": "display_data"
    }
   ],
   "source": [
    "smo = SMOTE(random_state=1)\n",
    "X_smo, y_smo = smo.fit_resample(X_train, y_train)\n",
    "\n",
    "display(y_train.value_counts())\n",
    "display(y_smo.value_counts())\n",
    "display(y_test.value_counts())"
   ]
  },
  {
   "cell_type": "markdown",
   "metadata": {},
   "source": [
    "### Undersampling"
   ]
  },
  {
   "cell_type": "code",
   "execution_count": 149,
   "metadata": {},
   "outputs": [
    {
     "data": {
      "text/plain": [
       "0    8520\n",
       "1     363\n",
       "Name: potential_player, dtype: int64"
      ]
     },
     "metadata": {},
     "output_type": "display_data"
    },
    {
     "data": {
      "text/plain": [
       "1    363\n",
       "0    363\n",
       "Name: potential_player, dtype: int64"
      ]
     },
     "metadata": {},
     "output_type": "display_data"
    },
    {
     "data": {
      "text/plain": [
       "0    2130\n",
       "1      91\n",
       "Name: potential_player, dtype: int64"
      ]
     },
     "metadata": {},
     "output_type": "display_data"
    }
   ],
   "source": [
    "rus = RandomUnderSampler(random_state=1)\n",
    "X_rus, y_rus = rus.fit_resample(X_train, y_train)\n",
    "\n",
    "display(y_train.value_counts())\n",
    "display(y_rus.value_counts())\n",
    "display(y_test.value_counts())"
   ]
  },
  {
   "cell_type": "markdown",
   "metadata": {},
   "source": [
    "#### Decision Tree Classifier"
   ]
  },
  {
   "cell_type": "code",
   "execution_count": 156,
   "metadata": {},
   "outputs": [
    {
     "data": {
      "text/plain": [
       "array([[2128,    2],\n",
       "       [   0,   91]], dtype=int64)"
      ]
     },
     "metadata": {},
     "output_type": "display_data"
    },
    {
     "data": {
      "text/plain": [
       "<sklearn.metrics._plot.confusion_matrix.ConfusionMatrixDisplay at 0x26891113248>"
      ]
     },
     "execution_count": 156,
     "metadata": {},
     "output_type": "execute_result"
    },
    {
     "data": {
      "image/png": "[encoded data removed]",
      "text/plain": [
       "<Figure size 432x288 with 2 Axes>"
      ]
     },
     "metadata": {
      "needs_background": "light"
     },
     "output_type": "display_data"
    }
   ],
   "source": [
    "# Oversampling Decision Tree Classifier\n",
    "dtr_ros = DecisionTreeClassifier(random_state=2)\n",
    "dtr_ros.fit(X_ros, y_ros)\n",
    "\n",
    "dtr_ros_pred = dtr_ros.predict(X_test)\n",
    "dtr_ros_proba = dtr_ros.predict_proba(X_test)\n",
    "\n",
    "display(confusion_matrix(y_test, dtr_ros_pred))\n",
    "\n",
    "plot_confusion_matrix(dtr_ros, X_test, y_test)"
   ]
  },
  {
   "cell_type": "code",
   "execution_count": 157,
   "metadata": {},
   "outputs": [
    {
     "data": {
      "text/plain": [
       "<sklearn.metrics._plot.confusion_matrix.ConfusionMatrixDisplay at 0x26890d39b48>"
      ]
     },
     "execution_count": 157,
     "metadata": {},
     "output_type": "execute_result"
    },
    {
     "data": {
      "image/png": "[encoded data removed]",
      "text/plain": [
       "<Figure size 432x288 with 2 Axes>"
      ]
     },
     "metadata": {
      "needs_background": "light"
     },
     "output_type": "display_data"
    }
   ],
   "source": [
    "# SMOTE Decision Tree Classifier\n",
    "dtr_smo = DecisionTreeClassifier(random_state=2)\n",
    "dtr_smo.fit(X_smo, y_smo)\n",
    "\n",
    "dtr_smo_pred = dtr_smo.predict(X_test)\n",
    "dtr_smo_proba = dtr_smo.predict_proba(X_test)\n",
    "\n",
    "confusion_matrix(y_test, dtr_smo_pred)\n",
    "\n",
    "plot_confusion_matrix(dtr_smo, X_test, y_test)"
   ]
  },
  {
   "cell_type": "code",
   "execution_count": 158,
   "metadata": {},
   "outputs": [
    {
     "data": {
      "text/plain": [
       "<sklearn.metrics._plot.confusion_matrix.ConfusionMatrixDisplay at 0x26890cebc88>"
      ]
     },
     "execution_count": 158,
     "metadata": {},
     "output_type": "execute_result"
    },
    {
     "data": {
      "image/png": "[encoded data removed]",
      "text/plain": [
       "<Figure size 432x288 with 2 Axes>"
      ]
     },
     "metadata": {
      "needs_background": "light"
     },
     "output_type": "display_data"
    }
   ],
   "source": [
    "# Undersampling Decision Tree Classifier\n",
    "dtr_rus = DecisionTreeClassifier(random_state=10)\n",
    "dtr_rus.fit(X_rus, y_rus)\n",
    "\n",
    "dtr_rus_pred = dtr_rus.predict(X_test)\n",
    "dtr_rus_proba = dtr_rus.predict_proba(X_test)\n",
    "\n",
    "confusion_matrix(y_test, dtr_rus_pred)\n",
    "\n",
    "plot_confusion_matrix(dtr_rus, X_test, y_test)"
   ]
  },
  {
   "cell_type": "markdown",
   "metadata": {},
   "source": [
    "#### Random Forest Classifier"
   ]
  },
  {
   "cell_type": "code",
   "execution_count": 159,
   "metadata": {},
   "outputs": [
    {
     "data": {
      "text/plain": [
       "<sklearn.metrics._plot.confusion_matrix.ConfusionMatrixDisplay at 0x268906fdb48>"
      ]
     },
     "execution_count": 159,
     "metadata": {},
     "output_type": "execute_result"
    },
    {
     "data": {
      "image/png": "[encoded data removed]",
      "text/plain": [
       "<Figure size 432x288 with 2 Axes>"
      ]
     },
     "metadata": {
      "needs_background": "light"
     },
     "output_type": "display_data"
    }
   ],
   "source": [
    "# Oversampling Random Forest Classifier\n",
    "rfc_ros = RandomForestClassifier(random_state=3)\n",
    "rfc_ros.fit(X_ros, y_ros)\n",
    "\n",
    "rfc_ros_pred = rfc_ros.predict(X_test)\n",
    "rfc_ros_proba = rfc_ros.predict_proba(X_test)\n",
    "\n",
    "confusion_matrix(y_test, rfc_ros_pred)\n",
    "\n",
    "plot_confusion_matrix(rfc_ros, X_test, y_test)"
   ]
  },
  {
   "cell_type": "code",
   "execution_count": 160,
   "metadata": {},
   "outputs": [
    {
     "data": {
      "text/plain": [
       "<sklearn.metrics._plot.confusion_matrix.ConfusionMatrixDisplay at 0x2689106bf88>"
      ]
     },
     "execution_count": 160,
     "metadata": {},
     "output_type": "execute_result"
    },
    {
     "data": {
      "image/png": "[encoded data removed]",
      "text/plain": [
       "<Figure size 432x288 with 2 Axes>"
      ]
     },
     "metadata": {
      "needs_background": "light"
     },
     "output_type": "display_data"
    }
   ],
   "source": [
    "# SMOTE Random Forest Classifier\n",
    "rfc_smo = RandomForestClassifier(random_state=1)\n",
    "rfc_smo.fit(X_smo, y_smo)\n",
    "\n",
    "rfc_smo_pred = rfc_smo.predict(X_test)\n",
    "rfc_smo_proba = rfc_smo.predict_proba(X_test)\n",
    "\n",
    "confusion_matrix(y_test, rfc_smo_pred)\n",
    "\n",
    "plot_confusion_matrix(rfc_smo, X_test, y_test)"
   ]
  },
  {
   "cell_type": "code",
   "execution_count": 161,
   "metadata": {},
   "outputs": [
    {
     "data": {
      "text/plain": [
       "<sklearn.metrics._plot.confusion_matrix.ConfusionMatrixDisplay at 0x26890f5c148>"
      ]
     },
     "execution_count": 161,
     "metadata": {},
     "output_type": "execute_result"
    },
    {
     "data": {
      "image/png": "[encoded data removed]",
      "text/plain": [
       "<Figure size 432x288 with 2 Axes>"
      ]
     },
     "metadata": {
      "needs_background": "light"
     },
     "output_type": "display_data"
    }
   ],
   "source": [
    "# Undersampling Random Forest Classifier\n",
    "rfc_rus = RandomForestClassifier(random_state=3)\n",
    "rfc_rus.fit(X_rus, y_rus)\n",
    "\n",
    "rfc_rus_pred = rfc_rus.predict(X_test)\n",
    "rfc_rus_proba = rfc_rus.predict_proba(X_test)\n",
    "\n",
    "confusion_matrix(y_test, rfc_rus_pred)\n",
    "\n",
    "plot_confusion_matrix(rfc_rus, X_test, y_test)"
   ]
  },
  {
   "cell_type": "markdown",
   "metadata": {},
   "source": [
    "#### Gradient Boosting Classifier"
   ]
  },
  {
   "cell_type": "code",
   "execution_count": 162,
   "metadata": {},
   "outputs": [
    {
     "data": {
      "text/plain": [
       "<sklearn.metrics._plot.confusion_matrix.ConfusionMatrixDisplay at 0x26891932c08>"
      ]
     },
     "execution_count": 162,
     "metadata": {},
     "output_type": "execute_result"
    },
    {
     "data": {
      "image/png": "[encoded data removed]",
      "text/plain": [
       "<Figure size 432x288 with 2 Axes>"
      ]
     },
     "metadata": {
      "needs_background": "light"
     },
     "output_type": "display_data"
    }
   ],
   "source": [
    "# Oversampling Gradient Boosting Classifier\n",
    "gbc_ros = GradientBoostingClassifier(random_state=1)\n",
    "gbc_ros.fit(X_ros, y_ros)\n",
    "\n",
    "gbc_ros_pred = gbc_ros.predict(X_test)\n",
    "gbc_ros_proba = gbc_ros.predict_proba(X_test)\n",
    "\n",
    "confusion_matrix(y_test, gbc_ros_pred)\n",
    "\n",
    "plot_confusion_matrix(gbc_ros, X_test, y_test)"
   ]
  },
  {
   "cell_type": "code",
   "execution_count": 163,
   "metadata": {},
   "outputs": [
    {
     "data": {
      "text/plain": [
       "<sklearn.metrics._plot.confusion_matrix.ConfusionMatrixDisplay at 0x268919ded88>"
      ]
     },
     "execution_count": 163,
     "metadata": {},
     "output_type": "execute_result"
    },
    {
     "data": {
      "image/png": "[encoded data removed]",
      "text/plain": [
       "<Figure size 432x288 with 2 Axes>"
      ]
     },
     "metadata": {
      "needs_background": "light"
     },
     "output_type": "display_data"
    }
   ],
   "source": [
    "# SMOTE Gradient Boosting Classifier\n",
    "gbc_smo = GradientBoostingClassifier(random_state=1)\n",
    "gbc_smo.fit(X_smo, y_smo)\n",
    "\n",
    "gbc_smo_pred = gbc_smo.predict(X_test)\n",
    "gbc_smo_proba = gbc_smo.predict_proba(X_test)\n",
    "\n",
    "confusion_matrix(y_test, gbc_smo_pred)\n",
    "\n",
    "plot_confusion_matrix(gbc_smo, X_test, y_test)"
   ]
  },
  {
   "cell_type": "code",
   "execution_count": 164,
   "metadata": {},
   "outputs": [
    {
     "data": {
      "text/plain": [
       "<sklearn.metrics._plot.confusion_matrix.ConfusionMatrixDisplay at 0x26891a92408>"
      ]
     },
     "execution_count": 164,
     "metadata": {},
     "output_type": "execute_result"
    },
    {
     "data": {
      "image/png": "[encoded data removed]",
      "text/plain": [
       "<Figure size 432x288 with 2 Axes>"
      ]
     },
     "metadata": {
      "needs_background": "light"
     },
     "output_type": "display_data"
    }
   ],
   "source": [
    "# Undersampling Gradient Boosting Classifier\n",
    "gbc_rus = GradientBoostingClassifier(random_state=1)\n",
    "gbc_rus.fit(X_rus, y_rus)\n",
    "\n",
    "gbc_rus_pred = gbc_rus.predict(X_test)\n",
    "gbc_rus_proba = gbc_rus.predict_proba(X_test)\n",
    "\n",
    "confusion_matrix(y_test, gbc_rus_pred)\n",
    "\n",
    "plot_confusion_matrix(gbc_rus, X_test, y_test)"
   ]
  },
  {
   "cell_type": "markdown",
   "metadata": {},
   "source": [
    "- Oversampling Gradient Boosting Classifier menghasilkan model machine learning yang sempurna, yaitu **gbc_ros**"
   ]
  },
  {
   "cell_type": "code",
   "execution_count": 195,
   "metadata": {},
   "outputs": [
    {
     "data": {
      "text/html": [
       "<div>\n",
       "<style scoped>\n",
       "    .dataframe tbody tr th:only-of-type {\n",
       "        vertical-align: middle;\n",
       "    }\n",
       "\n",
       "    .dataframe tbody tr th {\n",
       "        vertical-align: top;\n",
       "    }\n",
       "\n",
       "    .dataframe thead th {\n",
       "        text-align: right;\n",
       "    }\n",
       "</style>\n",
       "<table border=\"1\" class=\"dataframe\">\n",
       "  <thead>\n",
       "    <tr style=\"text-align: right;\">\n",
       "      <th></th>\n",
       "      <th>accuracy_score</th>\n",
       "      <th>precision_score(-)</th>\n",
       "      <th>recall_score(+)</th>\n",
       "      <th>f1_score</th>\n",
       "      <th>roc_auc_score</th>\n",
       "      <th>conf_matrix (TN, FP, FN, TP)</th>\n",
       "    </tr>\n",
       "  </thead>\n",
       "  <tbody>\n",
       "    <tr>\n",
       "      <th>Gradient Boosting Classifier</th>\n",
       "      <td>1</td>\n",
       "      <td>1</td>\n",
       "      <td>1</td>\n",
       "      <td>1</td>\n",
       "      <td>1</td>\n",
       "      <td>[2130, 0, 0, 91]</td>\n",
       "    </tr>\n",
       "  </tbody>\n",
       "</table>\n",
       "</div>"
      ],
      "text/plain": [
       "                             accuracy_score precision_score(-)  \\\n",
       "Gradient Boosting Classifier              1                  1   \n",
       "\n",
       "                             recall_score(+) f1_score roc_auc_score  \\\n",
       "Gradient Boosting Classifier               1        1             1   \n",
       "\n",
       "                             conf_matrix (TN, FP, FN, TP)  \n",
       "Gradient Boosting Classifier             [2130, 0, 0, 91]  "
      ]
     },
     "execution_count": 195,
     "metadata": {},
     "output_type": "execute_result"
    }
   ],
   "source": [
    "# Membandingkan model\n",
    "ml_model_fix = pd.DataFrame({\n",
    "    \"Gradient Boosting Classifier\": [accuracy_score(y_test, gbc_ros_pred), precision_score(y_test, gbc_ros_pred, pos_label=0), recall_score(y_test, gbc_ros_pred), f1_score(y_test, gbc_ros_pred), roc_auc_score(y_test, gbc_ros_pred), list(confusion_matrix(y_test, gbc_ros_pred).ravel())]\n",
    "}, index = ['accuracy_score', 'precision_score(-)', 'recall_score(+)', 'f1_score',  'roc_auc_score', 'conf_matrix (TN, FP, FN, TP)']).T\n",
    "ml_model_fix"
   ]
  },
  {
   "cell_type": "markdown",
   "metadata": {},
   "source": [
    "## 7. Mengklasifikasi pemain pada dataset new_players"
   ]
  },
  {
   "cell_type": "code",
   "execution_count": 165,
   "metadata": {},
   "outputs": [
    {
     "data": {
      "text/html": [
       "<div>\n",
       "<style scoped>\n",
       "    .dataframe tbody tr th:only-of-type {\n",
       "        vertical-align: middle;\n",
       "    }\n",
       "\n",
       "    .dataframe tbody tr th {\n",
       "        vertical-align: top;\n",
       "    }\n",
       "\n",
       "    .dataframe thead th {\n",
       "        text-align: right;\n",
       "    }\n",
       "</style>\n",
       "<table border=\"1\" class=\"dataframe\">\n",
       "  <thead>\n",
       "    <tr style=\"text-align: right;\">\n",
       "      <th></th>\n",
       "      <th>Unnamed: 0</th>\n",
       "      <th>player_id</th>\n",
       "      <th>age</th>\n",
       "      <th>player_height</th>\n",
       "      <th>player_weight</th>\n",
       "      <th>college</th>\n",
       "      <th>country</th>\n",
       "      <th>gp</th>\n",
       "      <th>pts</th>\n",
       "      <th>reb</th>\n",
       "      <th>ast</th>\n",
       "      <th>net_rating</th>\n",
       "      <th>oreb_pct</th>\n",
       "      <th>dreb_pct</th>\n",
       "      <th>usg_pct</th>\n",
       "      <th>ts_pct</th>\n",
       "      <th>ast_pct</th>\n",
       "    </tr>\n",
       "  </thead>\n",
       "  <tbody>\n",
       "    <tr>\n",
       "      <th>0</th>\n",
       "      <td>0</td>\n",
       "      <td>1</td>\n",
       "      <td>37.0</td>\n",
       "      <td>205.74</td>\n",
       "      <td>104.326160</td>\n",
       "      <td>Texas Christian</td>\n",
       "      <td>USA</td>\n",
       "      <td>70</td>\n",
       "      <td>3.0</td>\n",
       "      <td>4.2</td>\n",
       "      <td>0.7</td>\n",
       "      <td>-5.2</td>\n",
       "      <td>0.084</td>\n",
       "      <td>0.237</td>\n",
       "      <td>0.114</td>\n",
       "      <td>0.489</td>\n",
       "      <td>0.069</td>\n",
       "    </tr>\n",
       "    <tr>\n",
       "      <th>1</th>\n",
       "      <td>1</td>\n",
       "      <td>2</td>\n",
       "      <td>33.0</td>\n",
       "      <td>160.02</td>\n",
       "      <td>63.956472</td>\n",
       "      <td>Wake Forest</td>\n",
       "      <td>USA</td>\n",
       "      <td>61</td>\n",
       "      <td>5.7</td>\n",
       "      <td>2.2</td>\n",
       "      <td>5.4</td>\n",
       "      <td>-8.4</td>\n",
       "      <td>0.020</td>\n",
       "      <td>0.074</td>\n",
       "      <td>0.129</td>\n",
       "      <td>0.492</td>\n",
       "      <td>0.344</td>\n",
       "    </tr>\n",
       "    <tr>\n",
       "      <th>2</th>\n",
       "      <td>2</td>\n",
       "      <td>3</td>\n",
       "      <td>27.0</td>\n",
       "      <td>193.04</td>\n",
       "      <td>95.254320</td>\n",
       "      <td>Indiana</td>\n",
       "      <td>USA</td>\n",
       "      <td>36</td>\n",
       "      <td>18.8</td>\n",
       "      <td>5.6</td>\n",
       "      <td>5.2</td>\n",
       "      <td>5.6</td>\n",
       "      <td>0.018</td>\n",
       "      <td>0.154</td>\n",
       "      <td>0.278</td>\n",
       "      <td>0.519</td>\n",
       "      <td>0.250</td>\n",
       "    </tr>\n",
       "    <tr>\n",
       "      <th>3</th>\n",
       "      <td>3</td>\n",
       "      <td>4</td>\n",
       "      <td>21.0</td>\n",
       "      <td>195.58</td>\n",
       "      <td>99.790240</td>\n",
       "      <td>Cincinnati</td>\n",
       "      <td>USA</td>\n",
       "      <td>42</td>\n",
       "      <td>2.5</td>\n",
       "      <td>1.3</td>\n",
       "      <td>1.1</td>\n",
       "      <td>-4.2</td>\n",
       "      <td>0.030</td>\n",
       "      <td>0.115</td>\n",
       "      <td>0.171</td>\n",
       "      <td>0.400</td>\n",
       "      <td>0.174</td>\n",
       "    </tr>\n",
       "    <tr>\n",
       "      <th>4</th>\n",
       "      <td>4</td>\n",
       "      <td>5</td>\n",
       "      <td>23.0</td>\n",
       "      <td>215.90</td>\n",
       "      <td>122.469840</td>\n",
       "      <td>None</td>\n",
       "      <td>USA</td>\n",
       "      <td>26</td>\n",
       "      <td>3.3</td>\n",
       "      <td>3.4</td>\n",
       "      <td>0.3</td>\n",
       "      <td>-7.8</td>\n",
       "      <td>0.069</td>\n",
       "      <td>0.221</td>\n",
       "      <td>0.112</td>\n",
       "      <td>0.551</td>\n",
       "      <td>0.037</td>\n",
       "    </tr>\n",
       "    <tr>\n",
       "      <th>...</th>\n",
       "      <td>...</td>\n",
       "      <td>...</td>\n",
       "      <td>...</td>\n",
       "      <td>...</td>\n",
       "      <td>...</td>\n",
       "      <td>...</td>\n",
       "      <td>...</td>\n",
       "      <td>...</td>\n",
       "      <td>...</td>\n",
       "      <td>...</td>\n",
       "      <td>...</td>\n",
       "      <td>...</td>\n",
       "      <td>...</td>\n",
       "      <td>...</td>\n",
       "      <td>...</td>\n",
       "      <td>...</td>\n",
       "      <td>...</td>\n",
       "    </tr>\n",
       "    <tr>\n",
       "      <th>495</th>\n",
       "      <td>495</td>\n",
       "      <td>496</td>\n",
       "      <td>28.0</td>\n",
       "      <td>200.66</td>\n",
       "      <td>103.418976</td>\n",
       "      <td>Nevada-Las Vegas</td>\n",
       "      <td>USA</td>\n",
       "      <td>81</td>\n",
       "      <td>21.8</td>\n",
       "      <td>11.8</td>\n",
       "      <td>1.8</td>\n",
       "      <td>7.1</td>\n",
       "      <td>0.086</td>\n",
       "      <td>0.238</td>\n",
       "      <td>0.222</td>\n",
       "      <td>0.591</td>\n",
       "      <td>0.068</td>\n",
       "    </tr>\n",
       "    <tr>\n",
       "      <th>496</th>\n",
       "      <td>496</td>\n",
       "      <td>497</td>\n",
       "      <td>28.0</td>\n",
       "      <td>200.66</td>\n",
       "      <td>107.047712</td>\n",
       "      <td>California</td>\n",
       "      <td>USA</td>\n",
       "      <td>78</td>\n",
       "      <td>12.8</td>\n",
       "      <td>4.4</td>\n",
       "      <td>1.6</td>\n",
       "      <td>-4.9</td>\n",
       "      <td>0.054</td>\n",
       "      <td>0.124</td>\n",
       "      <td>0.233</td>\n",
       "      <td>0.490</td>\n",
       "      <td>0.099</td>\n",
       "    </tr>\n",
       "    <tr>\n",
       "      <th>497</th>\n",
       "      <td>497</td>\n",
       "      <td>498</td>\n",
       "      <td>23.0</td>\n",
       "      <td>208.28</td>\n",
       "      <td>103.418976</td>\n",
       "      <td>Wisconsin</td>\n",
       "      <td>USA</td>\n",
       "      <td>46</td>\n",
       "      <td>4.7</td>\n",
       "      <td>2.6</td>\n",
       "      <td>0.5</td>\n",
       "      <td>0.2</td>\n",
       "      <td>0.087</td>\n",
       "      <td>0.162</td>\n",
       "      <td>0.174</td>\n",
       "      <td>0.536</td>\n",
       "      <td>0.072</td>\n",
       "    </tr>\n",
       "    <tr>\n",
       "      <th>498</th>\n",
       "      <td>498</td>\n",
       "      <td>499</td>\n",
       "      <td>24.0</td>\n",
       "      <td>213.36</td>\n",
       "      <td>108.862080</td>\n",
       "      <td>DePaul</td>\n",
       "      <td>USA</td>\n",
       "      <td>69</td>\n",
       "      <td>6.1</td>\n",
       "      <td>3.9</td>\n",
       "      <td>0.2</td>\n",
       "      <td>-1.7</td>\n",
       "      <td>0.099</td>\n",
       "      <td>0.140</td>\n",
       "      <td>0.146</td>\n",
       "      <td>0.598</td>\n",
       "      <td>0.021</td>\n",
       "    </tr>\n",
       "    <tr>\n",
       "      <th>499</th>\n",
       "      <td>499</td>\n",
       "      <td>500</td>\n",
       "      <td>31.0</td>\n",
       "      <td>203.20</td>\n",
       "      <td>113.398000</td>\n",
       "      <td>Tennessee State</td>\n",
       "      <td>USA</td>\n",
       "      <td>81</td>\n",
       "      <td>12.8</td>\n",
       "      <td>10.2</td>\n",
       "      <td>4.2</td>\n",
       "      <td>2.5</td>\n",
       "      <td>0.070</td>\n",
       "      <td>0.247</td>\n",
       "      <td>0.162</td>\n",
       "      <td>0.552</td>\n",
       "      <td>0.174</td>\n",
       "    </tr>\n",
       "  </tbody>\n",
       "</table>\n",
       "<p>500 rows × 17 columns</p>\n",
       "</div>"
      ],
      "text/plain": [
       "     Unnamed: 0  player_id   age  player_height  player_weight  \\\n",
       "0             0          1  37.0         205.74     104.326160   \n",
       "1             1          2  33.0         160.02      63.956472   \n",
       "2             2          3  27.0         193.04      95.254320   \n",
       "3             3          4  21.0         195.58      99.790240   \n",
       "4             4          5  23.0         215.90     122.469840   \n",
       "..          ...        ...   ...            ...            ...   \n",
       "495         495        496  28.0         200.66     103.418976   \n",
       "496         496        497  28.0         200.66     107.047712   \n",
       "497         497        498  23.0         208.28     103.418976   \n",
       "498         498        499  24.0         213.36     108.862080   \n",
       "499         499        500  31.0         203.20     113.398000   \n",
       "\n",
       "              college country  gp   pts   reb  ast  net_rating  oreb_pct  \\\n",
       "0     Texas Christian     USA  70   3.0   4.2  0.7        -5.2     0.084   \n",
       "1         Wake Forest     USA  61   5.7   2.2  5.4        -8.4     0.020   \n",
       "2             Indiana     USA  36  18.8   5.6  5.2         5.6     0.018   \n",
       "3          Cincinnati     USA  42   2.5   1.3  1.1        -4.2     0.030   \n",
       "4                None     USA  26   3.3   3.4  0.3        -7.8     0.069   \n",
       "..                ...     ...  ..   ...   ...  ...         ...       ...   \n",
       "495  Nevada-Las Vegas     USA  81  21.8  11.8  1.8         7.1     0.086   \n",
       "496        California     USA  78  12.8   4.4  1.6        -4.9     0.054   \n",
       "497         Wisconsin     USA  46   4.7   2.6  0.5         0.2     0.087   \n",
       "498            DePaul     USA  69   6.1   3.9  0.2        -1.7     0.099   \n",
       "499   Tennessee State     USA  81  12.8  10.2  4.2         2.5     0.070   \n",
       "\n",
       "     dreb_pct  usg_pct  ts_pct  ast_pct  \n",
       "0       0.237    0.114   0.489    0.069  \n",
       "1       0.074    0.129   0.492    0.344  \n",
       "2       0.154    0.278   0.519    0.250  \n",
       "3       0.115    0.171   0.400    0.174  \n",
       "4       0.221    0.112   0.551    0.037  \n",
       "..        ...      ...     ...      ...  \n",
       "495     0.238    0.222   0.591    0.068  \n",
       "496     0.124    0.233   0.490    0.099  \n",
       "497     0.162    0.174   0.536    0.072  \n",
       "498     0.140    0.146   0.598    0.021  \n",
       "499     0.247    0.162   0.552    0.174  \n",
       "\n",
       "[500 rows x 17 columns]"
      ]
     },
     "execution_count": 165,
     "metadata": {},
     "output_type": "execute_result"
    }
   ],
   "source": [
    "df_new_players = pd.read_csv('new_players.csv')\n",
    "df_new_players"
   ]
  },
  {
   "cell_type": "code",
   "execution_count": 174,
   "metadata": {},
   "outputs": [
    {
     "data": {
      "text/html": [
       "<div>\n",
       "<style scoped>\n",
       "    .dataframe tbody tr th:only-of-type {\n",
       "        vertical-align: middle;\n",
       "    }\n",
       "\n",
       "    .dataframe tbody tr th {\n",
       "        vertical-align: top;\n",
       "    }\n",
       "\n",
       "    .dataframe thead th {\n",
       "        text-align: right;\n",
       "    }\n",
       "</style>\n",
       "<table border=\"1\" class=\"dataframe\">\n",
       "  <thead>\n",
       "    <tr style=\"text-align: right;\">\n",
       "      <th></th>\n",
       "      <th>age</th>\n",
       "      <th>player_height</th>\n",
       "      <th>player_weight</th>\n",
       "      <th>gp</th>\n",
       "      <th>pts</th>\n",
       "      <th>reb</th>\n",
       "      <th>ast</th>\n",
       "      <th>net_rating</th>\n",
       "      <th>oreb_pct</th>\n",
       "      <th>dreb_pct</th>\n",
       "      <th>usg_pct</th>\n",
       "      <th>ts_pct</th>\n",
       "      <th>ast_pct</th>\n",
       "    </tr>\n",
       "  </thead>\n",
       "  <tbody>\n",
       "    <tr>\n",
       "      <th>0</th>\n",
       "      <td>36.0</td>\n",
       "      <td>198.12</td>\n",
       "      <td>99.790240</td>\n",
       "      <td>55</td>\n",
       "      <td>5.7</td>\n",
       "      <td>16.1</td>\n",
       "      <td>3.1</td>\n",
       "      <td>16.1</td>\n",
       "      <td>0.186</td>\n",
       "      <td>0.323</td>\n",
       "      <td>0.100</td>\n",
       "      <td>0.479</td>\n",
       "      <td>0.113</td>\n",
       "    </tr>\n",
       "    <tr>\n",
       "      <th>1</th>\n",
       "      <td>28.0</td>\n",
       "      <td>215.90</td>\n",
       "      <td>117.933920</td>\n",
       "      <td>15</td>\n",
       "      <td>2.3</td>\n",
       "      <td>1.5</td>\n",
       "      <td>0.3</td>\n",
       "      <td>12.3</td>\n",
       "      <td>0.078</td>\n",
       "      <td>0.151</td>\n",
       "      <td>0.175</td>\n",
       "      <td>0.430</td>\n",
       "      <td>0.048</td>\n",
       "    </tr>\n",
       "    <tr>\n",
       "      <th>2</th>\n",
       "      <td>39.0</td>\n",
       "      <td>205.74</td>\n",
       "      <td>95.254320</td>\n",
       "      <td>9</td>\n",
       "      <td>0.8</td>\n",
       "      <td>1.0</td>\n",
       "      <td>0.4</td>\n",
       "      <td>-2.1</td>\n",
       "      <td>0.105</td>\n",
       "      <td>0.102</td>\n",
       "      <td>0.103</td>\n",
       "      <td>0.376</td>\n",
       "      <td>0.148</td>\n",
       "    </tr>\n",
       "    <tr>\n",
       "      <th>3</th>\n",
       "      <td>24.0</td>\n",
       "      <td>203.20</td>\n",
       "      <td>100.697424</td>\n",
       "      <td>64</td>\n",
       "      <td>3.7</td>\n",
       "      <td>2.3</td>\n",
       "      <td>0.6</td>\n",
       "      <td>-8.7</td>\n",
       "      <td>0.060</td>\n",
       "      <td>0.149</td>\n",
       "      <td>0.167</td>\n",
       "      <td>0.399</td>\n",
       "      <td>0.077</td>\n",
       "    </tr>\n",
       "    <tr>\n",
       "      <th>4</th>\n",
       "      <td>34.0</td>\n",
       "      <td>205.74</td>\n",
       "      <td>108.862080</td>\n",
       "      <td>27</td>\n",
       "      <td>2.4</td>\n",
       "      <td>2.4</td>\n",
       "      <td>0.2</td>\n",
       "      <td>-11.2</td>\n",
       "      <td>0.109</td>\n",
       "      <td>0.179</td>\n",
       "      <td>0.127</td>\n",
       "      <td>0.611</td>\n",
       "      <td>0.040</td>\n",
       "    </tr>\n",
       "  </tbody>\n",
       "</table>\n",
       "</div>"
      ],
      "text/plain": [
       "    age  player_height  player_weight  gp  pts   reb  ast  net_rating  \\\n",
       "0  36.0         198.12      99.790240  55  5.7  16.1  3.1        16.1   \n",
       "1  28.0         215.90     117.933920  15  2.3   1.5  0.3        12.3   \n",
       "2  39.0         205.74      95.254320   9  0.8   1.0  0.4        -2.1   \n",
       "3  24.0         203.20     100.697424  64  3.7   2.3  0.6        -8.7   \n",
       "4  34.0         205.74     108.862080  27  2.4   2.4  0.2       -11.2   \n",
       "\n",
       "   oreb_pct  dreb_pct  usg_pct  ts_pct  ast_pct  \n",
       "0     0.186     0.323    0.100   0.479    0.113  \n",
       "1     0.078     0.151    0.175   0.430    0.048  \n",
       "2     0.105     0.102    0.103   0.376    0.148  \n",
       "3     0.060     0.149    0.167   0.399    0.077  \n",
       "4     0.109     0.179    0.127   0.611    0.040  "
      ]
     },
     "execution_count": 174,
     "metadata": {},
     "output_type": "execute_result"
    }
   ],
   "source": [
    "X.head()"
   ]
  },
  {
   "cell_type": "code",
   "execution_count": 175,
   "metadata": {},
   "outputs": [
    {
     "data": {
      "text/html": [
       "<div>\n",
       "<style scoped>\n",
       "    .dataframe tbody tr th:only-of-type {\n",
       "        vertical-align: middle;\n",
       "    }\n",
       "\n",
       "    .dataframe tbody tr th {\n",
       "        vertical-align: top;\n",
       "    }\n",
       "\n",
       "    .dataframe thead th {\n",
       "        text-align: right;\n",
       "    }\n",
       "</style>\n",
       "<table border=\"1\" class=\"dataframe\">\n",
       "  <thead>\n",
       "    <tr style=\"text-align: right;\">\n",
       "      <th></th>\n",
       "      <th>age</th>\n",
       "      <th>player_height</th>\n",
       "      <th>player_weight</th>\n",
       "      <th>gp</th>\n",
       "      <th>pts</th>\n",
       "      <th>reb</th>\n",
       "      <th>ast</th>\n",
       "      <th>net_rating</th>\n",
       "      <th>oreb_pct</th>\n",
       "      <th>dreb_pct</th>\n",
       "      <th>usg_pct</th>\n",
       "      <th>ts_pct</th>\n",
       "      <th>ast_pct</th>\n",
       "    </tr>\n",
       "  </thead>\n",
       "  <tbody>\n",
       "    <tr>\n",
       "      <th>0</th>\n",
       "      <td>2.078114</td>\n",
       "      <td>-0.291659</td>\n",
       "      <td>-0.066275</td>\n",
       "      <td>0.118245</td>\n",
       "      <td>-0.410587</td>\n",
       "      <td>5.021372</td>\n",
       "      <td>0.725037</td>\n",
       "      <td>1.501031</td>\n",
       "      <td>2.970828</td>\n",
       "      <td>2.868271</td>\n",
       "      <td>-1.616981</td>\n",
       "      <td>-0.293934</td>\n",
       "      <td>-0.190875</td>\n",
       "    </tr>\n",
       "    <tr>\n",
       "      <th>1</th>\n",
       "      <td>0.206157</td>\n",
       "      <td>1.643881</td>\n",
       "      <td>1.376508</td>\n",
       "      <td>-1.477668</td>\n",
       "      <td>-0.983173</td>\n",
       "      <td>-0.826262</td>\n",
       "      <td>-0.839898</td>\n",
       "      <td>1.188612</td>\n",
       "      <td>0.510115</td>\n",
       "      <td>0.146893</td>\n",
       "      <td>-0.201991</td>\n",
       "      <td>-0.789072</td>\n",
       "      <td>-0.875473</td>\n",
       "    </tr>\n",
       "    <tr>\n",
       "      <th>2</th>\n",
       "      <td>2.780098</td>\n",
       "      <td>0.537858</td>\n",
       "      <td>-0.426970</td>\n",
       "      <td>-1.717055</td>\n",
       "      <td>-1.235785</td>\n",
       "      <td>-1.026524</td>\n",
       "      <td>-0.784008</td>\n",
       "      <td>0.004711</td>\n",
       "      <td>1.125293</td>\n",
       "      <td>-0.628383</td>\n",
       "      <td>-1.560381</td>\n",
       "      <td>-1.334734</td>\n",
       "      <td>0.177755</td>\n",
       "    </tr>\n",
       "    <tr>\n",
       "      <th>3</th>\n",
       "      <td>-0.729821</td>\n",
       "      <td>0.261352</td>\n",
       "      <td>0.005864</td>\n",
       "      <td>0.477326</td>\n",
       "      <td>-0.747402</td>\n",
       "      <td>-0.505844</td>\n",
       "      <td>-0.672227</td>\n",
       "      <td>-0.537911</td>\n",
       "      <td>0.099996</td>\n",
       "      <td>0.115249</td>\n",
       "      <td>-0.352923</td>\n",
       "      <td>-1.102322</td>\n",
       "      <td>-0.570037</td>\n",
       "    </tr>\n",
       "    <tr>\n",
       "      <th>4</th>\n",
       "      <td>1.610125</td>\n",
       "      <td>0.537858</td>\n",
       "      <td>0.655116</td>\n",
       "      <td>-0.998894</td>\n",
       "      <td>-0.966332</td>\n",
       "      <td>-0.465792</td>\n",
       "      <td>-0.895789</td>\n",
       "      <td>-0.743450</td>\n",
       "      <td>1.216430</td>\n",
       "      <td>0.589908</td>\n",
       "      <td>-1.107584</td>\n",
       "      <td>1.039906</td>\n",
       "      <td>-0.959731</td>\n",
       "    </tr>\n",
       "  </tbody>\n",
       "</table>\n",
       "</div>"
      ],
      "text/plain": [
       "        age  player_height  player_weight        gp       pts       reb  \\\n",
       "0  2.078114      -0.291659      -0.066275  0.118245 -0.410587  5.021372   \n",
       "1  0.206157       1.643881       1.376508 -1.477668 -0.983173 -0.826262   \n",
       "2  2.780098       0.537858      -0.426970 -1.717055 -1.235785 -1.026524   \n",
       "3 -0.729821       0.261352       0.005864  0.477326 -0.747402 -0.505844   \n",
       "4  1.610125       0.537858       0.655116 -0.998894 -0.966332 -0.465792   \n",
       "\n",
       "        ast  net_rating  oreb_pct  dreb_pct   usg_pct    ts_pct   ast_pct  \n",
       "0  0.725037    1.501031  2.970828  2.868271 -1.616981 -0.293934 -0.190875  \n",
       "1 -0.839898    1.188612  0.510115  0.146893 -0.201991 -0.789072 -0.875473  \n",
       "2 -0.784008    0.004711  1.125293 -0.628383 -1.560381 -1.334734  0.177755  \n",
       "3 -0.672227   -0.537911  0.099996  0.115249 -0.352923 -1.102322 -0.570037  \n",
       "4 -0.895789   -0.743450  1.216430  0.589908 -1.107584  1.039906 -0.959731  "
      ]
     },
     "execution_count": 175,
     "metadata": {},
     "output_type": "execute_result"
    }
   ],
   "source": [
    "df_stdscaled.head()"
   ]
  },
  {
   "cell_type": "code",
   "execution_count": 179,
   "metadata": {},
   "outputs": [
    {
     "data": {
      "text/html": [
       "<div>\n",
       "<style scoped>\n",
       "    .dataframe tbody tr th:only-of-type {\n",
       "        vertical-align: middle;\n",
       "    }\n",
       "\n",
       "    .dataframe tbody tr th {\n",
       "        vertical-align: top;\n",
       "    }\n",
       "\n",
       "    .dataframe thead th {\n",
       "        text-align: right;\n",
       "    }\n",
       "</style>\n",
       "<table border=\"1\" class=\"dataframe\">\n",
       "  <thead>\n",
       "    <tr style=\"text-align: right;\">\n",
       "      <th></th>\n",
       "      <th>age</th>\n",
       "      <th>player_height</th>\n",
       "      <th>player_weight</th>\n",
       "      <th>gp</th>\n",
       "      <th>pts</th>\n",
       "      <th>reb</th>\n",
       "      <th>ast</th>\n",
       "      <th>net_rating</th>\n",
       "      <th>oreb_pct</th>\n",
       "      <th>dreb_pct</th>\n",
       "      <th>usg_pct</th>\n",
       "      <th>ts_pct</th>\n",
       "      <th>ast_pct</th>\n",
       "    </tr>\n",
       "  </thead>\n",
       "  <tbody>\n",
       "    <tr>\n",
       "      <th>0</th>\n",
       "      <td>37.0</td>\n",
       "      <td>205.74</td>\n",
       "      <td>104.326160</td>\n",
       "      <td>70</td>\n",
       "      <td>3.0</td>\n",
       "      <td>4.2</td>\n",
       "      <td>0.7</td>\n",
       "      <td>-5.2</td>\n",
       "      <td>0.084</td>\n",
       "      <td>0.237</td>\n",
       "      <td>0.114</td>\n",
       "      <td>0.489</td>\n",
       "      <td>0.069</td>\n",
       "    </tr>\n",
       "    <tr>\n",
       "      <th>1</th>\n",
       "      <td>33.0</td>\n",
       "      <td>160.02</td>\n",
       "      <td>63.956472</td>\n",
       "      <td>61</td>\n",
       "      <td>5.7</td>\n",
       "      <td>2.2</td>\n",
       "      <td>5.4</td>\n",
       "      <td>-8.4</td>\n",
       "      <td>0.020</td>\n",
       "      <td>0.074</td>\n",
       "      <td>0.129</td>\n",
       "      <td>0.492</td>\n",
       "      <td>0.344</td>\n",
       "    </tr>\n",
       "    <tr>\n",
       "      <th>2</th>\n",
       "      <td>27.0</td>\n",
       "      <td>193.04</td>\n",
       "      <td>95.254320</td>\n",
       "      <td>36</td>\n",
       "      <td>18.8</td>\n",
       "      <td>5.6</td>\n",
       "      <td>5.2</td>\n",
       "      <td>5.6</td>\n",
       "      <td>0.018</td>\n",
       "      <td>0.154</td>\n",
       "      <td>0.278</td>\n",
       "      <td>0.519</td>\n",
       "      <td>0.250</td>\n",
       "    </tr>\n",
       "    <tr>\n",
       "      <th>3</th>\n",
       "      <td>21.0</td>\n",
       "      <td>195.58</td>\n",
       "      <td>99.790240</td>\n",
       "      <td>42</td>\n",
       "      <td>2.5</td>\n",
       "      <td>1.3</td>\n",
       "      <td>1.1</td>\n",
       "      <td>-4.2</td>\n",
       "      <td>0.030</td>\n",
       "      <td>0.115</td>\n",
       "      <td>0.171</td>\n",
       "      <td>0.400</td>\n",
       "      <td>0.174</td>\n",
       "    </tr>\n",
       "    <tr>\n",
       "      <th>4</th>\n",
       "      <td>23.0</td>\n",
       "      <td>215.90</td>\n",
       "      <td>122.469840</td>\n",
       "      <td>26</td>\n",
       "      <td>3.3</td>\n",
       "      <td>3.4</td>\n",
       "      <td>0.3</td>\n",
       "      <td>-7.8</td>\n",
       "      <td>0.069</td>\n",
       "      <td>0.221</td>\n",
       "      <td>0.112</td>\n",
       "      <td>0.551</td>\n",
       "      <td>0.037</td>\n",
       "    </tr>\n",
       "    <tr>\n",
       "      <th>...</th>\n",
       "      <td>...</td>\n",
       "      <td>...</td>\n",
       "      <td>...</td>\n",
       "      <td>...</td>\n",
       "      <td>...</td>\n",
       "      <td>...</td>\n",
       "      <td>...</td>\n",
       "      <td>...</td>\n",
       "      <td>...</td>\n",
       "      <td>...</td>\n",
       "      <td>...</td>\n",
       "      <td>...</td>\n",
       "      <td>...</td>\n",
       "    </tr>\n",
       "    <tr>\n",
       "      <th>495</th>\n",
       "      <td>28.0</td>\n",
       "      <td>200.66</td>\n",
       "      <td>103.418976</td>\n",
       "      <td>81</td>\n",
       "      <td>21.8</td>\n",
       "      <td>11.8</td>\n",
       "      <td>1.8</td>\n",
       "      <td>7.1</td>\n",
       "      <td>0.086</td>\n",
       "      <td>0.238</td>\n",
       "      <td>0.222</td>\n",
       "      <td>0.591</td>\n",
       "      <td>0.068</td>\n",
       "    </tr>\n",
       "    <tr>\n",
       "      <th>496</th>\n",
       "      <td>28.0</td>\n",
       "      <td>200.66</td>\n",
       "      <td>107.047712</td>\n",
       "      <td>78</td>\n",
       "      <td>12.8</td>\n",
       "      <td>4.4</td>\n",
       "      <td>1.6</td>\n",
       "      <td>-4.9</td>\n",
       "      <td>0.054</td>\n",
       "      <td>0.124</td>\n",
       "      <td>0.233</td>\n",
       "      <td>0.490</td>\n",
       "      <td>0.099</td>\n",
       "    </tr>\n",
       "    <tr>\n",
       "      <th>497</th>\n",
       "      <td>23.0</td>\n",
       "      <td>208.28</td>\n",
       "      <td>103.418976</td>\n",
       "      <td>46</td>\n",
       "      <td>4.7</td>\n",
       "      <td>2.6</td>\n",
       "      <td>0.5</td>\n",
       "      <td>0.2</td>\n",
       "      <td>0.087</td>\n",
       "      <td>0.162</td>\n",
       "      <td>0.174</td>\n",
       "      <td>0.536</td>\n",
       "      <td>0.072</td>\n",
       "    </tr>\n",
       "    <tr>\n",
       "      <th>498</th>\n",
       "      <td>24.0</td>\n",
       "      <td>213.36</td>\n",
       "      <td>108.862080</td>\n",
       "      <td>69</td>\n",
       "      <td>6.1</td>\n",
       "      <td>3.9</td>\n",
       "      <td>0.2</td>\n",
       "      <td>-1.7</td>\n",
       "      <td>0.099</td>\n",
       "      <td>0.140</td>\n",
       "      <td>0.146</td>\n",
       "      <td>0.598</td>\n",
       "      <td>0.021</td>\n",
       "    </tr>\n",
       "    <tr>\n",
       "      <th>499</th>\n",
       "      <td>31.0</td>\n",
       "      <td>203.20</td>\n",
       "      <td>113.398000</td>\n",
       "      <td>81</td>\n",
       "      <td>12.8</td>\n",
       "      <td>10.2</td>\n",
       "      <td>4.2</td>\n",
       "      <td>2.5</td>\n",
       "      <td>0.070</td>\n",
       "      <td>0.247</td>\n",
       "      <td>0.162</td>\n",
       "      <td>0.552</td>\n",
       "      <td>0.174</td>\n",
       "    </tr>\n",
       "  </tbody>\n",
       "</table>\n",
       "<p>500 rows × 13 columns</p>\n",
       "</div>"
      ],
      "text/plain": [
       "      age  player_height  player_weight  gp   pts   reb  ast  net_rating  \\\n",
       "0    37.0         205.74     104.326160  70   3.0   4.2  0.7        -5.2   \n",
       "1    33.0         160.02      63.956472  61   5.7   2.2  5.4        -8.4   \n",
       "2    27.0         193.04      95.254320  36  18.8   5.6  5.2         5.6   \n",
       "3    21.0         195.58      99.790240  42   2.5   1.3  1.1        -4.2   \n",
       "4    23.0         215.90     122.469840  26   3.3   3.4  0.3        -7.8   \n",
       "..    ...            ...            ...  ..   ...   ...  ...         ...   \n",
       "495  28.0         200.66     103.418976  81  21.8  11.8  1.8         7.1   \n",
       "496  28.0         200.66     107.047712  78  12.8   4.4  1.6        -4.9   \n",
       "497  23.0         208.28     103.418976  46   4.7   2.6  0.5         0.2   \n",
       "498  24.0         213.36     108.862080  69   6.1   3.9  0.2        -1.7   \n",
       "499  31.0         203.20     113.398000  81  12.8  10.2  4.2         2.5   \n",
       "\n",
       "     oreb_pct  dreb_pct  usg_pct  ts_pct  ast_pct  \n",
       "0       0.084     0.237    0.114   0.489    0.069  \n",
       "1       0.020     0.074    0.129   0.492    0.344  \n",
       "2       0.018     0.154    0.278   0.519    0.250  \n",
       "3       0.030     0.115    0.171   0.400    0.174  \n",
       "4       0.069     0.221    0.112   0.551    0.037  \n",
       "..        ...       ...      ...     ...      ...  \n",
       "495     0.086     0.238    0.222   0.591    0.068  \n",
       "496     0.054     0.124    0.233   0.490    0.099  \n",
       "497     0.087     0.162    0.174   0.536    0.072  \n",
       "498     0.099     0.140    0.146   0.598    0.021  \n",
       "499     0.070     0.247    0.162   0.552    0.174  \n",
       "\n",
       "[500 rows x 13 columns]"
      ]
     },
     "execution_count": 179,
     "metadata": {},
     "output_type": "execute_result"
    }
   ],
   "source": [
    "col = X.columns.tolist()\n",
    "X_new = df_new_players[col]\n",
    "X_new"
   ]
  },
  {
   "cell_type": "code",
   "execution_count": 182,
   "metadata": {},
   "outputs": [
    {
     "data": {
      "text/html": [
       "<div>\n",
       "<style scoped>\n",
       "    .dataframe tbody tr th:only-of-type {\n",
       "        vertical-align: middle;\n",
       "    }\n",
       "\n",
       "    .dataframe tbody tr th {\n",
       "        vertical-align: top;\n",
       "    }\n",
       "\n",
       "    .dataframe thead th {\n",
       "        text-align: right;\n",
       "    }\n",
       "</style>\n",
       "<table border=\"1\" class=\"dataframe\">\n",
       "  <thead>\n",
       "    <tr style=\"text-align: right;\">\n",
       "      <th></th>\n",
       "      <th>age</th>\n",
       "      <th>player_height</th>\n",
       "      <th>player_weight</th>\n",
       "      <th>gp</th>\n",
       "      <th>pts</th>\n",
       "      <th>reb</th>\n",
       "      <th>ast</th>\n",
       "      <th>net_rating</th>\n",
       "      <th>oreb_pct</th>\n",
       "      <th>dreb_pct</th>\n",
       "      <th>usg_pct</th>\n",
       "      <th>ts_pct</th>\n",
       "      <th>ast_pct</th>\n",
       "    </tr>\n",
       "  </thead>\n",
       "  <tbody>\n",
       "    <tr>\n",
       "      <th>0</th>\n",
       "      <td>2.342023</td>\n",
       "      <td>0.499014</td>\n",
       "      <td>0.250921</td>\n",
       "      <td>0.664993</td>\n",
       "      <td>-0.895364</td>\n",
       "      <td>0.247934</td>\n",
       "      <td>-0.617326</td>\n",
       "      <td>-0.186725</td>\n",
       "      <td>0.684281</td>\n",
       "      <td>1.609449</td>\n",
       "      <td>-1.425465</td>\n",
       "      <td>-0.172796</td>\n",
       "      <td>-0.614537</td>\n",
       "    </tr>\n",
       "    <tr>\n",
       "      <th>1</th>\n",
       "      <td>1.391912</td>\n",
       "      <td>-4.394712</td>\n",
       "      <td>-2.945117</td>\n",
       "      <td>0.307769</td>\n",
       "      <td>-0.446118</td>\n",
       "      <td>-0.589963</td>\n",
       "      <td>2.243481</td>\n",
       "      <td>-0.458498</td>\n",
       "      <td>-0.821288</td>\n",
       "      <td>-1.175420</td>\n",
       "      <td>-1.137166</td>\n",
       "      <td>-0.143601</td>\n",
       "      <td>2.374878</td>\n",
       "    </tr>\n",
       "    <tr>\n",
       "      <th>2</th>\n",
       "      <td>-0.033254</td>\n",
       "      <td>-0.860354</td>\n",
       "      <td>-0.467290</td>\n",
       "      <td>-0.684522</td>\n",
       "      <td>1.733558</td>\n",
       "      <td>0.834461</td>\n",
       "      <td>2.121745</td>\n",
       "      <td>0.730509</td>\n",
       "      <td>-0.868337</td>\n",
       "      <td>0.191387</td>\n",
       "      <td>1.726603</td>\n",
       "      <td>0.119155</td>\n",
       "      <td>1.353041</td>\n",
       "    </tr>\n",
       "    <tr>\n",
       "      <th>3</th>\n",
       "      <td>-1.458420</td>\n",
       "      <td>-0.588480</td>\n",
       "      <td>-0.108185</td>\n",
       "      <td>-0.446372</td>\n",
       "      <td>-0.978558</td>\n",
       "      <td>-0.967016</td>\n",
       "      <td>-0.373853</td>\n",
       "      <td>-0.101796</td>\n",
       "      <td>-0.586043</td>\n",
       "      <td>-0.474931</td>\n",
       "      <td>-0.329929</td>\n",
       "      <td>-1.038917</td>\n",
       "      <td>0.526876</td>\n",
       "    </tr>\n",
       "    <tr>\n",
       "      <th>4</th>\n",
       "      <td>-0.983365</td>\n",
       "      <td>1.586509</td>\n",
       "      <td>1.687342</td>\n",
       "      <td>-1.081438</td>\n",
       "      <td>-0.845448</td>\n",
       "      <td>-0.087225</td>\n",
       "      <td>-0.860798</td>\n",
       "      <td>-0.407541</td>\n",
       "      <td>0.331414</td>\n",
       "      <td>1.336088</td>\n",
       "      <td>-1.463905</td>\n",
       "      <td>0.430569</td>\n",
       "      <td>-0.962396</td>\n",
       "    </tr>\n",
       "    <tr>\n",
       "      <th>...</th>\n",
       "      <td>...</td>\n",
       "      <td>...</td>\n",
       "      <td>...</td>\n",
       "      <td>...</td>\n",
       "      <td>...</td>\n",
       "      <td>...</td>\n",
       "      <td>...</td>\n",
       "      <td>...</td>\n",
       "      <td>...</td>\n",
       "      <td>...</td>\n",
       "      <td>...</td>\n",
       "      <td>...</td>\n",
       "      <td>...</td>\n",
       "    </tr>\n",
       "    <tr>\n",
       "      <th>495</th>\n",
       "      <td>0.204274</td>\n",
       "      <td>-0.044733</td>\n",
       "      <td>0.179099</td>\n",
       "      <td>1.101601</td>\n",
       "      <td>2.232720</td>\n",
       "      <td>3.431940</td>\n",
       "      <td>0.052225</td>\n",
       "      <td>0.857903</td>\n",
       "      <td>0.731330</td>\n",
       "      <td>1.626534</td>\n",
       "      <td>0.650287</td>\n",
       "      <td>0.819837</td>\n",
       "      <td>-0.625407</td>\n",
       "    </tr>\n",
       "    <tr>\n",
       "      <th>496</th>\n",
       "      <td>0.204274</td>\n",
       "      <td>-0.044733</td>\n",
       "      <td>0.466384</td>\n",
       "      <td>0.982526</td>\n",
       "      <td>0.735233</td>\n",
       "      <td>0.331723</td>\n",
       "      <td>-0.069512</td>\n",
       "      <td>-0.161246</td>\n",
       "      <td>-0.021454</td>\n",
       "      <td>-0.321165</td>\n",
       "      <td>0.861706</td>\n",
       "      <td>-0.163064</td>\n",
       "      <td>-0.288419</td>\n",
       "    </tr>\n",
       "    <tr>\n",
       "      <th>497</th>\n",
       "      <td>-0.983365</td>\n",
       "      <td>0.770888</td>\n",
       "      <td>0.179099</td>\n",
       "      <td>-0.287605</td>\n",
       "      <td>-0.612505</td>\n",
       "      <td>-0.422384</td>\n",
       "      <td>-0.739062</td>\n",
       "      <td>0.271892</td>\n",
       "      <td>0.754855</td>\n",
       "      <td>0.328068</td>\n",
       "      <td>-0.272270</td>\n",
       "      <td>0.284594</td>\n",
       "      <td>-0.581925</td>\n",
       "    </tr>\n",
       "    <tr>\n",
       "      <th>498</th>\n",
       "      <td>-0.745837</td>\n",
       "      <td>1.314636</td>\n",
       "      <td>0.610026</td>\n",
       "      <td>0.625302</td>\n",
       "      <td>-0.379563</td>\n",
       "      <td>0.122249</td>\n",
       "      <td>-0.921667</td>\n",
       "      <td>0.110527</td>\n",
       "      <td>1.037149</td>\n",
       "      <td>-0.047804</td>\n",
       "      <td>-0.810428</td>\n",
       "      <td>0.887959</td>\n",
       "      <td>-1.136325</td>\n",
       "    </tr>\n",
       "    <tr>\n",
       "      <th>499</th>\n",
       "      <td>0.916857</td>\n",
       "      <td>0.227141</td>\n",
       "      <td>0.969131</td>\n",
       "      <td>1.101601</td>\n",
       "      <td>0.735233</td>\n",
       "      <td>2.761623</td>\n",
       "      <td>1.513062</td>\n",
       "      <td>0.467229</td>\n",
       "      <td>0.354938</td>\n",
       "      <td>1.780300</td>\n",
       "      <td>-0.502909</td>\n",
       "      <td>0.440301</td>\n",
       "      <td>0.526876</td>\n",
       "    </tr>\n",
       "  </tbody>\n",
       "</table>\n",
       "<p>500 rows × 13 columns</p>\n",
       "</div>"
      ],
      "text/plain": [
       "          age  player_height  player_weight        gp       pts       reb  \\\n",
       "0    2.342023       0.499014       0.250921  0.664993 -0.895364  0.247934   \n",
       "1    1.391912      -4.394712      -2.945117  0.307769 -0.446118 -0.589963   \n",
       "2   -0.033254      -0.860354      -0.467290 -0.684522  1.733558  0.834461   \n",
       "3   -1.458420      -0.588480      -0.108185 -0.446372 -0.978558 -0.967016   \n",
       "4   -0.983365       1.586509       1.687342 -1.081438 -0.845448 -0.087225   \n",
       "..        ...            ...            ...       ...       ...       ...   \n",
       "495  0.204274      -0.044733       0.179099  1.101601  2.232720  3.431940   \n",
       "496  0.204274      -0.044733       0.466384  0.982526  0.735233  0.331723   \n",
       "497 -0.983365       0.770888       0.179099 -0.287605 -0.612505 -0.422384   \n",
       "498 -0.745837       1.314636       0.610026  0.625302 -0.379563  0.122249   \n",
       "499  0.916857       0.227141       0.969131  1.101601  0.735233  2.761623   \n",
       "\n",
       "          ast  net_rating  oreb_pct  dreb_pct   usg_pct    ts_pct   ast_pct  \n",
       "0   -0.617326   -0.186725  0.684281  1.609449 -1.425465 -0.172796 -0.614537  \n",
       "1    2.243481   -0.458498 -0.821288 -1.175420 -1.137166 -0.143601  2.374878  \n",
       "2    2.121745    0.730509 -0.868337  0.191387  1.726603  0.119155  1.353041  \n",
       "3   -0.373853   -0.101796 -0.586043 -0.474931 -0.329929 -1.038917  0.526876  \n",
       "4   -0.860798   -0.407541  0.331414  1.336088 -1.463905  0.430569 -0.962396  \n",
       "..        ...         ...       ...       ...       ...       ...       ...  \n",
       "495  0.052225    0.857903  0.731330  1.626534  0.650287  0.819837 -0.625407  \n",
       "496 -0.069512   -0.161246 -0.021454 -0.321165  0.861706 -0.163064 -0.288419  \n",
       "497 -0.739062    0.271892  0.754855  0.328068 -0.272270  0.284594 -0.581925  \n",
       "498 -0.921667    0.110527  1.037149 -0.047804 -0.810428  0.887959 -1.136325  \n",
       "499  1.513062    0.467229  0.354938  1.780300 -0.502909  0.440301  0.526876  \n",
       "\n",
       "[500 rows x 13 columns]"
      ]
     },
     "execution_count": 182,
     "metadata": {},
     "output_type": "execute_result"
    }
   ],
   "source": [
    "# karena X dilatih pakai data skala, maka di uji cobanya juga harus pakai skala.\n",
    "stdscaler.fit(X_new)\n",
    "scaled_features_new = stdscaler.transform(X_new)\n",
    "scaled_features_new\n",
    "\n",
    "df_stdscaled_new = pd.DataFrame(scaled_features_new, columns=X.columns)\n",
    "df_stdscaled_new"
   ]
  },
  {
   "cell_type": "code",
   "execution_count": 192,
   "metadata": {},
   "outputs": [
    {
     "name": "stdout",
     "output_type": "stream",
     "text": [
      "[0 0 1 0 0 0 0 1 0 0 0 0 0 0 0 0 0 0 0 0 0 0 0 0 0 0 0 0 0 0 0 1 0 0 0 0 0\n",
      " 0 0 0 0 0 0 0 0 0 0 0 0 0 0 0 0 0 0 0 0 0 0 0 0 0 1 0 0 0 0 0 0 0 0 0 1 0\n",
      " 0 0 0 0 0 0 0 0 0 0 0 0 0 0 0 0 0 0 0 0 0 0 0 0 0 0 0 0 0 0 0 0 0 0 0 0 0\n",
      " 0 0 0 0 0 0 0 0 0 0 0 0 0 0 0 0 0 0 0 0 0 0 0 0 0 0 0 0 0 0 0 0 0 0 0 0 0\n",
      " 0 0 0 1 0 1 0 0 0 0 0 0 0 0 0 0 0 1 0 0 0 0 0 0 0 0 0 0 0 0 0 0 0 0 0 0 1\n",
      " 0 0 0 0 0 0 0 0 0 0 0 0 0 0 0 0 0 0 0 0 0 0 0 0 0 0 0 0 0 0 0 0 0 0 0 0 0\n",
      " 0 0 1 0 0 0 0 0 0 0 0 0 0 0 0 1 0 0 0 0 0 0 0 0 0 0 0 1 0 0 0 0 0 0 0 0 0\n",
      " 0 0 0 0 0 0 0 0 0 0 0 0 0 0 0 0 0 0 0 0 0 0 0 0 0 0 0 0 1 0 0 0 0 0 0 0 0\n",
      " 0 0 0 0 0 0 0 0 0 0 0 0 0 0 0 0 0 0 0 0 0 0 0 0 0 0 0 0 0 0 0 0 0 0 0 0 0\n",
      " 0 0 0 0 0 0 0 0 0 0 0 0 0 0 0 0 0 0 0 0 0 0 0 0 0 0 0 0 0 0 0 0 0 0 0 0 0\n",
      " 0 0 0 0 0 0 0 0 0 0 0 0 0 0 0 0 0 0 0 0 0 0 0 0 0 0 0 0 0 0 0 0 0 0 0 0 0\n",
      " 0 0 0 0 0 0 1 0 0 0 0 0 0 0 0 0 0 0 0 0 0 0 0 0 0 0 0 0 0 0 0 0 1 0 0 0 0\n",
      " 0 0 0 0 0 0 0 0 0 0 0 0 0 0 0 0 0 0 0 0 0 0 1 0 0 0 0 0 0 0 0 0 0 0 0 0 0\n",
      " 0 0 0 0 0 0 0 0 0 0 0 0 0 0 0 0 0 0 0]\n"
     ]
    }
   ],
   "source": [
    "gbc_ros_pred_new = gbc_ros.predict(df_stdscaled_new)\n",
    "gbc_ros_proba_new = gbc_ros.predict_proba(df_stdscaled_new)\n",
    "\n",
    "print(gbc_ros_pred_new)"
   ]
  },
  {
   "cell_type": "code",
   "execution_count": 193,
   "metadata": {},
   "outputs": [
    {
     "data": {
      "text/html": [
       "<div>\n",
       "<style scoped>\n",
       "    .dataframe tbody tr th:only-of-type {\n",
       "        vertical-align: middle;\n",
       "    }\n",
       "\n",
       "    .dataframe tbody tr th {\n",
       "        vertical-align: top;\n",
       "    }\n",
       "\n",
       "    .dataframe thead th {\n",
       "        text-align: right;\n",
       "    }\n",
       "</style>\n",
       "<table border=\"1\" class=\"dataframe\">\n",
       "  <thead>\n",
       "    <tr style=\"text-align: right;\">\n",
       "      <th></th>\n",
       "      <th>Unnamed: 0</th>\n",
       "      <th>player_id</th>\n",
       "      <th>age</th>\n",
       "      <th>player_height</th>\n",
       "      <th>player_weight</th>\n",
       "      <th>college</th>\n",
       "      <th>country</th>\n",
       "      <th>gp</th>\n",
       "      <th>pts</th>\n",
       "      <th>reb</th>\n",
       "      <th>ast</th>\n",
       "      <th>net_rating</th>\n",
       "      <th>oreb_pct</th>\n",
       "      <th>dreb_pct</th>\n",
       "      <th>usg_pct</th>\n",
       "      <th>ts_pct</th>\n",
       "      <th>ast_pct</th>\n",
       "      <th>potential_player_prediction</th>\n",
       "    </tr>\n",
       "  </thead>\n",
       "  <tbody>\n",
       "    <tr>\n",
       "      <th>0</th>\n",
       "      <td>0</td>\n",
       "      <td>1</td>\n",
       "      <td>37.0</td>\n",
       "      <td>205.74</td>\n",
       "      <td>104.326160</td>\n",
       "      <td>Texas Christian</td>\n",
       "      <td>USA</td>\n",
       "      <td>70</td>\n",
       "      <td>3.0</td>\n",
       "      <td>4.2</td>\n",
       "      <td>0.7</td>\n",
       "      <td>-5.2</td>\n",
       "      <td>0.084</td>\n",
       "      <td>0.237</td>\n",
       "      <td>0.114</td>\n",
       "      <td>0.489</td>\n",
       "      <td>0.069</td>\n",
       "      <td>0</td>\n",
       "    </tr>\n",
       "    <tr>\n",
       "      <th>1</th>\n",
       "      <td>1</td>\n",
       "      <td>2</td>\n",
       "      <td>33.0</td>\n",
       "      <td>160.02</td>\n",
       "      <td>63.956472</td>\n",
       "      <td>Wake Forest</td>\n",
       "      <td>USA</td>\n",
       "      <td>61</td>\n",
       "      <td>5.7</td>\n",
       "      <td>2.2</td>\n",
       "      <td>5.4</td>\n",
       "      <td>-8.4</td>\n",
       "      <td>0.020</td>\n",
       "      <td>0.074</td>\n",
       "      <td>0.129</td>\n",
       "      <td>0.492</td>\n",
       "      <td>0.344</td>\n",
       "      <td>0</td>\n",
       "    </tr>\n",
       "    <tr>\n",
       "      <th>2</th>\n",
       "      <td>2</td>\n",
       "      <td>3</td>\n",
       "      <td>27.0</td>\n",
       "      <td>193.04</td>\n",
       "      <td>95.254320</td>\n",
       "      <td>Indiana</td>\n",
       "      <td>USA</td>\n",
       "      <td>36</td>\n",
       "      <td>18.8</td>\n",
       "      <td>5.6</td>\n",
       "      <td>5.2</td>\n",
       "      <td>5.6</td>\n",
       "      <td>0.018</td>\n",
       "      <td>0.154</td>\n",
       "      <td>0.278</td>\n",
       "      <td>0.519</td>\n",
       "      <td>0.250</td>\n",
       "      <td>1</td>\n",
       "    </tr>\n",
       "    <tr>\n",
       "      <th>3</th>\n",
       "      <td>3</td>\n",
       "      <td>4</td>\n",
       "      <td>21.0</td>\n",
       "      <td>195.58</td>\n",
       "      <td>99.790240</td>\n",
       "      <td>Cincinnati</td>\n",
       "      <td>USA</td>\n",
       "      <td>42</td>\n",
       "      <td>2.5</td>\n",
       "      <td>1.3</td>\n",
       "      <td>1.1</td>\n",
       "      <td>-4.2</td>\n",
       "      <td>0.030</td>\n",
       "      <td>0.115</td>\n",
       "      <td>0.171</td>\n",
       "      <td>0.400</td>\n",
       "      <td>0.174</td>\n",
       "      <td>0</td>\n",
       "    </tr>\n",
       "    <tr>\n",
       "      <th>4</th>\n",
       "      <td>4</td>\n",
       "      <td>5</td>\n",
       "      <td>23.0</td>\n",
       "      <td>215.90</td>\n",
       "      <td>122.469840</td>\n",
       "      <td>None</td>\n",
       "      <td>USA</td>\n",
       "      <td>26</td>\n",
       "      <td>3.3</td>\n",
       "      <td>3.4</td>\n",
       "      <td>0.3</td>\n",
       "      <td>-7.8</td>\n",
       "      <td>0.069</td>\n",
       "      <td>0.221</td>\n",
       "      <td>0.112</td>\n",
       "      <td>0.551</td>\n",
       "      <td>0.037</td>\n",
       "      <td>0</td>\n",
       "    </tr>\n",
       "    <tr>\n",
       "      <th>...</th>\n",
       "      <td>...</td>\n",
       "      <td>...</td>\n",
       "      <td>...</td>\n",
       "      <td>...</td>\n",
       "      <td>...</td>\n",
       "      <td>...</td>\n",
       "      <td>...</td>\n",
       "      <td>...</td>\n",
       "      <td>...</td>\n",
       "      <td>...</td>\n",
       "      <td>...</td>\n",
       "      <td>...</td>\n",
       "      <td>...</td>\n",
       "      <td>...</td>\n",
       "      <td>...</td>\n",
       "      <td>...</td>\n",
       "      <td>...</td>\n",
       "      <td>...</td>\n",
       "    </tr>\n",
       "    <tr>\n",
       "      <th>495</th>\n",
       "      <td>495</td>\n",
       "      <td>496</td>\n",
       "      <td>28.0</td>\n",
       "      <td>200.66</td>\n",
       "      <td>103.418976</td>\n",
       "      <td>Nevada-Las Vegas</td>\n",
       "      <td>USA</td>\n",
       "      <td>81</td>\n",
       "      <td>21.8</td>\n",
       "      <td>11.8</td>\n",
       "      <td>1.8</td>\n",
       "      <td>7.1</td>\n",
       "      <td>0.086</td>\n",
       "      <td>0.238</td>\n",
       "      <td>0.222</td>\n",
       "      <td>0.591</td>\n",
       "      <td>0.068</td>\n",
       "      <td>0</td>\n",
       "    </tr>\n",
       "    <tr>\n",
       "      <th>496</th>\n",
       "      <td>496</td>\n",
       "      <td>497</td>\n",
       "      <td>28.0</td>\n",
       "      <td>200.66</td>\n",
       "      <td>107.047712</td>\n",
       "      <td>California</td>\n",
       "      <td>USA</td>\n",
       "      <td>78</td>\n",
       "      <td>12.8</td>\n",
       "      <td>4.4</td>\n",
       "      <td>1.6</td>\n",
       "      <td>-4.9</td>\n",
       "      <td>0.054</td>\n",
       "      <td>0.124</td>\n",
       "      <td>0.233</td>\n",
       "      <td>0.490</td>\n",
       "      <td>0.099</td>\n",
       "      <td>0</td>\n",
       "    </tr>\n",
       "    <tr>\n",
       "      <th>497</th>\n",
       "      <td>497</td>\n",
       "      <td>498</td>\n",
       "      <td>23.0</td>\n",
       "      <td>208.28</td>\n",
       "      <td>103.418976</td>\n",
       "      <td>Wisconsin</td>\n",
       "      <td>USA</td>\n",
       "      <td>46</td>\n",
       "      <td>4.7</td>\n",
       "      <td>2.6</td>\n",
       "      <td>0.5</td>\n",
       "      <td>0.2</td>\n",
       "      <td>0.087</td>\n",
       "      <td>0.162</td>\n",
       "      <td>0.174</td>\n",
       "      <td>0.536</td>\n",
       "      <td>0.072</td>\n",
       "      <td>0</td>\n",
       "    </tr>\n",
       "    <tr>\n",
       "      <th>498</th>\n",
       "      <td>498</td>\n",
       "      <td>499</td>\n",
       "      <td>24.0</td>\n",
       "      <td>213.36</td>\n",
       "      <td>108.862080</td>\n",
       "      <td>DePaul</td>\n",
       "      <td>USA</td>\n",
       "      <td>69</td>\n",
       "      <td>6.1</td>\n",
       "      <td>3.9</td>\n",
       "      <td>0.2</td>\n",
       "      <td>-1.7</td>\n",
       "      <td>0.099</td>\n",
       "      <td>0.140</td>\n",
       "      <td>0.146</td>\n",
       "      <td>0.598</td>\n",
       "      <td>0.021</td>\n",
       "      <td>0</td>\n",
       "    </tr>\n",
       "    <tr>\n",
       "      <th>499</th>\n",
       "      <td>499</td>\n",
       "      <td>500</td>\n",
       "      <td>31.0</td>\n",
       "      <td>203.20</td>\n",
       "      <td>113.398000</td>\n",
       "      <td>Tennessee State</td>\n",
       "      <td>USA</td>\n",
       "      <td>81</td>\n",
       "      <td>12.8</td>\n",
       "      <td>10.2</td>\n",
       "      <td>4.2</td>\n",
       "      <td>2.5</td>\n",
       "      <td>0.070</td>\n",
       "      <td>0.247</td>\n",
       "      <td>0.162</td>\n",
       "      <td>0.552</td>\n",
       "      <td>0.174</td>\n",
       "      <td>0</td>\n",
       "    </tr>\n",
       "  </tbody>\n",
       "</table>\n",
       "<p>500 rows × 18 columns</p>\n",
       "</div>"
      ],
      "text/plain": [
       "     Unnamed: 0  player_id   age  player_height  player_weight  \\\n",
       "0             0          1  37.0         205.74     104.326160   \n",
       "1             1          2  33.0         160.02      63.956472   \n",
       "2             2          3  27.0         193.04      95.254320   \n",
       "3             3          4  21.0         195.58      99.790240   \n",
       "4             4          5  23.0         215.90     122.469840   \n",
       "..          ...        ...   ...            ...            ...   \n",
       "495         495        496  28.0         200.66     103.418976   \n",
       "496         496        497  28.0         200.66     107.047712   \n",
       "497         497        498  23.0         208.28     103.418976   \n",
       "498         498        499  24.0         213.36     108.862080   \n",
       "499         499        500  31.0         203.20     113.398000   \n",
       "\n",
       "              college country  gp   pts   reb  ast  net_rating  oreb_pct  \\\n",
       "0     Texas Christian     USA  70   3.0   4.2  0.7        -5.2     0.084   \n",
       "1         Wake Forest     USA  61   5.7   2.2  5.4        -8.4     0.020   \n",
       "2             Indiana     USA  36  18.8   5.6  5.2         5.6     0.018   \n",
       "3          Cincinnati     USA  42   2.5   1.3  1.1        -4.2     0.030   \n",
       "4                None     USA  26   3.3   3.4  0.3        -7.8     0.069   \n",
       "..                ...     ...  ..   ...   ...  ...         ...       ...   \n",
       "495  Nevada-Las Vegas     USA  81  21.8  11.8  1.8         7.1     0.086   \n",
       "496        California     USA  78  12.8   4.4  1.6        -4.9     0.054   \n",
       "497         Wisconsin     USA  46   4.7   2.6  0.5         0.2     0.087   \n",
       "498            DePaul     USA  69   6.1   3.9  0.2        -1.7     0.099   \n",
       "499   Tennessee State     USA  81  12.8  10.2  4.2         2.5     0.070   \n",
       "\n",
       "     dreb_pct  usg_pct  ts_pct  ast_pct  potential_player_prediction  \n",
       "0       0.237    0.114   0.489    0.069                            0  \n",
       "1       0.074    0.129   0.492    0.344                            0  \n",
       "2       0.154    0.278   0.519    0.250                            1  \n",
       "3       0.115    0.171   0.400    0.174                            0  \n",
       "4       0.221    0.112   0.551    0.037                            0  \n",
       "..        ...      ...     ...      ...                          ...  \n",
       "495     0.238    0.222   0.591    0.068                            0  \n",
       "496     0.124    0.233   0.490    0.099                            0  \n",
       "497     0.162    0.174   0.536    0.072                            0  \n",
       "498     0.140    0.146   0.598    0.021                            0  \n",
       "499     0.247    0.162   0.552    0.174                            0  \n",
       "\n",
       "[500 rows x 18 columns]"
      ]
     },
     "execution_count": 193,
     "metadata": {},
     "output_type": "execute_result"
    }
   ],
   "source": [
    "df_new_players['potential_player_prediction'] = gbc_ros_pred_new\n",
    "df_new_players"
   ]
  },
  {
   "cell_type": "code",
   "execution_count": 194,
   "metadata": {},
   "outputs": [
    {
     "data": {
      "image/png": "[encoded data removed]",
      "text/plain": [
       "<Figure size 432x288 with 1 Axes>"
      ]
     },
     "metadata": {},
     "output_type": "display_data"
    },
    {
     "data": {
      "text/plain": [
       "[484, 16]"
      ]
     },
     "metadata": {},
     "output_type": "display_data"
    }
   ],
   "source": [
    "sizes = [len(df_new_players[df_new_players['potential_player_prediction']==False]), len(df_new_players[df_new_players['potential_player_prediction']==True])]\n",
    "labels = ['No potential_player_prediction', 'potential_player_prediction']\n",
    "plt.pie(sizes, labels=labels, autopct='%1.1f%%', startangle=90)\n",
    "plt.show()\n",
    "display(sizes)"
   ]
  }
 ],
 "metadata": {
  "kernelspec": {
   "display_name": "Python 3",
   "language": "python",
   "name": "python3"
  },
  "language_info": {
   "codemirror_mode": {
    "name": "ipython",
    "version": 3
   },
   "file_extension": ".py",
   "mimetype": "text/x-python",
   "name": "python",
   "nbconvert_exporter": "python",
   "pygments_lexer": "ipython3",
   "version": "3.7.6"
  }
 },
 "nbformat": 4,
 "nbformat_minor": 4
}
